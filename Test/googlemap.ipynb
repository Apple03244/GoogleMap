{
 "cells": [
  {
   "cell_type": "markdown",
   "metadata": {},
   "source": [
    "### URL parsing"
   ]
  },
  {
   "cell_type": "code",
   "execution_count": 190,
   "metadata": {},
   "outputs": [
    {
     "name": "stdout",
     "output_type": "stream",
     "text": [
      "%EA%B0%95%EB%82%A8%EC%97%AD%20%EB%A7%9B%EC%A7%91\n"
     ]
    }
   ],
   "source": [
    "import urllib.parse\n",
    "\n",
    "# 한글 문자열\n",
    "text = \"강남역 맛집\"\n",
    "\n",
    "# URL 인코딩\n",
    "encoded_text = urllib.parse.quote(text)\n",
    "\n",
    "base_path=f\"https://www.google.co.kr/maps/search/{encoded_text}\"\n",
    "\n",
    "print(encoded_text)"
   ]
  },
  {
   "cell_type": "markdown",
   "metadata": {},
   "source": [
    "### googlemap_info"
   ]
  },
  {
   "cell_type": "code",
   "execution_count": 2,
   "metadata": {},
   "outputs": [
    {
     "name": "stderr",
     "output_type": "stream",
     "text": [
      "/Users/ijeonghun/Documents/github/GoogleMap/googlemap/lib/python3.9/site-packages/urllib3/__init__.py:35: NotOpenSSLWarning: urllib3 v2 only supports OpenSSL 1.1.1+, currently the 'ssl' module is compiled with 'LibreSSL 2.8.3'. See: https://github.com/urllib3/urllib3/issues/3020\n",
      "  warnings.warn(\n"
     ]
    }
   ],
   "source": [
    "import selenium\n",
    "from selenium.webdriver import Chrome\n",
    "from selenium.webdriver.support.wait import WebDriverWait\n",
    "from selenium.webdriver.support.select import By\n",
    "from selenium.webdriver.common.keys import Keys\n",
    "from selenium.webdriver.support.expected_conditions import visibility_of_all_elements_located,presence_of_element_located,presence_of_all_elements_located\n",
    "\n",
    "# 레스토랑 db insert 기초 틀\n",
    "def restuarant_properties(search_term,restaurant_name,url,address,rating,category,**kwrargs):\n",
    "    \n",
    "    properties={\"검색어\" : {\"rich_text\" : [{\"text\": {\"content\": search_term}}]},\n",
    "                \"음식점이름\" : {\"title\" : [{\"text\" : {'content': restaurant_name}}]},\n",
    "                \"URL\" : {\"url\" : url},\n",
    "                \"주소\" : {\"rich_text\" : [{\"text\": {\"content\": address}}]},\n",
    "                \"별점\" : {\"number\" : rating},\n",
    "                \"카테고리\" : {\"rich_text\" : [{\"text\": {\"content\": category}}]}\n",
    "                }\n",
    "    return properties\n",
    "\n",
    "# 리뷰 db insert 기초 틀\n",
    "def review_properties(restaurant_name,user,review,**kwargs):\n",
    "\n",
    "    properties={\"음식점이름\" : {\"title\" : [{\"text\": {\"content\": restaurant_name}}]},\n",
    "                \"유저\" : {\"rich_text\" : [{\"text\": {\"content\": user}}]},\n",
    "                \"리뷰\" : {\"rich_text\" : [{\"text\": {\"content\": review}}]}\n",
    "                }\n",
    "    return properties\n",
    "\n",
    "\n",
    "info_num=20\n",
    "\n",
    "Main_Drive=Chrome()\n",
    "Main_Drive.get(base_path)\n",
    "Sub_Drive=Chrome()\n",
    "\n",
    "main_box=WebDriverWait(Main_Drive,3).until(\n",
    "    presence_of_element_located([By.XPATH, '//*[@role=\"feed\"]']))\n",
    "\n",
    "while True:\n",
    "    main_box.send_keys(Keys.PAGE_DOWN)\n",
    "\n",
    "    feed_box=WebDriverWait(Main_Drive,3).until(\n",
    "        visibility_of_all_elements_located([By.CLASS_NAME,\"hfpxzc\"]))\n",
    "    \n",
    "    if len(feed_box)>info_num:\n",
    "        break\n",
    "\n",
    "infos=[]\n",
    "\n",
    "for sub_feed in feed_box:\n",
    "    search_term=text #위의 코드 에서 가져옴 수정필요\n",
    "    restaurant_name=sub_feed.get_attribute(\"aria-label\")\n",
    "    url=sub_feed.get_attribute(\"href\")\n",
    "\n",
    "    infos.append(\n",
    "        restuarant_properties(search_term,restaurant_name,url,None,None,None)\n",
    "    )\n",
    "\n",
    "for sub_info in infos:\n",
    "    Sub_Drive.get(sub_info[\"URL\"])\n",
    "\n",
    "    #별점\n",
    "    rating=WebDriverWait(Sub_Drive,3).until(\n",
    "    presence_of_element_located([By.XPATH, '//*[@role=\"img\"]'])).get_attribute(\"aria-label\")\n",
    "    # 전처리해야함\n",
    "    rating=\"\".join([term for term in rating if not term.isalpha()]).strip()\n",
    "    rating=float(rating)\n",
    "\n",
    "    #음식점 카테고리\n",
    "    category=WebDriverWait(Sub_Drive,3).until(\n",
    "    presence_of_element_located([By.CSS_SELECTOR,'button.DkEaL'])).text\n",
    "\n",
    "    #정보선택칸\n",
    "    tabs=WebDriverWait(Sub_Drive,3).until(\n",
    "    presence_of_all_elements_located([By.XPATH, '//*[@role=\"tab\"]']))\n",
    "    tab_select={element.text:element for element in tabs}\n",
    "    \n",
    "    #하위 정보칸\n",
    "    info_region=WebDriverWait(Sub_Drive,3).until(\n",
    "    presence_of_element_located([By.XPATH, '//*[@role=\"region\"]']))\n",
    "    #주소\n",
    "    address=WebDriverWait(info_region,3).until(\n",
    "    presence_of_element_located([By.XPATH, '//*[@data-item-id=\"address\"]']))\n",
    "    "
   ]
  },
  {
   "cell_type": "code",
   "execution_count": 105,
   "metadata": {},
   "outputs": [],
   "source": [
    "Main_Drive=Chrome()\n",
    "Main_Drive.get(base_path)\n",
    "info_num=30\n",
    "#Sub_Drive=Chrome()\n",
    "\n",
    "main_box=WebDriverWait(Main_Drive,3).until(\n",
    "    presence_of_element_located([By.XPATH, '//*[@role=\"feed\"]']))\n",
    "\n",
    "while True:\n",
    "    main_box.send_keys(Keys.PAGE_DOWN)\n",
    "\n",
    "    feed_box=WebDriverWait(Main_Drive,3).until(\n",
    "        visibility_of_all_elements_located([By.CSS_SELECTOR,\"a.hfpxzc\"]))\n",
    "    \n",
    "    if len(feed_box)>info_num:\n",
    "        break\n",
    "\n",
    "infos=[]\n",
    "\n",
    "for sub_feed in feed_box:\n",
    "    search_term=text #위의 코드 에서 가져옴 수정필요\n",
    "    restaurant_name=sub_feed.get_attribute(\"aria-label\")\n",
    "    url=sub_feed.get_attribute(\"href\")\n",
    "\n",
    "    infos.append(\n",
    "        restuarant_properties(search_term,restaurant_name,url,None,None,None)\n",
    "    )"
   ]
  },
  {
   "cell_type": "code",
   "execution_count": 107,
   "metadata": {},
   "outputs": [],
   "source": [
    "Main_Drive.quit()"
   ]
  },
  {
   "cell_type": "code",
   "execution_count": 135,
   "metadata": {},
   "outputs": [],
   "source": [
    "from threading import Thread"
   ]
  },
  {
   "cell_type": "code",
   "execution_count": 750,
   "metadata": {},
   "outputs": [
    {
     "name": "stdout",
     "output_type": "stream",
     "text": [
      "Writing GooglemapCraw.py\n"
     ]
    }
   ],
   "source": [
    "%%writefile GooglemapCraw.py\n",
    "from selenium.webdriver import Chrome\n",
    "from selenium.webdriver.chrome.options import Options\n",
    "from selenium.webdriver.remote.webelement import WebElement\n",
    "import urllib.parse\n",
    "from selenium.webdriver.common.keys import Keys\n",
    "from selenium.webdriver.support.expected_conditions import visibility_of_all_elements_located,presence_of_element_located,presence_of_all_elements_located\n",
    "from threading import Thread\n",
    "from typing import List,Dict\n",
    "\n",
    "class GooglemapCraw():\n",
    "    def  __init__(self,search_term,craw_num:int,review_num:int=100,thread_num:int=1,optional:bool=True):\n",
    "\n",
    "        # Chrome 옵션 설정\n",
    "        self.chrome_options = Options()\n",
    "        if optional:\n",
    "            self.chrome_options.add_argument(\"--headless\")  # Headless 모드\n",
    "        else:\n",
    "            pass\n",
    "\n",
    "        self.main_drive=Chrome(options=self.chrome_options) # url까지 크롤\n",
    "        self.craw_num=craw_num\n",
    "        self.search_term=search_term\n",
    "        self.infos=[] # 레스토랑 저장공간\n",
    "        self.reviews=[] #리뷰 저장공간\n",
    "        self.thread_num=thread_num\n",
    "        self.review_num=review_num\n",
    "\n",
    "        encoded_text = urllib.parse.quote(self.search_term)\n",
    "        self.base_path=f\"https://www.google.co.kr/maps/search/{encoded_text}\" # 크롤링이 될 주소(파싱될 예정)\n",
    "        pass\n",
    "\n",
    "    def __restuarant_properties(self,search_term,restaurant_name,url,address,rating,category,**kwrargs):\n",
    "    \n",
    "        properties={\"검색어\" : {\"rich_text\" : [{\"text\": {\"content\": search_term}}]},\n",
    "                \"음식점이름\" : {\"title\" : [{\"text\" : {'content': restaurant_name}}]},\n",
    "                \"URL\" : {\"url\" : url},\n",
    "                \"주소\" : {\"rich_text\" : [{\"text\": {\"content\": address}}]},\n",
    "                \"별점\" : {\"number\" : rating},\n",
    "                \"카테고리\" : {\"rich_text\" : [{\"text\": {\"content\": category}}]}\n",
    "                }\n",
    "        return properties\n",
    "\n",
    "    # 리뷰 db insert 기초 틀\n",
    "    def __review_properties(self,restaurant_name,user,review,**kwargs):\n",
    "\n",
    "        properties={\"음식점이름\" : {\"title\" : [{\"text\": {\"content\": restaurant_name}}]},\n",
    "                    \"유저\" : {\"rich_text\" : [{\"text\": {\"content\": user}}]},\n",
    "                    \"리뷰\" : {\"rich_text\" : [{\"text\": {\"content\": review}}]}\n",
    "                    }\n",
    "        return properties\n",
    "    \n",
    "    # 멀티 스래딩 적용 \n",
    "    def __crawras(self,sub_info_list:List[Dict],**kwargs):\n",
    "        sub_drive=Chrome(options=self.chrome_options)\n",
    "        for sub_info in sub_info_list:\n",
    "            sub_drive.get(sub_info[\"url\"])\n",
    "\n",
    "            #별점\n",
    "            rating=WebDriverWait(sub_drive,3).until(\n",
    "            presence_of_element_located([By.XPATH, '//*[@role=\"img\"]'])).get_attribute(\"aria-label\")\n",
    "            #전처리\n",
    "            rating=\"\".join([term for term in rating if not term.isalpha()]).strip()\n",
    "            rating=float(rating)\n",
    "\n",
    "            #음식점 카테고리\n",
    "            category=WebDriverWait(sub_drive,3).until(\n",
    "            presence_of_element_located([By.XPATH,\"//button[contains(@jsaction,'category')]\"])).text\n",
    "            \n",
    "            #하위 정보칸\n",
    "            info_region=WebDriverWait(sub_drive,3).until(\n",
    "            presence_of_element_located([By.XPATH, '//*[@role=\"region\"]']))\n",
    "            #주소\n",
    "            address=WebDriverWait(info_region,3).until(\n",
    "            presence_of_element_located([By.XPATH,'//button[@data-item-id=\"address\"]'])).get_attribute(\"aria-label\").replace(\"주소 :\",\"\").strip()\n",
    "\n",
    "            sub_info.update(\n",
    "                {\"address\":address,\n",
    "                \"rating\":rating,\n",
    "                \"category\":category}\n",
    "            )\n",
    "        sub_drive.quit()\n",
    "    \n",
    "    # 구글 리뷰 선택 평가(표의 형태로 변동성이 큰 리뷰 틀)\n",
    "    def __subrevtable(self,sub_review:WebElement):\n",
    "        splited_table={}\n",
    "        try:\n",
    "            reviewer_table=WebDriverWait(sub_review,3).until(\n",
    "                    presence_of_all_elements_located([By.XPATH,\".//div[@jslog]/div[contains(@jslog,'metadata')]\"]))\n",
    "            #구분자 설정\n",
    "            def spliter(text:str):\n",
    "                split_txt=\"\\n\" if \"\\n\" in text else \":\"\n",
    "                return text.split(split_txt)\n",
    "            for row in reviewer_table:\n",
    "                splited_table.update({key:value for key,value in [spliter(row.text)]})\n",
    "            \n",
    "        except:\n",
    "            pass\n",
    "\n",
    "        return splited_table\n",
    "\n",
    "\n",
    "    # 리뷰 크롤링 작업\n",
    "    def __crawrev(self,sub_info_list:List[Dict],**kwargs):\n",
    "        sub_drive=Chrome(options=self.chrome_options)\n",
    "        for sub_info in sub_info_list:\n",
    "            sub_drive.get(sub_info[\"url\"])\n",
    "\n",
    "            #정보선택칸\n",
    "            tabs=WebDriverWait(sub_drive,3).until(\n",
    "            presence_of_all_elements_located([By.XPATH, '//*[@role=\"tab\"]']))\n",
    "            tab_select={element.text.strip():element for element in tabs} \n",
    "\n",
    "            #리뷰 크롤링\n",
    "            tab_select[\"리뷰\"].click() #리뷰창으로 전환\n",
    "\n",
    "            #현재 리뷰 개수\n",
    "            total_review_num=WebDriverWait(sub_drive,3).until(\n",
    "            presence_of_element_located([By.XPATH,\"//div[contains(text(), '리뷰') and contains(@jslog,'metadata')]\"])).text\n",
    "            #전처리\n",
    "            total_review_num=int(\"\".join([term for term in total_review_num if term.isnumeric()]))\n",
    "\n",
    "            #스크롤가능한 바디찾기\n",
    "            candidate_list=WebDriverWait(sub_drive,3).until(\n",
    "                 presence_of_all_elements_located([By.XPATH,\"//div[contains(@jslog,'mutable')]\"]))\n",
    "            try:\n",
    "                scroll_body=[element for element in candidate_list \n",
    "                         if any([\"auto\" in element.value_of_css_property(\"overflow\"),\n",
    "                                 \"scroll\" in element.value_of_css_property(\"overflow\")])][0]\n",
    "            \n",
    "                while True: \n",
    "                    scroll_body.send_keys(Keys.PAGE_DOWN)\n",
    "\n",
    "                    #리뷰 각각의 객체\n",
    "                    review_box=WebDriverWait(sub_drive,3).until(\n",
    "                        presence_of_all_elements_located([By.XPATH\n",
    "                        ,\"//div[@data-review-id and contains(@jsaction,'review.out')]\"])) \n",
    "\n",
    "                    if (len(review_box)==total_review_num)or(len(review_box)>self.review_num):\n",
    "                        break\n",
    "            except:\n",
    "                review_box=WebDriverWait(sub_drive,3).until(\n",
    "                        presence_of_all_elements_located([By.XPATH\n",
    "                        ,\"//div[@data-review-id and contains(@jsaction,'review.out')]\"]))\n",
    "            # 리뷰 돌아가며 더보기 누르기(공통 작업)\n",
    "            for sub_review in review_box:\n",
    "                base_dict=sub_info.copy()\n",
    "                sub_drive.execute_script(\"arguments[0].scrollIntoView({behavior: 'smooth', block: 'center'});\", sub_review)\n",
    "\n",
    "                try:\n",
    "                    button=WebDriverWait(sub_review,3).until(\n",
    "                    presence_of_element_located([By.XPATH,\".//button[contains(text(),'자세히')]\"]))\n",
    "                    button.click()\n",
    "                except: # 리뷰가 짧으면 없음\n",
    "                    pass\n",
    "\n",
    "                #리뷰 유저 정보(이름, 주소)\n",
    "                reviewer_info=WebDriverWait(sub_review,3).until(\n",
    "                    presence_of_element_located([By.XPATH,\".//button[@aria-label and contains(@jsaction,'reviewerLink')]\"]))\n",
    "                \n",
    "                reviewer_name=reviewer_info.get_attribute(\"aria-label\").replace(\"사진\",\"\")\n",
    "                reviewer_href=reviewer_info.get_attribute(\"data-href\")\n",
    "\n",
    "                # 총합 별점\n",
    "                reviewer_total_rating=WebDriverWait(sub_review,3).until(\n",
    "                    presence_of_element_located([By.XPATH\n",
    "                    ,\".//span[@role='img' and contains(@aria-label,'별표')]\"])).get_attribute(\"aria-label\")\n",
    "                reviewer_total_rating=float(\"\".join([temp for temp in reviewer_total_rating if not temp.isalpha()]))\n",
    "\n",
    "                #리뷰 본문\n",
    "                reviewer_rev=WebDriverWait(sub_review,3).until(\n",
    "                    presence_of_element_located([By.XPATH,\".//div[@lang='ko']/span[not(@jslog)]\"])).text\n",
    "\n",
    "                #하위 리뷰 table 구조화\n",
    "                rev_sub_table=self.__subrevtable(sub_review)\n",
    "\n",
    "                base_dict.update(\n",
    "                    {\"user\":reviewer_name,\n",
    "                     \"user_url\":reviewer_href,\n",
    "                     \"review_total_rate\":reviewer_total_rating,\n",
    "                     \"review_text\":reviewer_rev,}\n",
    "                )\n",
    "                base_dict.update(rev_sub_table)\n",
    "\n",
    "                self.reviews.append(base_dict)\n",
    "                        \n",
    "        sub_drive.quit()\n",
    "        #return sub_info\n",
    "    \n",
    "    def craw_ras(self): # 기초정보 수집 -> 1개의 스래딩으로 충분\n",
    "        self.main_drive.get(self.base_path)\n",
    "        # 스크롤을 내리는 공간\n",
    "        main_box=WebDriverWait(self.main_drive,3).until(\n",
    "        presence_of_element_located([By.XPATH, '//*[@role=\"feed\"]']))\n",
    "\n",
    "        while True:\n",
    "            main_box.send_keys(Keys.PAGE_DOWN)\n",
    "\n",
    "            feed_box=WebDriverWait(self.main_drive,3).until(\n",
    "                 presence_of_all_elements_located([By.XPATH,\"//a[@href and @aria-label]\"]))\n",
    "            \n",
    "\n",
    "            if len(feed_box)>self.craw_num:\n",
    "                break\n",
    "        \n",
    "        for sub_feed in feed_box:\n",
    "            #음식점 이름\n",
    "            restaurant_name=sub_feed.get_attribute(\"aria-label\")\n",
    "            url=sub_feed.get_attribute(\"href\")\n",
    "\n",
    "            self.infos.append(\n",
    "                {\"search_term\":self.search_term,\n",
    "                 \"restaurant_name\":restaurant_name,\n",
    "                 \"url\":url}\n",
    "            )\n",
    "\n",
    "        self.main_drive.quit()\n",
    "\n",
    "        thread_list4ras=[]\n",
    "        m=len(self.infos)//self.thread_num\n",
    "        for n in range(self.thread_num):\n",
    "            kw=self.infos[n*m:(n+1)*m]\n",
    "            sub_thread4ras=Thread(target=self.__crawras,kwargs=({\"sub_info_list\":kw}))\n",
    "            thread_list4ras.append(sub_thread4ras)\n",
    "            sub_thread4ras.start()        \n",
    "                \n",
    "        for sub_thread in thread_list4ras:\n",
    "            sub_thread.join()\n",
    "\n",
    "    def craw_rev(self):\n",
    "        thread_list4rev=[]\n",
    "        for n in range(self.thread_num):\n",
    "            kw=self.infos[n*m:(n+1)*m]\n",
    "            sub_thread4rev=Thread(target=self.__crawrev,kwargs=({\"sub_info_list\":kw}))\n",
    "            thread_list4rev.append(sub_thread4rev)\n",
    "            sub_thread4rev.start()\n",
    "\n",
    "        for sub_thread in thread_list4rev:\n",
    "            sub_thread.join()\n",
    "\n"
   ]
  },
  {
   "cell_type": "code",
   "execution_count": 744,
   "metadata": {},
   "outputs": [],
   "source": [
    "test_class=GooglemapCraw(\"강남역 맛집\",20,10,2,False)"
   ]
  },
  {
   "cell_type": "code",
   "execution_count": 745,
   "metadata": {},
   "outputs": [],
   "source": [
    "test_class.craw_ras()"
   ]
  },
  {
   "cell_type": "code",
   "execution_count": 746,
   "metadata": {},
   "outputs": [
    {
     "name": "stderr",
     "output_type": "stream",
     "text": [
      "Exception in thread Thread-2922:\n",
      "Traceback (most recent call last):\n",
      "  File \"/Library/Developer/CommandLineTools/Library/Frameworks/Python3.framework/Versions/3.9/lib/python3.9/threading.py\", line 973, in _bootstrap_inner\n",
      "    self.run()\n",
      "  File \"/Users/ijeonghun/Documents/github/GoogleMap/googlemap/lib/python3.9/site-packages/ipykernel/ipkernel.py\", line 766, in run_closure\n",
      "    _threading_Thread_run(self)\n",
      "  File \"/Library/Developer/CommandLineTools/Library/Frameworks/Python3.framework/Versions/3.9/lib/python3.9/threading.py\", line 910, in run\n",
      "    self._target(*self._args, **self._kwargs)\n",
      "  File \"/var/folders/bv/d7dzvp616v1d6dz4vbkn7zw40000gn/T/ipykernel_5711/2287795330.py\", line 110, in __crawrev\n",
      "  File \"/Users/ijeonghun/Documents/github/GoogleMap/googlemap/lib/python3.9/site-packages/selenium/webdriver/support/wait.py\", line 105, in until\n",
      "    raise TimeoutException(message, screen, stacktrace)\n",
      "selenium.common.exceptions.TimeoutException: Message: \n",
      "\n"
     ]
    }
   ],
   "source": [
    "test_class.craw_rev()"
   ]
  },
  {
   "cell_type": "code",
   "execution_count": 749,
   "metadata": {},
   "outputs": [
    {
     "data": {
      "text/html": [
       "<div>\n",
       "<style scoped>\n",
       "    .dataframe tbody tr th:only-of-type {\n",
       "        vertical-align: middle;\n",
       "    }\n",
       "\n",
       "    .dataframe tbody tr th {\n",
       "        vertical-align: top;\n",
       "    }\n",
       "\n",
       "    .dataframe thead th {\n",
       "        text-align: right;\n",
       "    }\n",
       "</style>\n",
       "<table border=\"1\" class=\"dataframe\">\n",
       "  <thead>\n",
       "    <tr style=\"text-align: right;\">\n",
       "      <th></th>\n",
       "      <th>search_term</th>\n",
       "      <th>restaurant_name</th>\n",
       "      <th>url</th>\n",
       "      <th>address</th>\n",
       "      <th>rating</th>\n",
       "      <th>category</th>\n",
       "      <th>user</th>\n",
       "      <th>user_url</th>\n",
       "      <th>review_total_rate</th>\n",
       "      <th>review_text</th>\n",
       "      <th>서비스</th>\n",
       "      <th>식사 유형</th>\n",
       "      <th>1인당 가격</th>\n",
       "      <th>음식</th>\n",
       "      <th>분위기</th>\n",
       "      <th>추천 요리</th>\n",
       "      <th>유아 동반 환경</th>\n",
       "      <th>주차 공간</th>\n",
       "      <th>주차 옵션</th>\n",
       "      <th>주차</th>\n",
       "      <th>소음 수준</th>\n",
       "      <th>대기 시간</th>\n",
       "    </tr>\n",
       "  </thead>\n",
       "  <tbody>\n",
       "    <tr>\n",
       "      <th>0</th>\n",
       "      <td>강남역 맛집</td>\n",
       "      <td>바비레드 강남본점</td>\n",
       "      <td>https://www.google.co.kr/maps/place/%EB%B0%94%...</td>\n",
       "      <td>주소: 서울특별시 강남구 봉은사로6길 39, 지하 바비레드</td>\n",
       "      <td>4.3</td>\n",
       "      <td>퓨전 음식점</td>\n",
       "      <td>Zion Y</td>\n",
       "      <td>https://www.google.com/maps/contrib/1144267992...</td>\n",
       "      <td>2.0</td>\n",
       "      <td>주말 저녁에도 빈 자리가 많다.\\n인근에 비해선 싸지만 그래도 부담스런 가격이다.\\...</td>\n",
       "      <td>2</td>\n",
       "      <td>저녁 식사</td>\n",
       "      <td>₩10,000~20,000</td>\n",
       "      <td>3</td>\n",
       "      <td>2</td>\n",
       "      <td>NaN</td>\n",
       "      <td>NaN</td>\n",
       "      <td>NaN</td>\n",
       "      <td>NaN</td>\n",
       "      <td>NaN</td>\n",
       "      <td>NaN</td>\n",
       "      <td>NaN</td>\n",
       "    </tr>\n",
       "    <tr>\n",
       "      <th>1</th>\n",
       "      <td>강남역 맛집</td>\n",
       "      <td>바비레드 강남본점</td>\n",
       "      <td>https://www.google.co.kr/maps/place/%EB%B0%94%...</td>\n",
       "      <td>주소: 서울특별시 강남구 봉은사로6길 39, 지하 바비레드</td>\n",
       "      <td>4.3</td>\n",
       "      <td>퓨전 음식점</td>\n",
       "      <td>SANGYON LEE</td>\n",
       "      <td>https://www.google.com/maps/contrib/1039646889...</td>\n",
       "      <td>5.0</td>\n",
       "      <td>화이트 칼라의 내부에 커다란 샹그리아가 반겨주고, 밝은 모습으로 반겨주는 직원들.....</td>\n",
       "      <td>5</td>\n",
       "      <td>점심 식사</td>\n",
       "      <td>₩20,000~30,000</td>\n",
       "      <td>5</td>\n",
       "      <td>4</td>\n",
       "      <td>스테이크 샐러드</td>\n",
       "      <td>NaN</td>\n",
       "      <td>NaN</td>\n",
       "      <td>NaN</td>\n",
       "      <td>NaN</td>\n",
       "      <td>NaN</td>\n",
       "      <td>NaN</td>\n",
       "    </tr>\n",
       "    <tr>\n",
       "      <th>2</th>\n",
       "      <td>강남역 맛집</td>\n",
       "      <td>바비레드 강남본점</td>\n",
       "      <td>https://www.google.co.kr/maps/place/%EB%B0%94%...</td>\n",
       "      <td>주소: 서울특별시 강남구 봉은사로6길 39, 지하 바비레드</td>\n",
       "      <td>4.3</td>\n",
       "      <td>퓨전 음식점</td>\n",
       "      <td>노시경TV - Earth Traveller</td>\n",
       "      <td>https://www.google.com/maps/contrib/1090239660...</td>\n",
       "      <td>3.0</td>\n",
       "      <td>가성비는 좋은 편이나 음식의 맛은 평범합니다. 바비 스테이크의 고기는 육즙이 많지 ...</td>\n",
       "      <td>4</td>\n",
       "      <td>저녁 식사</td>\n",
       "      <td>₩10,000~20,000</td>\n",
       "      <td>3</td>\n",
       "      <td>3</td>\n",
       "      <td>NaN</td>\n",
       "      <td>NaN</td>\n",
       "      <td>NaN</td>\n",
       "      <td>NaN</td>\n",
       "      <td>NaN</td>\n",
       "      <td>NaN</td>\n",
       "      <td>NaN</td>\n",
       "    </tr>\n",
       "    <tr>\n",
       "      <th>3</th>\n",
       "      <td>강남역 맛집</td>\n",
       "      <td>바비레드 강남본점</td>\n",
       "      <td>https://www.google.co.kr/maps/place/%EB%B0%94%...</td>\n",
       "      <td>주소: 서울특별시 강남구 봉은사로6길 39, 지하 바비레드</td>\n",
       "      <td>4.3</td>\n",
       "      <td>퓨전 음식점</td>\n",
       "      <td>문지완</td>\n",
       "      <td>https://www.google.com/maps/contrib/1131087201...</td>\n",
       "      <td>5.0</td>\n",
       "      <td>여자친구랑 데이트로 왔는데 생각보다 너무 맛있고 분위기도 좋아서 만족스럽습니다 :)...</td>\n",
       "      <td>5</td>\n",
       "      <td>저녁 식사</td>\n",
       "      <td>₩60,000~70,000</td>\n",
       "      <td>5</td>\n",
       "      <td>5</td>\n",
       "      <td>레드크림스튜, 레드밥추가, 스테이크 샐러드</td>\n",
       "      <td>NaN</td>\n",
       "      <td>NaN</td>\n",
       "      <td>NaN</td>\n",
       "      <td>NaN</td>\n",
       "      <td>NaN</td>\n",
       "      <td>NaN</td>\n",
       "    </tr>\n",
       "    <tr>\n",
       "      <th>4</th>\n",
       "      <td>강남역 맛집</td>\n",
       "      <td>바비레드 강남본점</td>\n",
       "      <td>https://www.google.co.kr/maps/place/%EB%B0%94%...</td>\n",
       "      <td>주소: 서울특별시 강남구 봉은사로6길 39, 지하 바비레드</td>\n",
       "      <td>4.3</td>\n",
       "      <td>퓨전 음식점</td>\n",
       "      <td>food_dairy bang</td>\n",
       "      <td>https://www.google.com/maps/contrib/1067809902...</td>\n",
       "      <td>4.0</td>\n",
       "      <td>한식과 조화를 이루는 파스타가 매력적이였고 레드밥이랑 파스타에 비벼 먹는 것도 아주...</td>\n",
       "      <td>4</td>\n",
       "      <td>저녁 식사</td>\n",
       "      <td>₩20,000~30,000</td>\n",
       "      <td>4</td>\n",
       "      <td>4</td>\n",
       "      <td>NaN</td>\n",
       "      <td>NaN</td>\n",
       "      <td>NaN</td>\n",
       "      <td>NaN</td>\n",
       "      <td>NaN</td>\n",
       "      <td>NaN</td>\n",
       "      <td>NaN</td>\n",
       "    </tr>\n",
       "    <tr>\n",
       "      <th>...</th>\n",
       "      <td>...</td>\n",
       "      <td>...</td>\n",
       "      <td>...</td>\n",
       "      <td>...</td>\n",
       "      <td>...</td>\n",
       "      <td>...</td>\n",
       "      <td>...</td>\n",
       "      <td>...</td>\n",
       "      <td>...</td>\n",
       "      <td>...</td>\n",
       "      <td>...</td>\n",
       "      <td>...</td>\n",
       "      <td>...</td>\n",
       "      <td>...</td>\n",
       "      <td>...</td>\n",
       "      <td>...</td>\n",
       "      <td>...</td>\n",
       "      <td>...</td>\n",
       "      <td>...</td>\n",
       "      <td>...</td>\n",
       "      <td>...</td>\n",
       "      <td>...</td>\n",
       "    </tr>\n",
       "    <tr>\n",
       "      <th>395</th>\n",
       "      <td>강남역 맛집</td>\n",
       "      <td>무월식탁 강남본점</td>\n",
       "      <td>https://www.google.co.kr/maps/place/%EB%AC%B4%...</td>\n",
       "      <td>주소: 서울특별시 강남구 강남대로102길 23</td>\n",
       "      <td>3.8</td>\n",
       "      <td>음식점</td>\n",
       "      <td>Sarah Y</td>\n",
       "      <td>https://www.google.com/maps/contrib/1149391605...</td>\n",
       "      <td>4.0</td>\n",
       "      <td>분위기가 좋습니다. 한식집이나 분위기는 트렌디한 외국 펍 느낌입니다. 가격도 합리적...</td>\n",
       "      <td>NaN</td>\n",
       "      <td>NaN</td>\n",
       "      <td>NaN</td>\n",
       "      <td>NaN</td>\n",
       "      <td>NaN</td>\n",
       "      <td>NaN</td>\n",
       "      <td>NaN</td>\n",
       "      <td>NaN</td>\n",
       "      <td>NaN</td>\n",
       "      <td>NaN</td>\n",
       "      <td>NaN</td>\n",
       "      <td>NaN</td>\n",
       "    </tr>\n",
       "    <tr>\n",
       "      <th>396</th>\n",
       "      <td>강남역 맛집</td>\n",
       "      <td>무월식탁 강남본점</td>\n",
       "      <td>https://www.google.co.kr/maps/place/%EB%AC%B4%...</td>\n",
       "      <td>주소: 서울특별시 강남구 강남대로102길 23</td>\n",
       "      <td>3.8</td>\n",
       "      <td>음식점</td>\n",
       "      <td>Jinhee Kim</td>\n",
       "      <td>https://www.google.com/maps/contrib/1181858669...</td>\n",
       "      <td>4.0</td>\n",
       "      <td>깔끔하고 맛있어요.\\n가격도 적당합니다.\\n단품으로 추가할 수있는것도 너무 좋아요.</td>\n",
       "      <td>NaN</td>\n",
       "      <td>NaN</td>\n",
       "      <td>NaN</td>\n",
       "      <td>NaN</td>\n",
       "      <td>NaN</td>\n",
       "      <td>NaN</td>\n",
       "      <td>NaN</td>\n",
       "      <td>NaN</td>\n",
       "      <td>NaN</td>\n",
       "      <td>NaN</td>\n",
       "      <td>NaN</td>\n",
       "      <td>NaN</td>\n",
       "    </tr>\n",
       "    <tr>\n",
       "      <th>397</th>\n",
       "      <td>강남역 맛집</td>\n",
       "      <td>무월식탁 강남본점</td>\n",
       "      <td>https://www.google.co.kr/maps/place/%EB%AC%B4%...</td>\n",
       "      <td>주소: 서울특별시 강남구 강남대로102길 23</td>\n",
       "      <td>3.8</td>\n",
       "      <td>음식점</td>\n",
       "      <td>원모아</td>\n",
       "      <td>https://www.google.com/maps/contrib/1111851082...</td>\n",
       "      <td>5.0</td>\n",
       "      <td>정갈하게 한 쟁반씩이라서 깔끔하게 먹기좋았어요~ 양도 적당하고요~! 대신 밥이 좀 ...</td>\n",
       "      <td>5</td>\n",
       "      <td>저녁 식사</td>\n",
       "      <td>₩10,000~20,000</td>\n",
       "      <td>4</td>\n",
       "      <td>5</td>\n",
       "      <td>NaN</td>\n",
       "      <td>NaN</td>\n",
       "      <td>NaN</td>\n",
       "      <td>NaN</td>\n",
       "      <td>NaN</td>\n",
       "      <td>NaN</td>\n",
       "      <td>NaN</td>\n",
       "    </tr>\n",
       "    <tr>\n",
       "      <th>398</th>\n",
       "      <td>강남역 맛집</td>\n",
       "      <td>무월식탁 강남본점</td>\n",
       "      <td>https://www.google.co.kr/maps/place/%EB%AC%B4%...</td>\n",
       "      <td>주소: 서울특별시 강남구 강남대로102길 23</td>\n",
       "      <td>3.8</td>\n",
       "      <td>음식점</td>\n",
       "      <td>다뚜Daddoo</td>\n",
       "      <td>https://www.google.com/maps/contrib/1131021988...</td>\n",
       "      <td>4.0</td>\n",
       "      <td>평소에 가면 항상 웨이팅 가득해서 적어도 4,5팀이 문앞에서 서성이는 것을 목격할 ...</td>\n",
       "      <td>NaN</td>\n",
       "      <td>NaN</td>\n",
       "      <td>NaN</td>\n",
       "      <td>NaN</td>\n",
       "      <td>NaN</td>\n",
       "      <td>NaN</td>\n",
       "      <td>NaN</td>\n",
       "      <td>NaN</td>\n",
       "      <td>NaN</td>\n",
       "      <td>NaN</td>\n",
       "      <td>NaN</td>\n",
       "      <td>NaN</td>\n",
       "    </tr>\n",
       "    <tr>\n",
       "      <th>399</th>\n",
       "      <td>강남역 맛집</td>\n",
       "      <td>무월식탁 강남본점</td>\n",
       "      <td>https://www.google.co.kr/maps/place/%EB%AC%B4%...</td>\n",
       "      <td>주소: 서울특별시 강남구 강남대로102길 23</td>\n",
       "      <td>3.8</td>\n",
       "      <td>음식점</td>\n",
       "      <td>정수정</td>\n",
       "      <td>https://www.google.com/maps/contrib/1141604833...</td>\n",
       "      <td>2.0</td>\n",
       "      <td>솔직히 줄 서서 먹을 정도까진 아닌 것 같은데 왜 줄 서서 먹는 지 잘 모르겠다.밑...</td>\n",
       "      <td>NaN</td>\n",
       "      <td>NaN</td>\n",
       "      <td>NaN</td>\n",
       "      <td>NaN</td>\n",
       "      <td>NaN</td>\n",
       "      <td>NaN</td>\n",
       "      <td>NaN</td>\n",
       "      <td>NaN</td>\n",
       "      <td>NaN</td>\n",
       "      <td>NaN</td>\n",
       "      <td>NaN</td>\n",
       "      <td>NaN</td>\n",
       "    </tr>\n",
       "  </tbody>\n",
       "</table>\n",
       "<p>400 rows × 22 columns</p>\n",
       "</div>"
      ],
      "text/plain": [
       "    search_term restaurant_name  ... 소음 수준 대기 시간\n",
       "0        강남역 맛집       바비레드 강남본점  ...   NaN   NaN\n",
       "1        강남역 맛집       바비레드 강남본점  ...   NaN   NaN\n",
       "2        강남역 맛집       바비레드 강남본점  ...   NaN   NaN\n",
       "3        강남역 맛집       바비레드 강남본점  ...   NaN   NaN\n",
       "4        강남역 맛집       바비레드 강남본점  ...   NaN   NaN\n",
       "..          ...             ...  ...   ...   ...\n",
       "395      강남역 맛집       무월식탁 강남본점  ...   NaN   NaN\n",
       "396      강남역 맛집       무월식탁 강남본점  ...   NaN   NaN\n",
       "397      강남역 맛집       무월식탁 강남본점  ...   NaN   NaN\n",
       "398      강남역 맛집       무월식탁 강남본점  ...   NaN   NaN\n",
       "399      강남역 맛집       무월식탁 강남본점  ...   NaN   NaN\n",
       "\n",
       "[400 rows x 22 columns]"
      ]
     },
     "execution_count": 749,
     "metadata": {},
     "output_type": "execute_result"
    }
   ],
   "source": [
    "from pandas import DataFrame\n",
    "DataFrame(test_class.reviews)"
   ]
  },
  {
   "cell_type": "code",
   "execution_count": 722,
   "metadata": {},
   "outputs": [],
   "source": [
    "test_class.crawrev1(test_infos)"
   ]
  },
  {
   "cell_type": "code",
   "execution_count": 681,
   "metadata": {},
   "outputs": [
    {
     "data": {
      "text/plain": [
       "'https://www.google.co.kr/maps/place/%EA%B0%95%EB%82%A8%EC%A7%84%ED%95%B4%EC%9E%A5/data=!4m7!3m6!1s0x357ca1582a882a4b:0x6fa9110f4c3e1afd!8m2!3d37.4994553!4d127.0292471!16s%2Fg%2F11g8ljsxpg!19sChIJSyqIKlihfDUR_Ro-TA8RqW8?authuser=0&hl=ko&rclk=1'"
      ]
     },
     "execution_count": 681,
     "metadata": {},
     "output_type": "execute_result"
    }
   ],
   "source": [
    "test_class.infos[19][\"url\"]"
   ]
  },
  {
   "cell_type": "code",
   "execution_count": 725,
   "metadata": {},
   "outputs": [
    {
     "data": {
      "text/plain": [
       "[{'search_term': '강남역 맛집',\n",
       "  'restaurant_name': '바비레드 강남본점',\n",
       "  'url': 'https://www.google.co.kr/maps/place/%EB%B0%94%EB%B9%84%EB%A0%88%EB%93%9C+%EA%B0%95%EB%82%A8%EB%B3%B8%EC%A0%90/data=!4m7!3m6!1s0x357ca3e29805ba2f:0x339ec75093d60a3b!8m2!3d37.5026295!4d127.0278967!16s%2Fg%2F11bbtlp9qn!19sChIJL7oFmOKjfDUROwrWk1DHnjM?authuser=0&hl=ko&rclk=1',\n",
       "  'address': '\\ue0c8\\n서울특별시 강남구 봉은사로6길 39, 지하 바비레드',\n",
       "  'rating': 4.3,\n",
       "  'category': '퓨전 음식점',\n",
       "  'user': 'Zion Y ',\n",
       "  'user_url': 'https://www.google.com/maps/contrib/114426799206876262511/reviews?hl=ko',\n",
       "  'review_text': '주말 저녁에도 빈 자리가 많다.\\n인근에 비해선 싸지만 그래도 부담스런 가격이다.\\n파스타 19000원.\\n주문 후 음식이 나오기까지 15분 이상 걸리는 것 같다.\\n테이블 간 거리가 가까워 대화가 들린다.\\n너무 밝다. 은은한 조명이거나 채도가 좀 낮으면 좋겠다. 미술관이 아닌 양식집인데 분위기가 좀 나야지..\\n파스타 소스에 밥 비벼먹으라 빨간 밥을 준다. 그래서 바비레드. 쌀품종이 빨간색이라고..',\n",
       "  '서비스': ' 2',\n",
       "  '식사 유형': '저녁 식사',\n",
       "  '1인당 가격': '₩10,000~20,000',\n",
       "  '음식': ' 3',\n",
       "  '분위기': ' 2'},\n",
       " {'search_term': '강남역 맛집',\n",
       "  'restaurant_name': '바비레드 강남본점',\n",
       "  'url': 'https://www.google.co.kr/maps/place/%EB%B0%94%EB%B9%84%EB%A0%88%EB%93%9C+%EA%B0%95%EB%82%A8%EB%B3%B8%EC%A0%90/data=!4m7!3m6!1s0x357ca3e29805ba2f:0x339ec75093d60a3b!8m2!3d37.5026295!4d127.0278967!16s%2Fg%2F11bbtlp9qn!19sChIJL7oFmOKjfDUROwrWk1DHnjM?authuser=0&hl=ko&rclk=1',\n",
       "  'address': '\\ue0c8\\n서울특별시 강남구 봉은사로6길 39, 지하 바비레드',\n",
       "  'rating': 4.3,\n",
       "  'category': '퓨전 음식점',\n",
       "  'user': 'SANGYON LEE ',\n",
       "  'user_url': 'https://www.google.com/maps/contrib/103964688973933112235/reviews?hl=ko',\n",
       "  'review_text': '화이트 칼라의 내부에 커다란 샹그리아가 반겨주고, 밝은 모습으로 반겨주는 직원들... 스테이크 샐러드는 큐빅사이즈에 육즙을 잔뜩머금고 버섯ㆍ양파외 야채와 함께 소스에 찎어  먹어니 고소하며 무우피클로 입안을 깨운하게 해주고.  토마토파스타는 매콤하며 면은 굵지않고 쫄깃하고, 크림파스타는 담백하고 고소하여 다함께 즐거운 식사를 했다.\\n아쉬움은 주차장이 없다. ㅠㅠ\\n고맙습니다.',\n",
       "  '서비스': ' 5',\n",
       "  '식사 유형': '점심 식사',\n",
       "  '1인당 가격': '₩20,000~30,000',\n",
       "  '음식': ' 5',\n",
       "  '분위기': ' 4',\n",
       "  '추천 요리': '스테이크 샐러드'},\n",
       " {'search_term': '강남역 맛집',\n",
       "  'restaurant_name': '바비레드 강남본점',\n",
       "  'url': 'https://www.google.co.kr/maps/place/%EB%B0%94%EB%B9%84%EB%A0%88%EB%93%9C+%EA%B0%95%EB%82%A8%EB%B3%B8%EC%A0%90/data=!4m7!3m6!1s0x357ca3e29805ba2f:0x339ec75093d60a3b!8m2!3d37.5026295!4d127.0278967!16s%2Fg%2F11bbtlp9qn!19sChIJL7oFmOKjfDUROwrWk1DHnjM?authuser=0&hl=ko&rclk=1',\n",
       "  'address': '\\ue0c8\\n서울특별시 강남구 봉은사로6길 39, 지하 바비레드',\n",
       "  'rating': 4.3,\n",
       "  'category': '퓨전 음식점',\n",
       "  'user': '노시경TV - Earth Traveller ',\n",
       "  'user_url': 'https://www.google.com/maps/contrib/109023966069568825508/reviews?hl=ko',\n",
       "  'review_text': '가성비는 좋은 편이나 음식의 맛은 평범합니다. 바비 스테이크의 고기는 육즙이 많지 않고 퍽퍽합니다. 레드 파스타의 소스는 약간 매콤해서 풍미가 있습니다.',\n",
       "  '서비스': ' 4',\n",
       "  '식사 유형': '저녁 식사',\n",
       "  '1인당 가격': '₩10,000~20,000',\n",
       "  '음식': ' 3',\n",
       "  '분위기': ' 3'},\n",
       " {'search_term': '강남역 맛집',\n",
       "  'restaurant_name': '바비레드 강남본점',\n",
       "  'url': 'https://www.google.co.kr/maps/place/%EB%B0%94%EB%B9%84%EB%A0%88%EB%93%9C+%EA%B0%95%EB%82%A8%EB%B3%B8%EC%A0%90/data=!4m7!3m6!1s0x357ca3e29805ba2f:0x339ec75093d60a3b!8m2!3d37.5026295!4d127.0278967!16s%2Fg%2F11bbtlp9qn!19sChIJL7oFmOKjfDUROwrWk1DHnjM?authuser=0&hl=ko&rclk=1',\n",
       "  'address': '\\ue0c8\\n서울특별시 강남구 봉은사로6길 39, 지하 바비레드',\n",
       "  'rating': 4.3,\n",
       "  'category': '퓨전 음식점',\n",
       "  'user': '문지완 ',\n",
       "  'user_url': 'https://www.google.com/maps/contrib/113108720118837682637/reviews?hl=ko',\n",
       "  'review_text': '여자친구랑 데이트로 왔는데 생각보다 너무 맛있고 분위기도 좋아서 만족스럽습니다 :) 와인한잔까지 곁들이니까 음식맛이 더 좋아요!',\n",
       "  '서비스': ' 5',\n",
       "  '식사 유형': '저녁 식사',\n",
       "  '1인당 가격': '₩60,000~70,000',\n",
       "  '음식': ' 5',\n",
       "  '분위기': ' 5',\n",
       "  '추천 요리': '레드크림스튜, 레드밥추가, 스테이크 샐러드'},\n",
       " {'search_term': '강남역 맛집',\n",
       "  'restaurant_name': '바비레드 강남본점',\n",
       "  'url': 'https://www.google.co.kr/maps/place/%EB%B0%94%EB%B9%84%EB%A0%88%EB%93%9C+%EA%B0%95%EB%82%A8%EB%B3%B8%EC%A0%90/data=!4m7!3m6!1s0x357ca3e29805ba2f:0x339ec75093d60a3b!8m2!3d37.5026295!4d127.0278967!16s%2Fg%2F11bbtlp9qn!19sChIJL7oFmOKjfDUROwrWk1DHnjM?authuser=0&hl=ko&rclk=1',\n",
       "  'address': '\\ue0c8\\n서울특별시 강남구 봉은사로6길 39, 지하 바비레드',\n",
       "  'rating': 4.3,\n",
       "  'category': '퓨전 음식점',\n",
       "  'user': 'food_dairy bang ',\n",
       "  'user_url': 'https://www.google.com/maps/contrib/106780990291316389153/reviews?hl=ko',\n",
       "  'review_text': '한식과 조화를 이루는 파스타가 매력적이였고 레드밥이랑 파스타에 비벼 먹는 것도 아주 신기했습니다.',\n",
       "  '서비스': ' 4',\n",
       "  '식사 유형': '저녁 식사',\n",
       "  '1인당 가격': '₩20,000~30,000',\n",
       "  '음식': ' 4',\n",
       "  '분위기': ' 4'},\n",
       " {'search_term': '강남역 맛집',\n",
       "  'restaurant_name': '바비레드 강남본점',\n",
       "  'url': 'https://www.google.co.kr/maps/place/%EB%B0%94%EB%B9%84%EB%A0%88%EB%93%9C+%EA%B0%95%EB%82%A8%EB%B3%B8%EC%A0%90/data=!4m7!3m6!1s0x357ca3e29805ba2f:0x339ec75093d60a3b!8m2!3d37.5026295!4d127.0278967!16s%2Fg%2F11bbtlp9qn!19sChIJL7oFmOKjfDUROwrWk1DHnjM?authuser=0&hl=ko&rclk=1',\n",
       "  'address': '\\ue0c8\\n서울특별시 강남구 봉은사로6길 39, 지하 바비레드',\n",
       "  'rating': 4.3,\n",
       "  'category': '퓨전 음식점',\n",
       "  'user': 'eun jung lee ',\n",
       "  'user_url': 'https://www.google.com/maps/contrib/111977159484524352190/reviews?hl=ko',\n",
       "  'review_text': '맛있게 매콤한 2단계\\n갈비 파스타 항상 만족!\\n강남점은 첫 방문\\n친절한 직원\\n포토존이 확실하다',\n",
       "  '서비스': ' 5',\n",
       "  '식사 유형': '저녁 식사',\n",
       "  '1인당 가격': '₩10,000~20,000',\n",
       "  '음식': ' 5',\n",
       "  '분위기': ' 5'},\n",
       " {'search_term': '강남역 맛집',\n",
       "  'restaurant_name': '바비레드 강남본점',\n",
       "  'url': 'https://www.google.co.kr/maps/place/%EB%B0%94%EB%B9%84%EB%A0%88%EB%93%9C+%EA%B0%95%EB%82%A8%EB%B3%B8%EC%A0%90/data=!4m7!3m6!1s0x357ca3e29805ba2f:0x339ec75093d60a3b!8m2!3d37.5026295!4d127.0278967!16s%2Fg%2F11bbtlp9qn!19sChIJL7oFmOKjfDUROwrWk1DHnjM?authuser=0&hl=ko&rclk=1',\n",
       "  'address': '\\ue0c8\\n서울특별시 강남구 봉은사로6길 39, 지하 바비레드',\n",
       "  'rating': 4.3,\n",
       "  'category': '퓨전 음식점',\n",
       "  'user': 'nick lee ',\n",
       "  'user_url': 'https://www.google.com/maps/contrib/104114485703106074226/reviews?hl=ko',\n",
       "  'review_text': 'menu : 바비스테이크1, 레드크림파스타1(맵기2단계)\\n괜찮은맛이지만 불편한좌석. 스테이크는 간도 잘 되어있고 같이나오는 소스도 맛있습니다. 야채도 풍부하게 있고 좋습니다. 파스타는 살짝매콤하고 그냥 파스타만 먹어도 괜찮은데 같이나온 갈비와 함께 먹으면 더 맛있게 먹을 수 있습니다. 스테이크만 먹다보면 느끼할 수 있는데 적당한 매콤함으로 느끼함도 잘 잡아줘서 스테이크메뉴와 같이먹기에 참 좋습니다. 파스타같은 경우에는 맵기도 1-4단계로 선택할 수 있고 입맛에 맞게 고를 수 있어서 좋습니다. 밥과 김가루도 셀프바에 준비되어있어서 나중에 비벼먹을 수 있는것도 상당히 좋습니다. 하지만 좌석이 약간은 불편하고(철의자,철식탁) 가게 분위기가 전체적으로는 시끌벅적한 분위기입니다. 전체적으로 음식맛은 괜찮습니다. 엄청나게 맛집은 아니지만 일반적인 파스타종류보다 매콤하거나 색다른 스타일의 퓨전 서양식을 드시고 싶으시다면 방문해볼만 합니다.'},\n",
       " {'search_term': '강남역 맛집',\n",
       "  'restaurant_name': '바비레드 강남본점',\n",
       "  'url': 'https://www.google.co.kr/maps/place/%EB%B0%94%EB%B9%84%EB%A0%88%EB%93%9C+%EA%B0%95%EB%82%A8%EB%B3%B8%EC%A0%90/data=!4m7!3m6!1s0x357ca3e29805ba2f:0x339ec75093d60a3b!8m2!3d37.5026295!4d127.0278967!16s%2Fg%2F11bbtlp9qn!19sChIJL7oFmOKjfDUROwrWk1DHnjM?authuser=0&hl=ko&rclk=1',\n",
       "  'address': '\\ue0c8\\n서울특별시 강남구 봉은사로6길 39, 지하 바비레드',\n",
       "  'rating': 4.3,\n",
       "  'category': '퓨전 음식점',\n",
       "  'user': 'Minho Lee ',\n",
       "  'user_url': 'https://www.google.com/maps/contrib/109123922933192689039/reviews?hl=ko',\n",
       "  'review_text': '평일 점심시간이여서 그런지 사람도 없고 좋았어요. 2인 스페셜 세트로 먹어서 크림 파스타랑 스테이크 샐러드하고 에이드가 나왔는데 샐러드가 제일 맛났네요. 파스타는 2단계 매콤으로 해서 신라면 보다 조금더 매운정도로 나왔고, 양도 나쁘지 않게 잘 먹었어요.\\n단점이라고 하면 좀 높은 곳에 있어서 걸어가는데 힘들긴 했네요.'},\n",
       " {'search_term': '강남역 맛집',\n",
       "  'restaurant_name': '바비레드 강남본점',\n",
       "  'url': 'https://www.google.co.kr/maps/place/%EB%B0%94%EB%B9%84%EB%A0%88%EB%93%9C+%EA%B0%95%EB%82%A8%EB%B3%B8%EC%A0%90/data=!4m7!3m6!1s0x357ca3e29805ba2f:0x339ec75093d60a3b!8m2!3d37.5026295!4d127.0278967!16s%2Fg%2F11bbtlp9qn!19sChIJL7oFmOKjfDUROwrWk1DHnjM?authuser=0&hl=ko&rclk=1',\n",
       "  'address': '\\ue0c8\\n서울특별시 강남구 봉은사로6길 39, 지하 바비레드',\n",
       "  'rating': 4.3,\n",
       "  'category': '퓨전 음식점',\n",
       "  'user': 'wazak mal ',\n",
       "  'user_url': 'https://www.google.com/maps/contrib/116082592846546407537/reviews?hl=ko',\n",
       "  'review_text': '강남역을 잘 안가는데 우연한 계기로 강남역근처에서 놀게되서 강남밥맛좀 보자! 싶어서 양식집 검색하다 가게된 가게입니다.\\n뫄뫄컨테이너랑 둘중에 어딜 갈까 고민했었는데 전자는 동대문점에서 상당히 맛있게 먹은 기억이 있었기 때문에 후자도 맛있겠지 싶어 들렀습니다\\n지옥의 선택인줄도 모르고...\\n가게분위기는 뫄뫄컨테이너같이 천장이 돌출되어 있고 진동벨? 같은게 특이한 심볼로 되어 있다는 점? 여긴 경찰봉같은거 주더라고요 빛나는걸로\\n주문은 카운터에서 셀프로 해야하며 음식은 가져다줍니다\\n음식은 고민하다 유명하다는 갈비스튜랑 스테이크 시켰습니다 비주얼은 보다싶이 굿굿\\n근데..중요한 맛이.....소스가 넘 자극적이라 금방 질리고요 가격도 뫄뫄에 비해 좀 비쌉니다 가성비는 꽝 맛도 가격에 비해선 꽝\\n고기가 넘 질겨요....그리고 스튜는 맵고 단데 조화가...단짠이 나을듯 차라리\\n맥주까지 맛없어지는 기적..꽤 유명한거시켰는데 전용잔나와서 신기했던거 말곤 잘...\\n걍 뫄뫄 갈껄 그랬나 봅니다\\n여긴 걍 인스타맛집인걸로'},\n",
       " {'search_term': '강남역 맛집',\n",
       "  'restaurant_name': '바비레드 강남본점',\n",
       "  'url': 'https://www.google.co.kr/maps/place/%EB%B0%94%EB%B9%84%EB%A0%88%EB%93%9C+%EA%B0%95%EB%82%A8%EB%B3%B8%EC%A0%90/data=!4m7!3m6!1s0x357ca3e29805ba2f:0x339ec75093d60a3b!8m2!3d37.5026295!4d127.0278967!16s%2Fg%2F11bbtlp9qn!19sChIJL7oFmOKjfDUROwrWk1DHnjM?authuser=0&hl=ko&rclk=1',\n",
       "  'address': '\\ue0c8\\n서울특별시 강남구 봉은사로6길 39, 지하 바비레드',\n",
       "  'rating': 4.3,\n",
       "  'category': '퓨전 음식점',\n",
       "  'user': '책사 ',\n",
       "  'user_url': 'https://www.google.com/maps/contrib/101405712714693269737/reviews?hl=ko',\n",
       "  'review_text': '바비레드인 이유는 밥이 빨강(레드)라서다. 피클은 무제한으로 갖다 먹을수있지만 담겨져있는 상태로 갖다먹는 것인데, 양이 좀 부족하구 무가 맛있는데 양배추만 많다 . 음식은 매운맛을 1~4조절 가능이다. 스튜를 3으로 파스타를 2로 먹었는데 파스타에 매운맛2 추천한다. 어디서도 못먹어본맛 진짜맛있다. 스튜는 별로... 떡볶이 국물 같았고 고기에비해 양배추가 너무 많았다ㅠㅠ 파스타는 추천! 밥과 김은 무한리필! + 2인이상 오기힘듬. 의자와 탁상이 미니사이즈임'},\n",
       " {'search_term': '강남역 맛집',\n",
       "  'restaurant_name': '바비레드 강남본점',\n",
       "  'url': 'https://www.google.co.kr/maps/place/%EB%B0%94%EB%B9%84%EB%A0%88%EB%93%9C+%EA%B0%95%EB%82%A8%EB%B3%B8%EC%A0%90/data=!4m7!3m6!1s0x357ca3e29805ba2f:0x339ec75093d60a3b!8m2!3d37.5026295!4d127.0278967!16s%2Fg%2F11bbtlp9qn!19sChIJL7oFmOKjfDUROwrWk1DHnjM?authuser=0&hl=ko&rclk=1',\n",
       "  'address': '\\ue0c8\\n서울특별시 강남구 봉은사로6길 39, 지하 바비레드',\n",
       "  'rating': 4.3,\n",
       "  'category': '퓨전 음식점',\n",
       "  'user': '믿음언니 ',\n",
       "  'user_url': 'https://www.google.com/maps/contrib/103485274435799944847/reviews?hl=ko',\n",
       "  'review_text': '#주님이먹여살려주시는인생 #바비레드강남\\n-\\n✔️2인세트 (40,000원)\\n파스타+샐러드+에이드\\n✔️레드갈비스튜 (16,000원)\\n-\\n강남역의 오래된 맛집!\\n블로그에 올리고 남은 사진들\\n인스타에도 업로드 🍝😋\\n[빨간밥]이 [무한리필]❗️❗️\\n정말 #바비레드 밥이 빨개요\\n매콤한 소스들이 돋보이는 파스타와 스튜도\\n만족스러웠습니다 크크크\\n에이드도 맛있었는데\\n사진을 빼먹었네요 🍋😋\\n-\\n서울은 비가 많이 내리네요!\\n즐거운 퇴근길까지 화이팅!🎶\\n#불금 #맛집추천 #강남맛집'},\n",
       " {'search_term': '강남역 맛집',\n",
       "  'restaurant_name': '바비레드 강남본점',\n",
       "  'url': 'https://www.google.co.kr/maps/place/%EB%B0%94%EB%B9%84%EB%A0%88%EB%93%9C+%EA%B0%95%EB%82%A8%EB%B3%B8%EC%A0%90/data=!4m7!3m6!1s0x357ca3e29805ba2f:0x339ec75093d60a3b!8m2!3d37.5026295!4d127.0278967!16s%2Fg%2F11bbtlp9qn!19sChIJL7oFmOKjfDUROwrWk1DHnjM?authuser=0&hl=ko&rclk=1',\n",
       "  'address': '\\ue0c8\\n서울특별시 강남구 봉은사로6길 39, 지하 바비레드',\n",
       "  'rating': 4.3,\n",
       "  'category': '퓨전 음식점',\n",
       "  'user': 'kaku hayashi ',\n",
       "  'user_url': 'https://www.google.com/maps/contrib/107017345437615354601/reviews?hl=ko',\n",
       "  'review_text': '모든 음식이 기대했던것 비쥬얼보다 맛있다\\n매운정도 일반적으론 2단계가 적당하다\\n가격대는 강남이라는 점을 강조하지 않더라도 가성비거 좋은편이다.\\n웨이팅이 불편하진 않다. 편안히 대기할수있는 공간이 있다. 주변이 조용해서 산만하진 않다. 매장내에 음악은 다소 큰 편이다.\\n서비스. 맛. 모던분위기에서 가까운 친구들과 식사하며 맥주한잔 곁들리기에 좋은집이다.',\n",
       "  '서비스': '매장 내 식사',\n",
       "  '식사 유형': '저녁 식사',\n",
       "  '1인당 가격': '₩10,000~20,000'},\n",
       " {'search_term': '강남역 맛집',\n",
       "  'restaurant_name': '바비레드 강남본점',\n",
       "  'url': 'https://www.google.co.kr/maps/place/%EB%B0%94%EB%B9%84%EB%A0%88%EB%93%9C+%EA%B0%95%EB%82%A8%EB%B3%B8%EC%A0%90/data=!4m7!3m6!1s0x357ca3e29805ba2f:0x339ec75093d60a3b!8m2!3d37.5026295!4d127.0278967!16s%2Fg%2F11bbtlp9qn!19sChIJL7oFmOKjfDUROwrWk1DHnjM?authuser=0&hl=ko&rclk=1',\n",
       "  'address': '\\ue0c8\\n서울특별시 강남구 봉은사로6길 39, 지하 바비레드',\n",
       "  'rating': 4.3,\n",
       "  'category': '퓨전 음식점',\n",
       "  'user': '방인선 ',\n",
       "  'user_url': 'https://www.google.com/maps/contrib/102363230121854611512/reviews?hl=ko',\n",
       "  'review_text': '붉은 밥과 김가루를 무료로 제공하는데 밥을 너무 맛있게 해놓으셨더라고요~~ 파스타 와 스튜 가 맛있고 마지막에 남은 소스에 밥비벼 먹을수 있어 깔끔하게 다 먹었습니다 ~^^',\n",
       "  '서비스': '매장 내 식사',\n",
       "  '식사 유형': '저녁 식사'},\n",
       " {'search_term': '강남역 맛집',\n",
       "  'restaurant_name': '바비레드 강남본점',\n",
       "  'url': 'https://www.google.co.kr/maps/place/%EB%B0%94%EB%B9%84%EB%A0%88%EB%93%9C+%EA%B0%95%EB%82%A8%EB%B3%B8%EC%A0%90/data=!4m7!3m6!1s0x357ca3e29805ba2f:0x339ec75093d60a3b!8m2!3d37.5026295!4d127.0278967!16s%2Fg%2F11bbtlp9qn!19sChIJL7oFmOKjfDUROwrWk1DHnjM?authuser=0&hl=ko&rclk=1',\n",
       "  'address': '\\ue0c8\\n서울특별시 강남구 봉은사로6길 39, 지하 바비레드',\n",
       "  'rating': 4.3,\n",
       "  'category': '퓨전 음식점',\n",
       "  'user': 'Tiger ',\n",
       "  'user_url': 'https://www.google.com/maps/contrib/112279826069883843342/reviews?hl=ko',\n",
       "  'review_text': '별점은 개인적으로 3.5정도를 주고싶음.\\n가끔 짧은 웨이팅이 있을 수 있으나 회전율이 높아 금방 들어갈 수 있을 듯.\\n분위기는 약간의 소음이 있으며 오픈형 가게.\\n값대비 양은 적을 수 있으나 괜찮은편.\\n다 먹고 밥과 김가루를 셀프로 떠서 남은 양념에 비벼먹을 수 있음.'},\n",
       " {'search_term': '강남역 맛집',\n",
       "  'restaurant_name': '바비레드 강남본점',\n",
       "  'url': 'https://www.google.co.kr/maps/place/%EB%B0%94%EB%B9%84%EB%A0%88%EB%93%9C+%EA%B0%95%EB%82%A8%EB%B3%B8%EC%A0%90/data=!4m7!3m6!1s0x357ca3e29805ba2f:0x339ec75093d60a3b!8m2!3d37.5026295!4d127.0278967!16s%2Fg%2F11bbtlp9qn!19sChIJL7oFmOKjfDUROwrWk1DHnjM?authuser=0&hl=ko&rclk=1',\n",
       "  'address': '\\ue0c8\\n서울특별시 강남구 봉은사로6길 39, 지하 바비레드',\n",
       "  'rating': 4.3,\n",
       "  'category': '퓨전 음식점',\n",
       "  'user': '정현호 ',\n",
       "  'user_url': 'https://www.google.com/maps/contrib/114321564964615693939/reviews?hl=ko',\n",
       "  'review_text': '늦게 가서 그런지 사람이 생각보다 없었지만 음식이 맛있었고 형광봉이 참신했다ㅋㅋㅋ 밥과 김이 무한리필이라서 같이 먹으면 좋다😄',\n",
       "  '서비스': '매장 내 식사',\n",
       "  '식사 유형': '저녁 식사'},\n",
       " {'search_term': '강남역 맛집',\n",
       "  'restaurant_name': '바비레드 강남본점',\n",
       "  'url': 'https://www.google.co.kr/maps/place/%EB%B0%94%EB%B9%84%EB%A0%88%EB%93%9C+%EA%B0%95%EB%82%A8%EB%B3%B8%EC%A0%90/data=!4m7!3m6!1s0x357ca3e29805ba2f:0x339ec75093d60a3b!8m2!3d37.5026295!4d127.0278967!16s%2Fg%2F11bbtlp9qn!19sChIJL7oFmOKjfDUROwrWk1DHnjM?authuser=0&hl=ko&rclk=1',\n",
       "  'address': '\\ue0c8\\n서울특별시 강남구 봉은사로6길 39, 지하 바비레드',\n",
       "  'rating': 4.3,\n",
       "  'category': '퓨전 음식점',\n",
       "  'user': '박혜수 ',\n",
       "  'user_url': 'https://www.google.com/maps/contrib/108009506806758138568/reviews?hl=ko',\n",
       "  'review_text': '두번째 방문입니다.\\n맛있어요 파스타 스튜 샐러드 종류 있어요\\n맥주도 있어서 밤에도 손님이 꽤 있습니다.\\n음식은 양도 많고 매운단계 조절 가능해서 좋아요\\n나중에 밥 비벼서 리조또처럼 먹을 수 있는게 진짜 좋은 것 같습니다.\\n주문은 직접 가서 선결제로 주문하면 되고 메뉴는 가져다 주세요.\\n어린이 메뉴가 있고 어린이용 음료도 준비되어 있어요. 가족단위로 오기에도 좋겠네요. 저녁시간에는 좀 시끄러울수 있으니 참고하세요\\n자리는 넉넉한 편인데 웨이팅이 자주 있어요. 웨이팅 좌석도 있으니 편하게 기다릴 수 있습니다'},\n",
       " {'search_term': '강남역 맛집',\n",
       "  'restaurant_name': '바비레드 강남본점',\n",
       "  'url': 'https://www.google.co.kr/maps/place/%EB%B0%94%EB%B9%84%EB%A0%88%EB%93%9C+%EA%B0%95%EB%82%A8%EB%B3%B8%EC%A0%90/data=!4m7!3m6!1s0x357ca3e29805ba2f:0x339ec75093d60a3b!8m2!3d37.5026295!4d127.0278967!16s%2Fg%2F11bbtlp9qn!19sChIJL7oFmOKjfDUROwrWk1DHnjM?authuser=0&hl=ko&rclk=1',\n",
       "  'address': '\\ue0c8\\n서울특별시 강남구 봉은사로6길 39, 지하 바비레드',\n",
       "  'rating': 4.3,\n",
       "  'category': '퓨전 음식점',\n",
       "  'user': 'Sohyun Kwon (Emma) ',\n",
       "  'user_url': 'https://www.google.com/maps/contrib/100299570138767954052/reviews?hl=ko',\n",
       "  'review_text': '평일점심 때 자리가 꽉 찼고 가격대비 강남에서 맛있게 먹을 수 있는 곳. 레드크림파스타 다 먹고 양념에 밥 비벼먹으면 맛있어요'},\n",
       " {'search_term': '강남역 맛집',\n",
       "  'restaurant_name': '바비레드 강남본점',\n",
       "  'url': 'https://www.google.co.kr/maps/place/%EB%B0%94%EB%B9%84%EB%A0%88%EB%93%9C+%EA%B0%95%EB%82%A8%EB%B3%B8%EC%A0%90/data=!4m7!3m6!1s0x357ca3e29805ba2f:0x339ec75093d60a3b!8m2!3d37.5026295!4d127.0278967!16s%2Fg%2F11bbtlp9qn!19sChIJL7oFmOKjfDUROwrWk1DHnjM?authuser=0&hl=ko&rclk=1',\n",
       "  'address': '\\ue0c8\\n서울특별시 강남구 봉은사로6길 39, 지하 바비레드',\n",
       "  'rating': 4.3,\n",
       "  'category': '퓨전 음식점',\n",
       "  'user': 'U-J Jang ',\n",
       "  'user_url': 'https://www.google.com/maps/contrib/102573924151726756343/reviews?hl=ko',\n",
       "  'review_text': '친구들과 망년회 장소로 선택\\n시설이 막 좋진 않음. 공간에 비해 테이블이 협소한 편. 큐브로 나오는 스테이크 맛있었음.\\n스파게티 맵기 선택 가능한 게 신선했음\\n물리지 않고 크림 파스타 먹을 수 있었음',\n",
       "  '서비스': ' 4',\n",
       "  '식사 유형': '저녁 식사',\n",
       "  '1인당 가격': '₩20,000~30,000',\n",
       "  '음식': ' 4',\n",
       "  '분위기': ' 4'},\n",
       " {'search_term': '강남역 맛집',\n",
       "  'restaurant_name': '바비레드 강남본점',\n",
       "  'url': 'https://www.google.co.kr/maps/place/%EB%B0%94%EB%B9%84%EB%A0%88%EB%93%9C+%EA%B0%95%EB%82%A8%EB%B3%B8%EC%A0%90/data=!4m7!3m6!1s0x357ca3e29805ba2f:0x339ec75093d60a3b!8m2!3d37.5026295!4d127.0278967!16s%2Fg%2F11bbtlp9qn!19sChIJL7oFmOKjfDUROwrWk1DHnjM?authuser=0&hl=ko&rclk=1',\n",
       "  'address': '\\ue0c8\\n서울특별시 강남구 봉은사로6길 39, 지하 바비레드',\n",
       "  'rating': 4.3,\n",
       "  'category': '퓨전 음식점',\n",
       "  'user': 'Willy J ',\n",
       "  'user_url': 'https://www.google.com/maps/contrib/116762091068646179083/reviews?hl=ko',\n",
       "  'review_text': '스테이크 좋고, 파스타 맛 좋은데,\\n다 먹은 파스타에 밥과 김가루 비벼먹는거 강추ㅋㅋ\\n\\n업장 스타일은 garage스타일임\\n추천할만한 레스토랑임.'},\n",
       " {'search_term': '강남역 맛집',\n",
       "  'restaurant_name': '바비레드 강남본점',\n",
       "  'url': 'https://www.google.co.kr/maps/place/%EB%B0%94%EB%B9%84%EB%A0%88%EB%93%9C+%EA%B0%95%EB%82%A8%EB%B3%B8%EC%A0%90/data=!4m7!3m6!1s0x357ca3e29805ba2f:0x339ec75093d60a3b!8m2!3d37.5026295!4d127.0278967!16s%2Fg%2F11bbtlp9qn!19sChIJL7oFmOKjfDUROwrWk1DHnjM?authuser=0&hl=ko&rclk=1',\n",
       "  'address': '\\ue0c8\\n서울특별시 강남구 봉은사로6길 39, 지하 바비레드',\n",
       "  'rating': 4.3,\n",
       "  'category': '퓨전 음식점',\n",
       "  'user': 'Amanda S ',\n",
       "  'user_url': 'https://www.google.com/maps/contrib/116535747221133358695/reviews?hl=ko',\n",
       "  'review_text': '파스타 스테이크샐러드 세트로 먹었는데\\n맛있네요. 소스에 밥 비벼먹으니 리조또 느낌나고\\n맛있었습니당',\n",
       "  '서비스': ' 4',\n",
       "  '식사 유형': '점심 식사',\n",
       "  '1인당 가격': '₩10,000~20,000',\n",
       "  '음식': ' 4',\n",
       "  '분위기': ' 4'},\n",
       " {'search_term': '강남역 맛집',\n",
       "  'restaurant_name': '마녀주방 강남점',\n",
       "  'url': 'https://www.google.co.kr/maps/place/%EB%A7%88%EB%85%80%EC%A3%BC%EB%B0%A9+%EA%B0%95%EB%82%A8%EC%A0%90/data=!4m7!3m6!1s0x357ca159ca280299:0x1429bd52deecb2e7!8m2!3d37.4994147!4d127.0281479!16s%2Fg%2F11c5wsk3xc!19sChIJmQIoylmhfDUR57Ls3lK9KRQ?authuser=0&hl=ko&rclk=1',\n",
       "  'address': '\\ue0c8\\n서울특별시 강남구 강남대로94길 9 지하1층',\n",
       "  'rating': 4.2,\n",
       "  'category': '이탈리아 음식점',\n",
       "  'user': '유자 ',\n",
       "  'user_url': 'https://www.google.com/maps/contrib/101734134400484363239/reviews?hl=ko',\n",
       "  'review_text': '파스타는 간도 적당하고 소스화도 잘되서 아주 맛있었는데 돈마호크는 ...간이 부족한 퍽퍽고기......  직원들은 전부 친절하고 좋았습니다!!',\n",
       "  '서비스': ' 5',\n",
       "  '식사 유형': '저녁 식사',\n",
       "  '음식': ' 4',\n",
       "  '분위기': ' 5'},\n",
       " {'search_term': '강남역 맛집',\n",
       "  'restaurant_name': '마녀주방 강남점',\n",
       "  'url': 'https://www.google.co.kr/maps/place/%EB%A7%88%EB%85%80%EC%A3%BC%EB%B0%A9+%EA%B0%95%EB%82%A8%EC%A0%90/data=!4m7!3m6!1s0x357ca159ca280299:0x1429bd52deecb2e7!8m2!3d37.4994147!4d127.0281479!16s%2Fg%2F11c5wsk3xc!19sChIJmQIoylmhfDUR57Ls3lK9KRQ?authuser=0&hl=ko&rclk=1',\n",
       "  'address': '\\ue0c8\\n서울특별시 강남구 강남대로94길 9 지하1층',\n",
       "  'rating': 4.2,\n",
       "  'category': '이탈리아 음식점',\n",
       "  'user': 'Niel Niel ',\n",
       "  'user_url': 'https://www.google.com/maps/contrib/104037033298672930628/reviews?hl=ko',\n",
       "  'review_text': '음식이 전반적으로 맛있어요!!!강남인데도 가격대도 정말 합리적이고 스테이크와 셀러드와 파스타 그리고 피자 다맛있고 음식도 빨리 나와요',\n",
       "  '서비스': ' 5',\n",
       "  '식사 유형': '점심 식사',\n",
       "  '1인당 가격': '₩20,000~30,000',\n",
       "  '음식': ' 5',\n",
       "  '분위기': ' 5',\n",
       "  '추천 요리': '미이라 포테이토 피자'},\n",
       " {'search_term': '강남역 맛집',\n",
       "  'restaurant_name': '마녀주방 강남점',\n",
       "  'url': 'https://www.google.co.kr/maps/place/%EB%A7%88%EB%85%80%EC%A3%BC%EB%B0%A9+%EA%B0%95%EB%82%A8%EC%A0%90/data=!4m7!3m6!1s0x357ca159ca280299:0x1429bd52deecb2e7!8m2!3d37.4994147!4d127.0281479!16s%2Fg%2F11c5wsk3xc!19sChIJmQIoylmhfDUR57Ls3lK9KRQ?authuser=0&hl=ko&rclk=1',\n",
       "  'address': '\\ue0c8\\n서울특별시 강남구 강남대로94길 9 지하1층',\n",
       "  'rating': 4.2,\n",
       "  'category': '이탈리아 음식점',\n",
       "  'user': 'Alex Han ',\n",
       "  'user_url': 'https://www.google.com/maps/contrib/116384768158066215084/reviews?hl=ko',\n",
       "  'review_text': '맛있는 파스타와 피자, 스테이크를 먹고 싶지만 수중에 돈이 많이 없을 때 항상 찾게 되는 곳. 강남 일대의 파스타, 피자집 중에서 최고의 가성비를 가진 집이라고 생각한다. 무슨 메뉴를 골라도 실패는 없는 집이니 이것저것 먹어보고 싶은거 골라서 먹어보시길. 다른 가게보다 가격이 싸다고 맛이 없다는 것이 절대 아니다. 정말 맛있고 가격도 착해서 추천.\\n\\n+ 몇년만에 다시 방문해서 식사를 했는데 여전히 맛이 있었다. 크림리조또 매우 맛있으니 추천.',\n",
       "  '서비스': ' 5',\n",
       "  '식사 유형': '점심 식사',\n",
       "  '1인당 가격': '₩10,000~20,000',\n",
       "  '음식': ' 5',\n",
       "  '분위기': ' 5'},\n",
       " {'search_term': '강남역 맛집',\n",
       "  'restaurant_name': '마녀주방 강남점',\n",
       "  'url': 'https://www.google.co.kr/maps/place/%EB%A7%88%EB%85%80%EC%A3%BC%EB%B0%A9+%EA%B0%95%EB%82%A8%EC%A0%90/data=!4m7!3m6!1s0x357ca159ca280299:0x1429bd52deecb2e7!8m2!3d37.4994147!4d127.0281479!16s%2Fg%2F11c5wsk3xc!19sChIJmQIoylmhfDUR57Ls3lK9KRQ?authuser=0&hl=ko&rclk=1',\n",
       "  'address': '\\ue0c8\\n서울특별시 강남구 강남대로94길 9 지하1층',\n",
       "  'rating': 4.2,\n",
       "  'category': '이탈리아 음식점',\n",
       "  'user': 'minho park ',\n",
       "  'user_url': 'https://www.google.com/maps/contrib/105256838017627121730/reviews?hl=ko',\n",
       "  'review_text': \"색다른 분위기의 음식점.\\n할로윈 느낌 물씬 나는 음식점입니다.\\n음식 가격도 적절하고, 분위기는 색달라서 간단한 이벤트 식사로 제격입니다.\\n지난 12월3일 평범한 토요일 점심엔 기다림 없이 입장 가능했으나, 아마 할로윈 데이라든가 어떤 '데이'들엔 긴 웨이팅이 필요할 듯 하네요.\\n젊은 취향의 음식점 입니다.\\n맛도 괜찮습니다. ^^\",\n",
       "  '서비스': ' 4',\n",
       "  '식사 유형': '점심 식사',\n",
       "  '1인당 가격': '₩10,000~20,000',\n",
       "  '음식': ' 4',\n",
       "  '분위기': ' 5'},\n",
       " {'search_term': '강남역 맛집',\n",
       "  'restaurant_name': '마녀주방 강남점',\n",
       "  'url': 'https://www.google.co.kr/maps/place/%EB%A7%88%EB%85%80%EC%A3%BC%EB%B0%A9+%EA%B0%95%EB%82%A8%EC%A0%90/data=!4m7!3m6!1s0x357ca159ca280299:0x1429bd52deecb2e7!8m2!3d37.4994147!4d127.0281479!16s%2Fg%2F11c5wsk3xc!19sChIJmQIoylmhfDUR57Ls3lK9KRQ?authuser=0&hl=ko&rclk=1',\n",
       "  'address': '\\ue0c8\\n서울특별시 강남구 강남대로94길 9 지하1층',\n",
       "  'rating': 4.2,\n",
       "  'category': '이탈리아 음식점',\n",
       "  'user': '이재민 ',\n",
       "  'user_url': 'https://www.google.com/maps/contrib/116200236108211060775/reviews?hl=ko',\n",
       "  'review_text': '독특한 분위기의 맛집\\n할로윈 같은 느낌이 물씬 나며 음식도 강남치고 저렴한 편\\n칵테일이 특이하게 나오는데 좀 많이 달긴 함',\n",
       "  '서비스': ' 5',\n",
       "  '식사 유형': '저녁 식사',\n",
       "  '1인당 가격': '₩10,000~20,000',\n",
       "  '음식': ' 5',\n",
       "  '분위기': ' 5'},\n",
       " {'search_term': '강남역 맛집',\n",
       "  'restaurant_name': '마녀주방 강남점',\n",
       "  'url': 'https://www.google.co.kr/maps/place/%EB%A7%88%EB%85%80%EC%A3%BC%EB%B0%A9+%EA%B0%95%EB%82%A8%EC%A0%90/data=!4m7!3m6!1s0x357ca159ca280299:0x1429bd52deecb2e7!8m2!3d37.4994147!4d127.0281479!16s%2Fg%2F11c5wsk3xc!19sChIJmQIoylmhfDUR57Ls3lK9KRQ?authuser=0&hl=ko&rclk=1',\n",
       "  'address': '\\ue0c8\\n서울특별시 강남구 강남대로94길 9 지하1층',\n",
       "  'rating': 4.2,\n",
       "  'category': '이탈리아 음식점',\n",
       "  'user': 'Pot Dooshami ',\n",
       "  'user_url': 'https://www.google.com/maps/contrib/107928208177466130329/reviews?hl=ko',\n",
       "  'review_text': '인테리어에 정말 공을 들였고, 음식들도 테마에 맞게 잘 꾸몄다. 마치 테마파크에 온 것 같다. 가격도 이정도면 나쁘지 않고.... 참고로 음료 한개만 시켜도 충분하니 두개 시키지 마세요'},\n",
       " {'search_term': '강남역 맛집',\n",
       "  'restaurant_name': '마녀주방 강남점',\n",
       "  'url': 'https://www.google.co.kr/maps/place/%EB%A7%88%EB%85%80%EC%A3%BC%EB%B0%A9+%EA%B0%95%EB%82%A8%EC%A0%90/data=!4m7!3m6!1s0x357ca159ca280299:0x1429bd52deecb2e7!8m2!3d37.4994147!4d127.0281479!16s%2Fg%2F11c5wsk3xc!19sChIJmQIoylmhfDUR57Ls3lK9KRQ?authuser=0&hl=ko&rclk=1',\n",
       "  'address': '\\ue0c8\\n서울특별시 강남구 강남대로94길 9 지하1층',\n",
       "  'rating': 4.2,\n",
       "  'category': '이탈리아 음식점',\n",
       "  'user': '까꿍언니 ',\n",
       "  'user_url': 'https://www.google.com/maps/contrib/106229902014613449896/reviews?hl=ko',\n",
       "  'review_text': '나름 이색적이고 음식도 빠르고 맛도 괜찮았던곳!\\n근데 스파게티와 피자의 음식값은 좀 비싸다는 생각이들고 샐러드는 좀 달다는 감이있다.\\n리코타는 단것보다 좀 견과류와같이먹어서 담백함으로 보안해도 좋을듯한데 그래도 이정도 금액이 저정도면 훌륭하다 !'},\n",
       " {'search_term': '강남역 맛집',\n",
       "  'restaurant_name': '마녀주방 강남점',\n",
       "  'url': 'https://www.google.co.kr/maps/place/%EB%A7%88%EB%85%80%EC%A3%BC%EB%B0%A9+%EA%B0%95%EB%82%A8%EC%A0%90/data=!4m7!3m6!1s0x357ca159ca280299:0x1429bd52deecb2e7!8m2!3d37.4994147!4d127.0281479!16s%2Fg%2F11c5wsk3xc!19sChIJmQIoylmhfDUR57Ls3lK9KRQ?authuser=0&hl=ko&rclk=1',\n",
       "  'address': '\\ue0c8\\n서울특별시 강남구 강남대로94길 9 지하1층',\n",
       "  'rating': 4.2,\n",
       "  'category': '이탈리아 음식점',\n",
       "  'user': 'ni ha ',\n",
       "  'user_url': 'https://www.google.com/maps/contrib/111289306800304513073/reviews?hl=ko',\n",
       "  'review_text': '1. 독특한 컨셉의 식당. 할로윈이 얼마 남지 않아서 그런지 손님들이 더 몰리는 듯하다. 평일 6시 반 전후에 입장했을때도 약간의 대기가 필요했지만 식사가 나오기 시작할 때쯤 뒤를 보니 대기하는 손님들의 수가 점점 많아지기 시작했음. 식사시간보다 일찍 방문하는 것을 추천함  2. 가격대가 체감상 저렴하다고 느껴짐. 물론 맛도 괜찮아서 놀람. 다만 음식이 나오는 데 20-30분 정도 걸리며 몇몇 음식 데코레이션을 제외하고는 마녀주방의 컨셉이 포함되어 있지 않다.  3. 분장할 수 있는 가면들이 준비되어 있으며 인테리어가 꽤 신선하다.'},\n",
       " {'search_term': '강남역 맛집',\n",
       "  'restaurant_name': '마녀주방 강남점',\n",
       "  'url': 'https://www.google.co.kr/maps/place/%EB%A7%88%EB%85%80%EC%A3%BC%EB%B0%A9+%EA%B0%95%EB%82%A8%EC%A0%90/data=!4m7!3m6!1s0x357ca159ca280299:0x1429bd52deecb2e7!8m2!3d37.4994147!4d127.0281479!16s%2Fg%2F11c5wsk3xc!19sChIJmQIoylmhfDUR57Ls3lK9KRQ?authuser=0&hl=ko&rclk=1',\n",
       "  'address': '\\ue0c8\\n서울특별시 강남구 강남대로94길 9 지하1층',\n",
       "  'rating': 4.2,\n",
       "  'category': '이탈리아 음식점',\n",
       "  'user': 'JUN옥 ',\n",
       "  'user_url': 'https://www.google.com/maps/contrib/104382571095768128446/reviews?hl=ko',\n",
       "  'review_text': '가성비 맛집! 가격도 안 비싸고 좋아요.',\n",
       "  '서비스': ' 5',\n",
       "  '식사 유형': '저녁 식사',\n",
       "  '1인당 가격': '₩20,000~30,000',\n",
       "  '음식': ' 5',\n",
       "  '분위기': ' 5',\n",
       "  '추천 요리': '해골 볶음밥, 루돌프 리코타 유령 독초 샐러드'},\n",
       " {'search_term': '강남역 맛집',\n",
       "  'restaurant_name': '마녀주방 강남점',\n",
       "  'url': 'https://www.google.co.kr/maps/place/%EB%A7%88%EB%85%80%EC%A3%BC%EB%B0%A9+%EA%B0%95%EB%82%A8%EC%A0%90/data=!4m7!3m6!1s0x357ca159ca280299:0x1429bd52deecb2e7!8m2!3d37.4994147!4d127.0281479!16s%2Fg%2F11c5wsk3xc!19sChIJmQIoylmhfDUR57Ls3lK9KRQ?authuser=0&hl=ko&rclk=1',\n",
       "  'address': '\\ue0c8\\n서울특별시 강남구 강남대로94길 9 지하1층',\n",
       "  'rating': 4.2,\n",
       "  'category': '이탈리아 음식점',\n",
       "  'user': '지원 ',\n",
       "  'user_url': 'https://www.google.com/maps/contrib/114873743563113267628/reviews?hl=ko',\n",
       "  'review_text': '대기줄이 조금 길었고 음식이 나오는데 오랜 시간이 걸렸음 오래 기다렸는데 음식이 불어 면이 떡이 되어 나와서 조금 실망할 뻔 함 식당 분위기랑 컨셉은 꽤 맘에 들었다.파스타는 맛은 그냥 평범한 파스타이고 더 싸고 맛있게 먹을 수 있는 식당이 많은데라는 생각이 듦. 스테이크도 고급진 느낌은 아니었음.그냥 인스타용으로 한두번 가기 좋은 곳인듯!'},\n",
       " {'search_term': '강남역 맛집',\n",
       "  'restaurant_name': '마녀주방 강남점',\n",
       "  'url': 'https://www.google.co.kr/maps/place/%EB%A7%88%EB%85%80%EC%A3%BC%EB%B0%A9+%EA%B0%95%EB%82%A8%EC%A0%90/data=!4m7!3m6!1s0x357ca159ca280299:0x1429bd52deecb2e7!8m2!3d37.4994147!4d127.0281479!16s%2Fg%2F11c5wsk3xc!19sChIJmQIoylmhfDUR57Ls3lK9KRQ?authuser=0&hl=ko&rclk=1',\n",
       "  'address': '\\ue0c8\\n서울특별시 강남구 강남대로94길 9 지하1층',\n",
       "  'rating': 4.2,\n",
       "  'category': '이탈리아 음식점',\n",
       "  'user': '재간둥이권 ',\n",
       "  'user_url': 'https://www.google.com/maps/contrib/108662432836921975016/reviews?hl=ko',\n",
       "  'review_text': '인테리어빨이라고 하고싶네요. 가자마자 인테리어보고 신박하다 좋다싶었습니다. 각 자리마다 해골이반겨주고 뒷켠에 할로윈 소품들이 즐비해있고 좋았어요. 근데 파스타는 맛있었는데 돈마호크에 비계도엄청 많고 돼지냄새가 심했어요. 샐러드도 쏘쏘하고 집에왔는데 배에계속 가스차고 미식거려서 어제 소화제에 진경제에 ㅜㅜ 컨셉즐기시는 분들에게는 추천.\\n맛에대한 비중이 크신분들은  비비비비추천'},\n",
       " {'search_term': '강남역 맛집',\n",
       "  'restaurant_name': '마녀주방 강남점',\n",
       "  'url': 'https://www.google.co.kr/maps/place/%EB%A7%88%EB%85%80%EC%A3%BC%EB%B0%A9+%EA%B0%95%EB%82%A8%EC%A0%90/data=!4m7!3m6!1s0x357ca159ca280299:0x1429bd52deecb2e7!8m2!3d37.4994147!4d127.0281479!16s%2Fg%2F11c5wsk3xc!19sChIJmQIoylmhfDUR57Ls3lK9KRQ?authuser=0&hl=ko&rclk=1',\n",
       "  'address': '\\ue0c8\\n서울특별시 강남구 강남대로94길 9 지하1층',\n",
       "  'rating': 4.2,\n",
       "  'category': '이탈리아 음식점',\n",
       "  'user': 'Minyoung Sung ',\n",
       "  'user_url': 'https://www.google.com/maps/contrib/105858524245560041438/reviews?hl=ko',\n",
       "  'review_text': '완전맛있었다 봉골레에 조개도많이들어가있고 피자도 바삭해서 좋음.어둡고 젊은사람들 좋아할거같은 인테리어라 음식맛은 별로일까 걱정했는데 초딩 애들도 엄청 좋아하고 잘먹음. 재방문의사 100프로.'},\n",
       " {'search_term': '강남역 맛집',\n",
       "  'restaurant_name': '마녀주방 강남점',\n",
       "  'url': 'https://www.google.co.kr/maps/place/%EB%A7%88%EB%85%80%EC%A3%BC%EB%B0%A9+%EA%B0%95%EB%82%A8%EC%A0%90/data=!4m7!3m6!1s0x357ca159ca280299:0x1429bd52deecb2e7!8m2!3d37.4994147!4d127.0281479!16s%2Fg%2F11c5wsk3xc!19sChIJmQIoylmhfDUR57Ls3lK9KRQ?authuser=0&hl=ko&rclk=1',\n",
       "  'address': '\\ue0c8\\n서울특별시 강남구 강남대로94길 9 지하1층',\n",
       "  'rating': 4.2,\n",
       "  'category': '이탈리아 음식점',\n",
       "  'user': '장민정 ',\n",
       "  'user_url': 'https://www.google.com/maps/contrib/108298543044017533092/reviews?hl=ko',\n",
       "  'review_text': '테마만큼은 정말 잘 잡은 곳.\\n할로윈때 데이트하기 정말 좋음 !!\\n음식맛 나쁘지 않다. 이가격이면 합격.\\n개인적으로 여기 토마토 치즈파스타가 제일 나았움.\\n+)샐러드 추가 추천.',\n",
       "  '1인당 가격': '₩10,000~20,000',\n",
       "  '음식': ' 4',\n",
       "  '서비스': ' 4',\n",
       "  '분위기': ' 5'},\n",
       " {'search_term': '강남역 맛집',\n",
       "  'restaurant_name': '마녀주방 강남점',\n",
       "  'url': 'https://www.google.co.kr/maps/place/%EB%A7%88%EB%85%80%EC%A3%BC%EB%B0%A9+%EA%B0%95%EB%82%A8%EC%A0%90/data=!4m7!3m6!1s0x357ca159ca280299:0x1429bd52deecb2e7!8m2!3d37.4994147!4d127.0281479!16s%2Fg%2F11c5wsk3xc!19sChIJmQIoylmhfDUR57Ls3lK9KRQ?authuser=0&hl=ko&rclk=1',\n",
       "  'address': '\\ue0c8\\n서울특별시 강남구 강남대로94길 9 지하1층',\n",
       "  'rating': 4.2,\n",
       "  'category': '이탈리아 음식점',\n",
       "  'user': '박진우 ',\n",
       "  'user_url': 'https://www.google.com/maps/contrib/105963730896013535958/reviews?hl=ko',\n",
       "  'review_text': '저렴한 것에 비해 맛도 좋고 양도 많고 정말 좋았습니다. 컨셉도 독특하고 직원도 친절해요. 저 손가락은 빵이 아니라 과자입니다. 숟가락으로 쪼개다 접시도 쪼갤뻔'},\n",
       " {'search_term': '강남역 맛집',\n",
       "  'restaurant_name': '마녀주방 강남점',\n",
       "  'url': 'https://www.google.co.kr/maps/place/%EB%A7%88%EB%85%80%EC%A3%BC%EB%B0%A9+%EA%B0%95%EB%82%A8%EC%A0%90/data=!4m7!3m6!1s0x357ca159ca280299:0x1429bd52deecb2e7!8m2!3d37.4994147!4d127.0281479!16s%2Fg%2F11c5wsk3xc!19sChIJmQIoylmhfDUR57Ls3lK9KRQ?authuser=0&hl=ko&rclk=1',\n",
       "  'address': '\\ue0c8\\n서울특별시 강남구 강남대로94길 9 지하1층',\n",
       "  'rating': 4.2,\n",
       "  'category': '이탈리아 음식점',\n",
       "  'user': '한기정 ',\n",
       "  'user_url': 'https://www.google.com/maps/contrib/112973999931438017602/reviews?hl=ko',\n",
       "  'review_text': '웨이팅  시간이  50분....\\n마니 망설여지더라구요 ㅋ 5명이라  단체석으로  시간이 더 걸린다기에  그래도  맛보고 가겠다는  일념으로~~~\\n값두 넘  저렴하다 느낀건  그만큼  맛이 있다보니 ㅋ\\n정말 다시 찾고 싶은 그런  맛있구  분위기 있는  그런  곳이네요 ~~^^'},\n",
       " {'search_term': '강남역 맛집',\n",
       "  'restaurant_name': '마녀주방 강남점',\n",
       "  'url': 'https://www.google.co.kr/maps/place/%EB%A7%88%EB%85%80%EC%A3%BC%EB%B0%A9+%EA%B0%95%EB%82%A8%EC%A0%90/data=!4m7!3m6!1s0x357ca159ca280299:0x1429bd52deecb2e7!8m2!3d37.4994147!4d127.0281479!16s%2Fg%2F11c5wsk3xc!19sChIJmQIoylmhfDUR57Ls3lK9KRQ?authuser=0&hl=ko&rclk=1',\n",
       "  'address': '\\ue0c8\\n서울특별시 강남구 강남대로94길 9 지하1층',\n",
       "  'rating': 4.2,\n",
       "  'category': '이탈리아 음식점',\n",
       "  'user': 'Katelyn Lee ',\n",
       "  'user_url': 'https://www.google.com/maps/contrib/111557403117729435992/reviews?hl=ko',\n",
       "  'review_text': '할로윈에 딱 맞는 독특한 컨셉! 인테리어도 으스스하게 잘 꾸며져있고, 음식에도 재밌는 데코들을 해 두어서 먹는 재미, 보는 재미 두마리 토끼를 다 잡은 곳!\\n가장 추천하는 메뉴는 피자!!\\n저희는 갈릭 피자 먹었는데, 일단 도우가 페스츄리 도우라서 바삭하면서 엄청 고소하고 맛있어요~ 그 위에 치즈&갈릭&꿀이라니 환상 조합 ㅎㅎ\\n칠리치즈라이스는 노른자 눈이 있는 계란 해골 후라이가 올라가서 보는재미가 있고, 김치 볶음밥 위에 치즈도 뿌려져있고 후라이가 덮여있어 맛이 없을 수 없는 조합!\\n빠네 크림파스타는 관 모양의 빵이 귀엽고, 크림도 너무 느끼하지 않고 고소했어요~ 빵도 부드러워서 나중에 크림에 찍어먹기 적당합니다.\\n지금 할인하고 있는 메뉴인 치킨스테이크는 그냥저냥 특별한 맛은 아니었어요~ 할인 가격을 감안해서 사이드메뉴로 시켜먹기 좋습니다.\\n그리고 칵테일(알콜/논알콜)을 주문하면 링거에 꽂아서 수액봉지에 넣어서 주는데 이것도 재미있어요 ㅎㅎ'},\n",
       " {'search_term': '강남역 맛집',\n",
       "  'restaurant_name': '마녀주방 강남점',\n",
       "  'url': 'https://www.google.co.kr/maps/place/%EB%A7%88%EB%85%80%EC%A3%BC%EB%B0%A9+%EA%B0%95%EB%82%A8%EC%A0%90/data=!4m7!3m6!1s0x357ca159ca280299:0x1429bd52deecb2e7!8m2!3d37.4994147!4d127.0281479!16s%2Fg%2F11c5wsk3xc!19sChIJmQIoylmhfDUR57Ls3lK9KRQ?authuser=0&hl=ko&rclk=1',\n",
       "  'address': '\\ue0c8\\n서울특별시 강남구 강남대로94길 9 지하1층',\n",
       "  'rating': 4.2,\n",
       "  'category': '이탈리아 음식점',\n",
       "  'user': 'CHULU NAM ',\n",
       "  'user_url': 'https://www.google.com/maps/contrib/109338307733825359341/reviews?hl=ko',\n",
       "  'review_text': '맛은 평범에 가깝습니다\\n분위기도 그렇게 좋은 편은 아닙니다\\n개인적으로 요란한건 별로 안좋아해서..ㅎㅎ\\n특별한 컨셉을 가진 식당으로, 재미는 있습니다\\n다만, 맛과 분위기에 비해 과도한 웨이팅을 상쇄할 만큼의 재미를 주진 못합니다.\\n오픈에 맞춰서 갔는데 음식 받기까지 40분이상 걸린 듯 합니다.\\n물론 가성비는 좋습니다 치킨스테이크는 특히.\\n피자의 도우가 부드러우니 아주 좋았습니다.\\n그러나 맛집 수준은 절대아닙니다!\\n가성비 좋고 웨이팅 많은 집.'},\n",
       " {'search_term': '강남역 맛집',\n",
       "  'restaurant_name': '마녀주방 강남점',\n",
       "  'url': 'https://www.google.co.kr/maps/place/%EB%A7%88%EB%85%80%EC%A3%BC%EB%B0%A9+%EA%B0%95%EB%82%A8%EC%A0%90/data=!4m7!3m6!1s0x357ca159ca280299:0x1429bd52deecb2e7!8m2!3d37.4994147!4d127.0281479!16s%2Fg%2F11c5wsk3xc!19sChIJmQIoylmhfDUR57Ls3lK9KRQ?authuser=0&hl=ko&rclk=1',\n",
       "  'address': '\\ue0c8\\n서울특별시 강남구 강남대로94길 9 지하1층',\n",
       "  'rating': 4.2,\n",
       "  'category': '이탈리아 음식점',\n",
       "  'user': '문재희 ',\n",
       "  'user_url': 'https://www.google.com/maps/contrib/107871959839144363726/reviews?hl=ko',\n",
       "  'review_text': '컨셉이랑 분위기가 정말 확고한 곳! 그리고 음식이 저렴한 편이고 진짜 맛있었어요! 사람이 많아서 조금 기다려야 한다지만 저희는 20분도 안 기다렸던것 같아요. 샐러드도 맛있었어요 ㅠㅠ 가성비 좋은곳!🙂…'},\n",
       " {'search_term': '강남역 맛집',\n",
       "  'restaurant_name': '마녀주방 강남점',\n",
       "  'url': 'https://www.google.co.kr/maps/place/%EB%A7%88%EB%85%80%EC%A3%BC%EB%B0%A9+%EA%B0%95%EB%82%A8%EC%A0%90/data=!4m7!3m6!1s0x357ca159ca280299:0x1429bd52deecb2e7!8m2!3d37.4994147!4d127.0281479!16s%2Fg%2F11c5wsk3xc!19sChIJmQIoylmhfDUR57Ls3lK9KRQ?authuser=0&hl=ko&rclk=1',\n",
       "  'address': '\\ue0c8\\n서울특별시 강남구 강남대로94길 9 지하1층',\n",
       "  'rating': 4.2,\n",
       "  'category': '이탈리아 음식점',\n",
       "  'user': '이승현 ',\n",
       "  'user_url': 'https://www.google.com/maps/contrib/112566520532652006179/reviews?hl=ko',\n",
       "  'review_text': '마녀 컨셉의 독특한 파스타 식당. 강남에 위치한걸 고려하면 가격대가 저렴한 편이고 양이 많아서 배불리 먹을 수 있다. 파스타와 샐러드 전반적으로 맛이 상당히 괜찮은 편이고 특히 스테이크 샐러드는 가성비 갑. 재미있는 컨셉으로 맛있는 음식을 즐길 수 있는 곳이지만 컨셉 상 실내가 상당히 어두워서 이에 대한 호불호가 있을 듯.'},\n",
       " {'search_term': '강남역 맛집',\n",
       "  'restaurant_name': '마녀주방 강남점',\n",
       "  'url': 'https://www.google.co.kr/maps/place/%EB%A7%88%EB%85%80%EC%A3%BC%EB%B0%A9+%EA%B0%95%EB%82%A8%EC%A0%90/data=!4m7!3m6!1s0x357ca159ca280299:0x1429bd52deecb2e7!8m2!3d37.4994147!4d127.0281479!16s%2Fg%2F11c5wsk3xc!19sChIJmQIoylmhfDUR57Ls3lK9KRQ?authuser=0&hl=ko&rclk=1',\n",
       "  'address': '\\ue0c8\\n서울특별시 강남구 강남대로94길 9 지하1층',\n",
       "  'rating': 4.2,\n",
       "  'category': '이탈리아 음식점',\n",
       "  'user': 'lunapsiesp ',\n",
       "  'user_url': 'https://www.google.com/maps/contrib/108443543359253512213/reviews?hl=ko',\n",
       "  'review_text': '유명한 컨셉 레스토랑\\n할로윈 코드가 음식 곳곳에 들어가있으며\\n그에 걸맞는 인테리어도 갖췄다\\n심지어 주류는 수혈팩을 통해 제공되는 비범함까지...\\n\\n음식과 서비스의 퀄이 괜찮고\\n가격도 아주 부담스럽진 않다'}]"
      ]
     },
     "execution_count": 725,
     "metadata": {},
     "output_type": "execute_result"
    }
   ],
   "source": [
    "test_class.reviews"
   ]
  },
  {
   "cell_type": "code",
   "execution_count": 126,
   "metadata": {},
   "outputs": [],
   "source": [
    "test_class.close()"
   ]
  },
  {
   "cell_type": "code",
   "execution_count": 726,
   "metadata": {},
   "outputs": [],
   "source": [
    "test_driver=Chrome()\n",
    "test_driver.get(test_class.infos[19][\"url\"])\n",
    "#test_driver.get(base_path)"
   ]
  },
  {
   "cell_type": "markdown",
   "metadata": {},
   "source": [
    "------"
   ]
  },
  {
   "cell_type": "code",
   "execution_count": 737,
   "metadata": {},
   "outputs": [],
   "source": [
    "address=WebDriverWait(test_driver,3).until(\n",
    "            presence_of_element_located([By.XPATH, '//button[@data-item-id=\"address\"]']))"
   ]
  },
  {
   "cell_type": "code",
   "execution_count": 739,
   "metadata": {},
   "outputs": [
    {
     "data": {
      "text/plain": [
       "'주소: 서울특별시 강남구 강남대로102길 23 '"
      ]
     },
     "execution_count": 739,
     "metadata": {},
     "output_type": "execute_result"
    }
   ],
   "source": [
    "address.get_attribute(\"aria-label\")"
   ]
  },
  {
   "cell_type": "code",
   "execution_count": 743,
   "metadata": {},
   "outputs": [],
   "source": [
    "test_driver.quit()"
   ]
  },
  {
   "cell_type": "code",
   "execution_count": 683,
   "metadata": {},
   "outputs": [],
   "source": [
    "review_box=WebDriverWait(test_driver,3).until(\n",
    "                        presence_of_all_elements_located([By.XPATH\n",
    "                        ,\"//div[@data-review-id and contains(@jsaction,'review.out')]\"]))"
   ]
  },
  {
   "cell_type": "code",
   "execution_count": 703,
   "metadata": {},
   "outputs": [],
   "source": [
    "def subrevtable(sub_review:WebElement):\n",
    "    splited_table={}\n",
    "    try:\n",
    "        reviewer_table=WebDriverWait(sub_review,3).until(\n",
    "                presence_of_all_elements_located([By.XPATH,\".//div[@jslog]/div[contains(@jslog,'metadata')]\"]))\n",
    "        #구분자 설정\n",
    "        def spliter(text:str):\n",
    "            split_txt=\"\\n\" if \"\\n\" in text else \":\"\n",
    "            return text.split(split_txt)\n",
    "        for row in reviewer_table:\n",
    "            splited_table.update({key:value for key,value in [spliter(row.text)]})\n",
    "        return splited_table\n",
    "    except:\n",
    "        return splited_table"
   ]
  },
  {
   "cell_type": "code",
   "execution_count": 708,
   "metadata": {},
   "outputs": [
    {
     "ename": "TimeoutException",
     "evalue": "Message: \n",
     "output_type": "error",
     "traceback": [
      "\u001b[0;31m---------------------------------------------------------------------------\u001b[0m",
      "\u001b[0;31mTimeoutException\u001b[0m                          Traceback (most recent call last)",
      "Cell \u001b[0;32mIn[708], line 1\u001b[0m\n\u001b[0;32m----> 1\u001b[0m reviewer_table\u001b[38;5;241m=\u001b[39m\u001b[43mWebDriverWait\u001b[49m\u001b[43m(\u001b[49m\u001b[43mreview_box\u001b[49m\u001b[43m[\u001b[49m\u001b[38;5;241;43m3\u001b[39;49m\u001b[43m]\u001b[49m\u001b[43m,\u001b[49m\u001b[38;5;241;43m3\u001b[39;49m\u001b[43m)\u001b[49m\u001b[38;5;241;43m.\u001b[39;49m\u001b[43muntil\u001b[49m\u001b[43m(\u001b[49m\n\u001b[1;32m      2\u001b[0m \u001b[43m                \u001b[49m\u001b[43mpresence_of_all_elements_located\u001b[49m\u001b[43m(\u001b[49m\u001b[43m[\u001b[49m\u001b[43mBy\u001b[49m\u001b[38;5;241;43m.\u001b[39;49m\u001b[43mXPATH\u001b[49m\u001b[43m,\u001b[49m\u001b[38;5;124;43m\"\u001b[39;49m\u001b[38;5;124;43m.//div[@jslog]/div[contains(@jslog,\u001b[39;49m\u001b[38;5;124;43m'\u001b[39;49m\u001b[38;5;124;43mmetadata\u001b[39;49m\u001b[38;5;124;43m'\u001b[39;49m\u001b[38;5;124;43m)]\u001b[39;49m\u001b[38;5;124;43m\"\u001b[39;49m\u001b[43m]\u001b[49m\u001b[43m)\u001b[49m\u001b[43m)\u001b[49m\n",
      "File \u001b[0;32m~/Documents/github/GoogleMap/googlemap/lib/python3.9/site-packages/selenium/webdriver/support/wait.py:105\u001b[0m, in \u001b[0;36mWebDriverWait.until\u001b[0;34m(self, method, message)\u001b[0m\n\u001b[1;32m    103\u001b[0m         \u001b[38;5;28;01mbreak\u001b[39;00m\n\u001b[1;32m    104\u001b[0m     time\u001b[38;5;241m.\u001b[39msleep(\u001b[38;5;28mself\u001b[39m\u001b[38;5;241m.\u001b[39m_poll)\n\u001b[0;32m--> 105\u001b[0m \u001b[38;5;28;01mraise\u001b[39;00m TimeoutException(message, screen, stacktrace)\n",
      "\u001b[0;31mTimeoutException\u001b[0m: Message: \n"
     ]
    }
   ],
   "source": [
    "reviewer_table=WebDriverWait(review_box[3],3).until(\n",
    "                presence_of_all_elements_located([By.XPATH,\".//div[@jslog]/div[contains(@jslog,'metadata')]\"]))"
   ]
  },
  {
   "cell_type": "code",
   "execution_count": 707,
   "metadata": {},
   "outputs": [
    {
     "data": {
      "text/plain": [
       "{}"
      ]
     },
     "execution_count": 707,
     "metadata": {},
     "output_type": "execute_result"
    }
   ],
   "source": [
    "subrevtable(review_box[3])"
   ]
  },
  {
   "cell_type": "code",
   "execution_count": 671,
   "metadata": {},
   "outputs": [],
   "source": [
    "test_driver.quit()"
   ]
  },
  {
   "cell_type": "code",
   "execution_count": 535,
   "metadata": {},
   "outputs": [],
   "source": [
    "total_review_num=WebDriverWait(test_driver,3).until(\n",
    "            presence_of_element_located([By.XPATH,\"//div[contains(text(), '리뷰') and contains(@jslog,'metadata')]\"]))"
   ]
  },
  {
   "cell_type": "code",
   "execution_count": 593,
   "metadata": {},
   "outputs": [],
   "source": [
    "#스크롤가능한 바디찾기\n",
    "candidate_list=WebDriverWait(test_driver,3).until(\n",
    "                 presence_of_all_elements_located([By.XPATH,\"//div[@tabindex='-1']\"]))\n",
    "\n",
    "scroll_body=[element for element in candidate_list \n",
    "                         if any([\"auto\" in element.value_of_css_property(\"overflow\"),\n",
    "                                 \"scroll\" in element.value_of_css_property(\"overflow\")])]"
   ]
  },
  {
   "cell_type": "code",
   "execution_count": 636,
   "metadata": {},
   "outputs": [],
   "source": [
    "candidate_list=WebDriverWait(test_driver,3).until(presence_of_all_elements_located([By.XPATH,\"//div[contains(@jslog,'mutable')]\"]))"
   ]
  },
  {
   "cell_type": "code",
   "execution_count": 638,
   "metadata": {},
   "outputs": [
    {
     "data": {
      "text/plain": [
       "['visible', 'visible', 'visible', 'visible', 'visible', 'hidden auto']"
      ]
     },
     "execution_count": 638,
     "metadata": {},
     "output_type": "execute_result"
    }
   ],
   "source": [
    "[x.value_of_css_property(\"overflow\") for x in candidate_list]"
   ]
  },
  {
   "cell_type": "code",
   "execution_count": 633,
   "metadata": {},
   "outputs": [
    {
     "data": {
      "text/plain": [
       "'hidden'"
      ]
     },
     "execution_count": 633,
     "metadata": {},
     "output_type": "execute_result"
    }
   ],
   "source": [
    "candidate_list[1].value_of_css_property(\"overflow\")"
   ]
  },
  {
   "cell_type": "code",
   "execution_count": 620,
   "metadata": {},
   "outputs": [
    {
     "data": {
      "text/plain": [
       "'hidden auto'"
      ]
     },
     "execution_count": 620,
     "metadata": {},
     "output_type": "execute_result"
    }
   ],
   "source": [
    "candidate_list[5].value_of_css_property(\"overflow\")"
   ]
  },
  {
   "cell_type": "code",
   "execution_count": 596,
   "metadata": {},
   "outputs": [
    {
     "data": {
      "text/plain": [
       "'26354;mutable:true;'"
      ]
     },
     "execution_count": 596,
     "metadata": {},
     "output_type": "execute_result"
    }
   ],
   "source": [
    "scroll_body[0].get_attribute(\"jslog\")"
   ]
  },
  {
   "cell_type": "code",
   "execution_count": 592,
   "metadata": {},
   "outputs": [
    {
     "data": {
      "text/plain": [
       "[None,\n",
       " None,\n",
       " None,\n",
       " None,\n",
       " None,\n",
       " None,\n",
       " None,\n",
       " None,\n",
       " None,\n",
       " None,\n",
       " None,\n",
       " '26354;mutable:true;',\n",
       " None,\n",
       " None,\n",
       " None,\n",
       " None,\n",
       " None,\n",
       " None,\n",
       " None,\n",
       " None,\n",
       " None,\n",
       " None,\n",
       " None,\n",
       " None,\n",
       " None,\n",
       " '180487',\n",
       " None,\n",
       " None]"
      ]
     },
     "execution_count": 592,
     "metadata": {},
     "output_type": "execute_result"
    }
   ],
   "source": [
    "[x.get_attribute(\"jslog\") for x in candidate_list]"
   ]
  },
  {
   "cell_type": "code",
   "execution_count": 583,
   "metadata": {},
   "outputs": [
    {
     "data": {
      "text/plain": [
       "[None,\n",
       " None,\n",
       " None,\n",
       " None,\n",
       " None,\n",
       " None,\n",
       " None,\n",
       " None,\n",
       " None,\n",
       " None,\n",
       " None,\n",
       " '26354;mutable:true;',\n",
       " None,\n",
       " None,\n",
       " None,\n",
       " None,\n",
       " None,\n",
       " None,\n",
       " None,\n",
       " None,\n",
       " None,\n",
       " None,\n",
       " None,\n",
       " None,\n",
       " None,\n",
       " '180487',\n",
       " None,\n",
       " None]"
      ]
     },
     "execution_count": 583,
     "metadata": {},
     "output_type": "execute_result"
    }
   ],
   "source": [
    "[x.get_attribute(\"jslog\") for x in candidate_list]"
   ]
  },
  {
   "cell_type": "code",
   "execution_count": 557,
   "metadata": {},
   "outputs": [],
   "source": [
    "test_driver.execute_script(\"window.scrollTo(0, document.body.scrollHeight);\")"
   ]
  },
  {
   "cell_type": "code",
   "execution_count": 552,
   "metadata": {},
   "outputs": [],
   "source": [
    "scroll_body.send_keys(Keys.PAGE_DOWN)"
   ]
  },
  {
   "cell_type": "code",
   "execution_count": 538,
   "metadata": {},
   "outputs": [],
   "source": [
    "test_driver.quit()"
   ]
  },
  {
   "cell_type": "code",
   "execution_count": 328,
   "metadata": {},
   "outputs": [],
   "source": [
    "feed_box=WebDriverWait(test_driver,3).until(\n",
    "                 presence_of_all_elements_located([By.XPATH,\"//div[@tabindex='-1']\"]))"
   ]
  },
  {
   "cell_type": "code",
   "execution_count": 329,
   "metadata": {},
   "outputs": [
    {
     "name": "stdout",
     "output_type": "stream",
     "text": [
      "hidden\n",
      "hidden\n",
      "visible\n",
      "visible\n",
      "visible\n",
      "visible\n",
      "visible\n",
      "visible\n",
      "hidden\n",
      "visible\n",
      "hidden\n",
      "hidden auto\n"
     ]
    }
   ],
   "source": [
    "for feed in feed_box:\n",
    "    print(feed.value_of_css_property(\"overflow\"))\n",
    "    if \"auto\" in feed.value_of_css_property(\"overflow\"):\n",
    "        break"
   ]
  },
  {
   "cell_type": "code",
   "execution_count": 330,
   "metadata": {},
   "outputs": [],
   "source": [
    "feed.send_keys(Keys.PAGE_DOWN)"
   ]
  },
  {
   "cell_type": "code",
   "execution_count": 421,
   "metadata": {},
   "outputs": [],
   "source": [
    "test_box=WebDriverWait(feed,3).until(\n",
    "                 presence_of_all_elements_located([By.XPATH\n",
    "                                                   ,\"//div[@data-review-id and contains(@jsaction,'review.out')]\"]))"
   ]
  },
  {
   "cell_type": "code",
   "execution_count": 432,
   "metadata": {},
   "outputs": [],
   "source": [
    "test_driver.execute_script(\"arguments[0].scrollIntoView({behavior: 'smooth', block: 'center'});\", test_box[3])"
   ]
  },
  {
   "cell_type": "code",
   "execution_count": null,
   "metadata": {},
   "outputs": [],
   "source": [
    "but_test=WebDriverWait(test_box[10],3).until(\n",
    "                    presence_of_element_located([By.XPATH,\".//button[contains(text(),'자세히')]\"]))"
   ]
  },
  {
   "cell_type": "code",
   "execution_count": 378,
   "metadata": {},
   "outputs": [],
   "source": [
    "but_test.click()"
   ]
  },
  {
   "cell_type": "code",
   "execution_count": 425,
   "metadata": {},
   "outputs": [],
   "source": [
    "reviewer_info=WebDriverWait(test_box[10],3).until(\n",
    "                    presence_of_element_located([By.XPATH,\".//button[@aria-label and contains(@jsaction,'reviewerLink')]\"]))"
   ]
  },
  {
   "cell_type": "code",
   "execution_count": 426,
   "metadata": {},
   "outputs": [],
   "source": [
    "reviewer_rating=WebDriverWait(test_box[10],3).until(\n",
    "                    presence_of_element_located([By.XPATH,\".//span[@role='img' and contains(@aria-label,'별표')]\"]))"
   ]
  },
  {
   "cell_type": "code",
   "execution_count": 427,
   "metadata": {},
   "outputs": [
    {
     "data": {
      "text/plain": [
       "'별표 4개'"
      ]
     },
     "execution_count": 427,
     "metadata": {},
     "output_type": "execute_result"
    }
   ],
   "source": [
    "reviewer_rating.get_attribute(\"aria-label\")"
   ]
  },
  {
   "cell_type": "code",
   "execution_count": 429,
   "metadata": {},
   "outputs": [],
   "source": [
    "reviewer_rev=WebDriverWait(test_box[10],3).until(\n",
    "                    presence_of_element_located([By.XPATH,\".//div[@lang='ko']/span[not(@jslog)]\"])).text"
   ]
  },
  {
   "cell_type": "code",
   "execution_count": 430,
   "metadata": {},
   "outputs": [
    {
     "name": "stdout",
     "output_type": "stream",
     "text": [
      "브릭오븐은 아직도 예전의 맛을 유지하고 있는것같다. 정통 미국식 피자를 변함없이 즐길 수있다. 양도 크고 배도 부르지만.\n"
     ]
    }
   ],
   "source": [
    "print(reviewer_rev)"
   ]
  },
  {
   "cell_type": "code",
   "execution_count": 444,
   "metadata": {},
   "outputs": [],
   "source": [
    "reviewer_table=WebDriverWait(test_box[3],3).until(\n",
    "                    presence_of_all_elements_located([By.XPATH,\".//div[@jslog]/div[contains(@jslog,'metadata')]\"]))"
   ]
  },
  {
   "cell_type": "code",
   "execution_count": 464,
   "metadata": {},
   "outputs": [
    {
     "data": {
      "text/plain": [
       "'서비스\\n매장 내 식사'"
      ]
     },
     "execution_count": 464,
     "metadata": {},
     "output_type": "execute_result"
    }
   ],
   "source": [
    "reviewer_table[0].text"
   ]
  },
  {
   "cell_type": "code",
   "execution_count": 462,
   "metadata": {},
   "outputs": [
    {
     "data": {
      "text/plain": [
       "''"
      ]
     },
     "execution_count": 462,
     "metadata": {},
     "output_type": "execute_result"
    }
   ],
   "source": [
    "ros[4].text"
   ]
  },
  {
   "cell_type": "code",
   "execution_count": 255,
   "metadata": {},
   "outputs": [],
   "source": [
    "test_driver.quit()"
   ]
  },
  {
   "cell_type": "code",
   "execution_count": 171,
   "metadata": {},
   "outputs": [],
   "source": [
    "tab_select[\"리뷰\"].click()"
   ]
  },
  {
   "cell_type": "code",
   "execution_count": 181,
   "metadata": {},
   "outputs": [
    {
     "data": {
      "text/plain": [
       "<selenium.webdriver.remote.webelement.WebElement (session=\"3b2fad94135727537c2907b051d73ed4\", element=\"f.8B8818B3D0ED11F3C24611D3C1BDB109.d.BBD111B9F2019B07A2B31414B0EE70AE.e.143\")>"
      ]
     },
     "execution_count": 181,
     "metadata": {},
     "output_type": "execute_result"
    }
   ],
   "source": [
    "test_driver.find_element(By.XPATH,\"//div[contains(text(), '리뷰')]\")"
   ]
  },
  {
   "cell_type": "code",
   "execution_count": 180,
   "metadata": {},
   "outputs": [
    {
     "data": {
      "text/plain": [
       "['1', '1', '6', '7']"
      ]
     },
     "execution_count": 180,
     "metadata": {},
     "output_type": "execute_result"
    }
   ],
   "source": [
    "aa='리뷰 1,167개'\n",
    "[t for t in aa if t.isdigit()]"
   ]
  },
  {
   "cell_type": "code",
   "execution_count": null,
   "metadata": {},
   "outputs": [
    {
     "ename": "NoSuchElementException",
     "evalue": "Message: no such element: Unable to locate element: {\"method\":\"css selector\",\"selector\":\".jANrlb>ceNzKf\"}\n  (Session info: chrome=131.0.6778.205); For documentation on this error, please visit: https://www.selenium.dev/documentation/webdriver/troubleshooting/errors#no-such-element-exception\nStacktrace:\n0   chromedriver                        0x000000010504f184 cxxbridge1$str$ptr + 3626716\n1   chromedriver                        0x00000001050479d4 cxxbridge1$str$ptr + 3596076\n2   chromedriver                        0x0000000104ab4968 cxxbridge1$string$len + 89228\n3   chromedriver                        0x0000000104af8d50 cxxbridge1$string$len + 368756\n4   chromedriver                        0x0000000104b325b4 cxxbridge1$string$len + 604376\n5   chromedriver                        0x0000000104aed568 cxxbridge1$string$len + 321676\n6   chromedriver                        0x0000000104aee1b8 cxxbridge1$string$len + 324828\n7   chromedriver                        0x000000010501a9ac cxxbridge1$str$ptr + 3411716\n8   chromedriver                        0x000000010501dccc cxxbridge1$str$ptr + 3424804\n9   chromedriver                        0x000000010500186c cxxbridge1$str$ptr + 3308996\n10  chromedriver                        0x000000010501e58c cxxbridge1$str$ptr + 3427044\n11  chromedriver                        0x0000000104ff309c cxxbridge1$str$ptr + 3249652\n12  chromedriver                        0x00000001050384b8 cxxbridge1$str$ptr + 3533328\n13  chromedriver                        0x0000000105038634 cxxbridge1$str$ptr + 3533708\n14  chromedriver                        0x0000000105047648 cxxbridge1$str$ptr + 3595168\n15  libsystem_pthread.dylib             0x00000001889f72e4 _pthread_start + 136\n16  libsystem_pthread.dylib             0x00000001889f20fc thread_start + 8\n",
     "output_type": "error",
     "traceback": [
      "\u001b[0;31m---------------------------------------------------------------------------\u001b[0m",
      "\u001b[0;31mNoSuchElementException\u001b[0m                    Traceback (most recent call last)",
      "Cell \u001b[0;32mIn[174], line 1\u001b[0m\n\u001b[0;32m----> 1\u001b[0m get_rating\u001b[38;5;241m=\u001b[39m\u001b[43mtest_driver\u001b[49m\u001b[38;5;241;43m.\u001b[39;49m\u001b[43mfind_element\u001b[49m\u001b[43m(\u001b[49m\u001b[43mBy\u001b[49m\u001b[38;5;241;43m.\u001b[39;49m\u001b[43mCLASS_NAME\u001b[49m\u001b[43m,\u001b[49m\u001b[38;5;124;43m\"\u001b[39;49m\u001b[38;5;124;43mjANrlb>ceNzKf\u001b[39;49m\u001b[38;5;124;43m\"\u001b[39;49m\u001b[43m)\u001b[49m\u001b[38;5;241m.\u001b[39mget_attribute(\u001b[38;5;124m\"\u001b[39m\u001b[38;5;124maria-label\u001b[39m\u001b[38;5;124m\"\u001b[39m)\n",
      "File \u001b[0;32m~/Documents/github/GoogleMap/googlemap/lib/python3.9/site-packages/selenium/webdriver/remote/webdriver.py:770\u001b[0m, in \u001b[0;36mWebDriver.find_element\u001b[0;34m(self, by, value)\u001b[0m\n\u001b[1;32m    767\u001b[0m         \u001b[38;5;28;01mraise\u001b[39;00m NoSuchElementException(\u001b[38;5;124mf\u001b[39m\u001b[38;5;124m\"\u001b[39m\u001b[38;5;124mCannot locate relative element with: \u001b[39m\u001b[38;5;132;01m{\u001b[39;00mby\u001b[38;5;241m.\u001b[39mroot\u001b[38;5;132;01m}\u001b[39;00m\u001b[38;5;124m\"\u001b[39m)\n\u001b[1;32m    768\u001b[0m     \u001b[38;5;28;01mreturn\u001b[39;00m elements[\u001b[38;5;241m0\u001b[39m]\n\u001b[0;32m--> 770\u001b[0m \u001b[38;5;28;01mreturn\u001b[39;00m \u001b[38;5;28;43mself\u001b[39;49m\u001b[38;5;241;43m.\u001b[39;49m\u001b[43mexecute\u001b[49m\u001b[43m(\u001b[49m\u001b[43mCommand\u001b[49m\u001b[38;5;241;43m.\u001b[39;49m\u001b[43mFIND_ELEMENT\u001b[49m\u001b[43m,\u001b[49m\u001b[43m \u001b[49m\u001b[43m{\u001b[49m\u001b[38;5;124;43m\"\u001b[39;49m\u001b[38;5;124;43musing\u001b[39;49m\u001b[38;5;124;43m\"\u001b[39;49m\u001b[43m:\u001b[49m\u001b[43m \u001b[49m\u001b[43mby\u001b[49m\u001b[43m,\u001b[49m\u001b[43m \u001b[49m\u001b[38;5;124;43m\"\u001b[39;49m\u001b[38;5;124;43mvalue\u001b[39;49m\u001b[38;5;124;43m\"\u001b[39;49m\u001b[43m:\u001b[49m\u001b[43m \u001b[49m\u001b[43mvalue\u001b[49m\u001b[43m}\u001b[49m\u001b[43m)\u001b[49m[\u001b[38;5;124m\"\u001b[39m\u001b[38;5;124mvalue\u001b[39m\u001b[38;5;124m\"\u001b[39m]\n",
      "File \u001b[0;32m~/Documents/github/GoogleMap/googlemap/lib/python3.9/site-packages/selenium/webdriver/remote/webdriver.py:384\u001b[0m, in \u001b[0;36mWebDriver.execute\u001b[0;34m(self, driver_command, params)\u001b[0m\n\u001b[1;32m    382\u001b[0m response \u001b[38;5;241m=\u001b[39m \u001b[38;5;28mself\u001b[39m\u001b[38;5;241m.\u001b[39mcommand_executor\u001b[38;5;241m.\u001b[39mexecute(driver_command, params)\n\u001b[1;32m    383\u001b[0m \u001b[38;5;28;01mif\u001b[39;00m response:\n\u001b[0;32m--> 384\u001b[0m     \u001b[38;5;28;43mself\u001b[39;49m\u001b[38;5;241;43m.\u001b[39;49m\u001b[43merror_handler\u001b[49m\u001b[38;5;241;43m.\u001b[39;49m\u001b[43mcheck_response\u001b[49m\u001b[43m(\u001b[49m\u001b[43mresponse\u001b[49m\u001b[43m)\u001b[49m\n\u001b[1;32m    385\u001b[0m     response[\u001b[38;5;124m\"\u001b[39m\u001b[38;5;124mvalue\u001b[39m\u001b[38;5;124m\"\u001b[39m] \u001b[38;5;241m=\u001b[39m \u001b[38;5;28mself\u001b[39m\u001b[38;5;241m.\u001b[39m_unwrap_value(response\u001b[38;5;241m.\u001b[39mget(\u001b[38;5;124m\"\u001b[39m\u001b[38;5;124mvalue\u001b[39m\u001b[38;5;124m\"\u001b[39m, \u001b[38;5;28;01mNone\u001b[39;00m))\n\u001b[1;32m    386\u001b[0m     \u001b[38;5;28;01mreturn\u001b[39;00m response\n",
      "File \u001b[0;32m~/Documents/github/GoogleMap/googlemap/lib/python3.9/site-packages/selenium/webdriver/remote/errorhandler.py:232\u001b[0m, in \u001b[0;36mErrorHandler.check_response\u001b[0;34m(self, response)\u001b[0m\n\u001b[1;32m    230\u001b[0m         alert_text \u001b[38;5;241m=\u001b[39m value[\u001b[38;5;124m\"\u001b[39m\u001b[38;5;124malert\u001b[39m\u001b[38;5;124m\"\u001b[39m]\u001b[38;5;241m.\u001b[39mget(\u001b[38;5;124m\"\u001b[39m\u001b[38;5;124mtext\u001b[39m\u001b[38;5;124m\"\u001b[39m)\n\u001b[1;32m    231\u001b[0m     \u001b[38;5;28;01mraise\u001b[39;00m exception_class(message, screen, stacktrace, alert_text)  \u001b[38;5;66;03m# type: ignore[call-arg]  # mypy is not smart enough here\u001b[39;00m\n\u001b[0;32m--> 232\u001b[0m \u001b[38;5;28;01mraise\u001b[39;00m exception_class(message, screen, stacktrace)\n",
      "\u001b[0;31mNoSuchElementException\u001b[0m: Message: no such element: Unable to locate element: {\"method\":\"css selector\",\"selector\":\".jANrlb>ceNzKf\"}\n  (Session info: chrome=131.0.6778.205); For documentation on this error, please visit: https://www.selenium.dev/documentation/webdriver/troubleshooting/errors#no-such-element-exception\nStacktrace:\n0   chromedriver                        0x000000010504f184 cxxbridge1$str$ptr + 3626716\n1   chromedriver                        0x00000001050479d4 cxxbridge1$str$ptr + 3596076\n2   chromedriver                        0x0000000104ab4968 cxxbridge1$string$len + 89228\n3   chromedriver                        0x0000000104af8d50 cxxbridge1$string$len + 368756\n4   chromedriver                        0x0000000104b325b4 cxxbridge1$string$len + 604376\n5   chromedriver                        0x0000000104aed568 cxxbridge1$string$len + 321676\n6   chromedriver                        0x0000000104aee1b8 cxxbridge1$string$len + 324828\n7   chromedriver                        0x000000010501a9ac cxxbridge1$str$ptr + 3411716\n8   chromedriver                        0x000000010501dccc cxxbridge1$str$ptr + 3424804\n9   chromedriver                        0x000000010500186c cxxbridge1$str$ptr + 3308996\n10  chromedriver                        0x000000010501e58c cxxbridge1$str$ptr + 3427044\n11  chromedriver                        0x0000000104ff309c cxxbridge1$str$ptr + 3249652\n12  chromedriver                        0x00000001050384b8 cxxbridge1$str$ptr + 3533328\n13  chromedriver                        0x0000000105038634 cxxbridge1$str$ptr + 3533708\n14  chromedriver                        0x0000000105047648 cxxbridge1$str$ptr + 3595168\n15  libsystem_pthread.dylib             0x00000001889f72e4 _pthread_start + 136\n16  libsystem_pthread.dylib             0x00000001889f20fc thread_start + 8\n"
     ]
    }
   ],
   "source": [
    "get_rating=test_driver.find_element(By.CLASS_NAME,\"ceNzKf\").get_attribute(\"aria-label\")"
   ]
  },
  {
   "cell_type": "code",
   "execution_count": 16,
   "metadata": {},
   "outputs": [],
   "source": [
    "take_img=WebDriverWait(test_driver,3).until(\n",
    "    presence_of_element_located([By.XPATH, '//*[@role=\"img\"]']))"
   ]
  },
  {
   "cell_type": "code",
   "execution_count": 41,
   "metadata": {},
   "outputs": [],
   "source": [
    "res_info=WebDriverWait(test_driver,3).until(\n",
    "    presence_of_element_located([By.XPATH, '//*[@role=\"region\"]']))"
   ]
  },
  {
   "cell_type": "code",
   "execution_count": null,
   "metadata": {},
   "outputs": [],
   "source": [
    "address=WebDriverWait(res_info,3).until(\n",
    "    presence_of_element_located([By.XPATH, '//*[@data-item-id=\"address\"]']))"
   ]
  },
  {
   "cell_type": "code",
   "execution_count": 45,
   "metadata": {},
   "outputs": [
    {
     "data": {
      "text/plain": [
       "'주소: 서울특별시 강남구 강남대로96길 9 '"
      ]
     },
     "execution_count": 45,
     "metadata": {},
     "output_type": "execute_result"
    }
   ],
   "source": [
    "address.get_attribute(\"aria-label\")"
   ]
  },
  {
   "cell_type": "code",
   "execution_count": 50,
   "metadata": {},
   "outputs": [],
   "source": [
    "tabs=WebDriverWait(test_driver,3).until(\n",
    "    presence_of_element_located([By.XPATH, '//*[@role=\"tab\"]']))"
   ]
  },
  {
   "cell_type": "code",
   "execution_count": 52,
   "metadata": {},
   "outputs": [
    {
     "data": {
      "text/plain": [
       "'개요'"
      ]
     },
     "execution_count": 52,
     "metadata": {},
     "output_type": "execute_result"
    }
   ],
   "source": [
    "tabs."
   ]
  },
  {
   "cell_type": "code",
   "execution_count": 53,
   "metadata": {},
   "outputs": [],
   "source": [
    "test_driver.quit()"
   ]
  },
  {
   "cell_type": "code",
   "execution_count": 3,
   "metadata": {},
   "outputs": [],
   "source": [
    "Main_Drive.quit()"
   ]
  },
  {
   "cell_type": "markdown",
   "metadata": {},
   "source": [
    "### Restaurant_info"
   ]
  },
  {
   "cell_type": "code",
   "execution_count": 88,
   "metadata": {},
   "outputs": [
    {
     "data": {
      "text/plain": [
       "'바비레드 강남본점'"
      ]
     },
     "execution_count": 88,
     "metadata": {},
     "output_type": "execute_result"
    }
   ],
   "source": [
    "feed_box[0].get_attribute(\"aria-label\")"
   ]
  },
  {
   "cell_type": "code",
   "execution_count": 78,
   "metadata": {},
   "outputs": [
    {
     "data": {
      "text/plain": [
       "'feed'"
      ]
     },
     "execution_count": 78,
     "metadata": {},
     "output_type": "execute_result"
    }
   ],
   "source": [
    "main_box.get_attribute(\"role\")"
   ]
  },
  {
   "cell_type": "code",
   "execution_count": 72,
   "metadata": {},
   "outputs": [
    {
     "data": {
      "text/plain": [
       "'바비레드 강남본점'"
      ]
     },
     "execution_count": 72,
     "metadata": {},
     "output_type": "execute_result"
    }
   ],
   "source": [
    "feed_box[0].get_attribute(\"aria-label\")"
   ]
  },
  {
   "cell_type": "code",
   "execution_count": 89,
   "metadata": {},
   "outputs": [],
   "source": [
    "Main_Drive.quit()"
   ]
  },
  {
   "cell_type": "code",
   "execution_count": 59,
   "metadata": {},
   "outputs": [
    {
     "ename": "MaxRetryError",
     "evalue": "HTTPConnectionPool(host='localhost', port=57278): Max retries exceeded with url: /session/099672721e87bc05898169d8f5370121/elements (Caused by NewConnectionError('<urllib3.connection.HTTPConnection object at 0x109ffabb0>: Failed to establish a new connection: [Errno 61] Connection refused'))",
     "output_type": "error",
     "traceback": [
      "\u001b[0;31m---------------------------------------------------------------------------\u001b[0m",
      "\u001b[0;31mConnectionRefusedError\u001b[0m                    Traceback (most recent call last)",
      "File \u001b[0;32m~/Documents/github/GoogleMap/googlemap/lib/python3.9/site-packages/urllib3/connection.py:199\u001b[0m, in \u001b[0;36mHTTPConnection._new_conn\u001b[0;34m(self)\u001b[0m\n\u001b[1;32m    198\u001b[0m \u001b[38;5;28;01mtry\u001b[39;00m:\n\u001b[0;32m--> 199\u001b[0m     sock \u001b[38;5;241m=\u001b[39m \u001b[43mconnection\u001b[49m\u001b[38;5;241;43m.\u001b[39;49m\u001b[43mcreate_connection\u001b[49m\u001b[43m(\u001b[49m\n\u001b[1;32m    200\u001b[0m \u001b[43m        \u001b[49m\u001b[43m(\u001b[49m\u001b[38;5;28;43mself\u001b[39;49m\u001b[38;5;241;43m.\u001b[39;49m\u001b[43m_dns_host\u001b[49m\u001b[43m,\u001b[49m\u001b[43m \u001b[49m\u001b[38;5;28;43mself\u001b[39;49m\u001b[38;5;241;43m.\u001b[39;49m\u001b[43mport\u001b[49m\u001b[43m)\u001b[49m\u001b[43m,\u001b[49m\n\u001b[1;32m    201\u001b[0m \u001b[43m        \u001b[49m\u001b[38;5;28;43mself\u001b[39;49m\u001b[38;5;241;43m.\u001b[39;49m\u001b[43mtimeout\u001b[49m\u001b[43m,\u001b[49m\n\u001b[1;32m    202\u001b[0m \u001b[43m        \u001b[49m\u001b[43msource_address\u001b[49m\u001b[38;5;241;43m=\u001b[39;49m\u001b[38;5;28;43mself\u001b[39;49m\u001b[38;5;241;43m.\u001b[39;49m\u001b[43msource_address\u001b[49m\u001b[43m,\u001b[49m\n\u001b[1;32m    203\u001b[0m \u001b[43m        \u001b[49m\u001b[43msocket_options\u001b[49m\u001b[38;5;241;43m=\u001b[39;49m\u001b[38;5;28;43mself\u001b[39;49m\u001b[38;5;241;43m.\u001b[39;49m\u001b[43msocket_options\u001b[49m\u001b[43m,\u001b[49m\n\u001b[1;32m    204\u001b[0m \u001b[43m    \u001b[49m\u001b[43m)\u001b[49m\n\u001b[1;32m    205\u001b[0m \u001b[38;5;28;01mexcept\u001b[39;00m socket\u001b[38;5;241m.\u001b[39mgaierror \u001b[38;5;28;01mas\u001b[39;00m e:\n",
      "File \u001b[0;32m~/Documents/github/GoogleMap/googlemap/lib/python3.9/site-packages/urllib3/util/connection.py:85\u001b[0m, in \u001b[0;36mcreate_connection\u001b[0;34m(address, timeout, source_address, socket_options)\u001b[0m\n\u001b[1;32m     84\u001b[0m \u001b[38;5;28;01mtry\u001b[39;00m:\n\u001b[0;32m---> 85\u001b[0m     \u001b[38;5;28;01mraise\u001b[39;00m err\n\u001b[1;32m     86\u001b[0m \u001b[38;5;28;01mfinally\u001b[39;00m:\n\u001b[1;32m     87\u001b[0m     \u001b[38;5;66;03m# Break explicitly a reference cycle\u001b[39;00m\n",
      "File \u001b[0;32m~/Documents/github/GoogleMap/googlemap/lib/python3.9/site-packages/urllib3/util/connection.py:73\u001b[0m, in \u001b[0;36mcreate_connection\u001b[0;34m(address, timeout, source_address, socket_options)\u001b[0m\n\u001b[1;32m     72\u001b[0m     sock\u001b[38;5;241m.\u001b[39mbind(source_address)\n\u001b[0;32m---> 73\u001b[0m \u001b[43msock\u001b[49m\u001b[38;5;241;43m.\u001b[39;49m\u001b[43mconnect\u001b[49m\u001b[43m(\u001b[49m\u001b[43msa\u001b[49m\u001b[43m)\u001b[49m\n\u001b[1;32m     74\u001b[0m \u001b[38;5;66;03m# Break explicitly a reference cycle\u001b[39;00m\n",
      "\u001b[0;31mConnectionRefusedError\u001b[0m: [Errno 61] Connection refused",
      "\nThe above exception was the direct cause of the following exception:\n",
      "\u001b[0;31mNewConnectionError\u001b[0m                        Traceback (most recent call last)",
      "File \u001b[0;32m~/Documents/github/GoogleMap/googlemap/lib/python3.9/site-packages/urllib3/connectionpool.py:789\u001b[0m, in \u001b[0;36mHTTPConnectionPool.urlopen\u001b[0;34m(self, method, url, body, headers, retries, redirect, assert_same_host, timeout, pool_timeout, release_conn, chunked, body_pos, preload_content, decode_content, **response_kw)\u001b[0m\n\u001b[1;32m    788\u001b[0m \u001b[38;5;66;03m# Make the request on the HTTPConnection object\u001b[39;00m\n\u001b[0;32m--> 789\u001b[0m response \u001b[38;5;241m=\u001b[39m \u001b[38;5;28;43mself\u001b[39;49m\u001b[38;5;241;43m.\u001b[39;49m\u001b[43m_make_request\u001b[49m\u001b[43m(\u001b[49m\n\u001b[1;32m    790\u001b[0m \u001b[43m    \u001b[49m\u001b[43mconn\u001b[49m\u001b[43m,\u001b[49m\n\u001b[1;32m    791\u001b[0m \u001b[43m    \u001b[49m\u001b[43mmethod\u001b[49m\u001b[43m,\u001b[49m\n\u001b[1;32m    792\u001b[0m \u001b[43m    \u001b[49m\u001b[43murl\u001b[49m\u001b[43m,\u001b[49m\n\u001b[1;32m    793\u001b[0m \u001b[43m    \u001b[49m\u001b[43mtimeout\u001b[49m\u001b[38;5;241;43m=\u001b[39;49m\u001b[43mtimeout_obj\u001b[49m\u001b[43m,\u001b[49m\n\u001b[1;32m    794\u001b[0m \u001b[43m    \u001b[49m\u001b[43mbody\u001b[49m\u001b[38;5;241;43m=\u001b[39;49m\u001b[43mbody\u001b[49m\u001b[43m,\u001b[49m\n\u001b[1;32m    795\u001b[0m \u001b[43m    \u001b[49m\u001b[43mheaders\u001b[49m\u001b[38;5;241;43m=\u001b[39;49m\u001b[43mheaders\u001b[49m\u001b[43m,\u001b[49m\n\u001b[1;32m    796\u001b[0m \u001b[43m    \u001b[49m\u001b[43mchunked\u001b[49m\u001b[38;5;241;43m=\u001b[39;49m\u001b[43mchunked\u001b[49m\u001b[43m,\u001b[49m\n\u001b[1;32m    797\u001b[0m \u001b[43m    \u001b[49m\u001b[43mretries\u001b[49m\u001b[38;5;241;43m=\u001b[39;49m\u001b[43mretries\u001b[49m\u001b[43m,\u001b[49m\n\u001b[1;32m    798\u001b[0m \u001b[43m    \u001b[49m\u001b[43mresponse_conn\u001b[49m\u001b[38;5;241;43m=\u001b[39;49m\u001b[43mresponse_conn\u001b[49m\u001b[43m,\u001b[49m\n\u001b[1;32m    799\u001b[0m \u001b[43m    \u001b[49m\u001b[43mpreload_content\u001b[49m\u001b[38;5;241;43m=\u001b[39;49m\u001b[43mpreload_content\u001b[49m\u001b[43m,\u001b[49m\n\u001b[1;32m    800\u001b[0m \u001b[43m    \u001b[49m\u001b[43mdecode_content\u001b[49m\u001b[38;5;241;43m=\u001b[39;49m\u001b[43mdecode_content\u001b[49m\u001b[43m,\u001b[49m\n\u001b[1;32m    801\u001b[0m \u001b[43m    \u001b[49m\u001b[38;5;241;43m*\u001b[39;49m\u001b[38;5;241;43m*\u001b[39;49m\u001b[43mresponse_kw\u001b[49m\u001b[43m,\u001b[49m\n\u001b[1;32m    802\u001b[0m \u001b[43m\u001b[49m\u001b[43m)\u001b[49m\n\u001b[1;32m    804\u001b[0m \u001b[38;5;66;03m# Everything went great!\u001b[39;00m\n",
      "File \u001b[0;32m~/Documents/github/GoogleMap/googlemap/lib/python3.9/site-packages/urllib3/connectionpool.py:495\u001b[0m, in \u001b[0;36mHTTPConnectionPool._make_request\u001b[0;34m(self, conn, method, url, body, headers, retries, timeout, chunked, response_conn, preload_content, decode_content, enforce_content_length)\u001b[0m\n\u001b[1;32m    494\u001b[0m \u001b[38;5;28;01mtry\u001b[39;00m:\n\u001b[0;32m--> 495\u001b[0m     \u001b[43mconn\u001b[49m\u001b[38;5;241;43m.\u001b[39;49m\u001b[43mrequest\u001b[49m\u001b[43m(\u001b[49m\n\u001b[1;32m    496\u001b[0m \u001b[43m        \u001b[49m\u001b[43mmethod\u001b[49m\u001b[43m,\u001b[49m\n\u001b[1;32m    497\u001b[0m \u001b[43m        \u001b[49m\u001b[43murl\u001b[49m\u001b[43m,\u001b[49m\n\u001b[1;32m    498\u001b[0m \u001b[43m        \u001b[49m\u001b[43mbody\u001b[49m\u001b[38;5;241;43m=\u001b[39;49m\u001b[43mbody\u001b[49m\u001b[43m,\u001b[49m\n\u001b[1;32m    499\u001b[0m \u001b[43m        \u001b[49m\u001b[43mheaders\u001b[49m\u001b[38;5;241;43m=\u001b[39;49m\u001b[43mheaders\u001b[49m\u001b[43m,\u001b[49m\n\u001b[1;32m    500\u001b[0m \u001b[43m        \u001b[49m\u001b[43mchunked\u001b[49m\u001b[38;5;241;43m=\u001b[39;49m\u001b[43mchunked\u001b[49m\u001b[43m,\u001b[49m\n\u001b[1;32m    501\u001b[0m \u001b[43m        \u001b[49m\u001b[43mpreload_content\u001b[49m\u001b[38;5;241;43m=\u001b[39;49m\u001b[43mpreload_content\u001b[49m\u001b[43m,\u001b[49m\n\u001b[1;32m    502\u001b[0m \u001b[43m        \u001b[49m\u001b[43mdecode_content\u001b[49m\u001b[38;5;241;43m=\u001b[39;49m\u001b[43mdecode_content\u001b[49m\u001b[43m,\u001b[49m\n\u001b[1;32m    503\u001b[0m \u001b[43m        \u001b[49m\u001b[43menforce_content_length\u001b[49m\u001b[38;5;241;43m=\u001b[39;49m\u001b[43menforce_content_length\u001b[49m\u001b[43m,\u001b[49m\n\u001b[1;32m    504\u001b[0m \u001b[43m    \u001b[49m\u001b[43m)\u001b[49m\n\u001b[1;32m    506\u001b[0m \u001b[38;5;66;03m# We are swallowing BrokenPipeError (errno.EPIPE) since the server is\u001b[39;00m\n\u001b[1;32m    507\u001b[0m \u001b[38;5;66;03m# legitimately able to close the connection after sending a valid response.\u001b[39;00m\n\u001b[1;32m    508\u001b[0m \u001b[38;5;66;03m# With this behaviour, the received response is still readable.\u001b[39;00m\n",
      "File \u001b[0;32m~/Documents/github/GoogleMap/googlemap/lib/python3.9/site-packages/urllib3/connection.py:441\u001b[0m, in \u001b[0;36mHTTPConnection.request\u001b[0;34m(self, method, url, body, headers, chunked, preload_content, decode_content, enforce_content_length)\u001b[0m\n\u001b[1;32m    440\u001b[0m     \u001b[38;5;28mself\u001b[39m\u001b[38;5;241m.\u001b[39mputheader(header, value)\n\u001b[0;32m--> 441\u001b[0m \u001b[38;5;28;43mself\u001b[39;49m\u001b[38;5;241;43m.\u001b[39;49m\u001b[43mendheaders\u001b[49m\u001b[43m(\u001b[49m\u001b[43m)\u001b[49m\n\u001b[1;32m    443\u001b[0m \u001b[38;5;66;03m# If we're given a body we start sending that in chunks.\u001b[39;00m\n",
      "File \u001b[0;32m/Library/Developer/CommandLineTools/Library/Frameworks/Python3.framework/Versions/3.9/lib/python3.9/http/client.py:1252\u001b[0m, in \u001b[0;36mHTTPConnection.endheaders\u001b[0;34m(self, message_body, encode_chunked)\u001b[0m\n\u001b[1;32m   1251\u001b[0m     \u001b[38;5;28;01mraise\u001b[39;00m CannotSendHeader()\n\u001b[0;32m-> 1252\u001b[0m \u001b[38;5;28;43mself\u001b[39;49m\u001b[38;5;241;43m.\u001b[39;49m\u001b[43m_send_output\u001b[49m\u001b[43m(\u001b[49m\u001b[43mmessage_body\u001b[49m\u001b[43m,\u001b[49m\u001b[43m \u001b[49m\u001b[43mencode_chunked\u001b[49m\u001b[38;5;241;43m=\u001b[39;49m\u001b[43mencode_chunked\u001b[49m\u001b[43m)\u001b[49m\n",
      "File \u001b[0;32m/Library/Developer/CommandLineTools/Library/Frameworks/Python3.framework/Versions/3.9/lib/python3.9/http/client.py:1012\u001b[0m, in \u001b[0;36mHTTPConnection._send_output\u001b[0;34m(self, message_body, encode_chunked)\u001b[0m\n\u001b[1;32m   1011\u001b[0m \u001b[38;5;28;01mdel\u001b[39;00m \u001b[38;5;28mself\u001b[39m\u001b[38;5;241m.\u001b[39m_buffer[:]\n\u001b[0;32m-> 1012\u001b[0m \u001b[38;5;28;43mself\u001b[39;49m\u001b[38;5;241;43m.\u001b[39;49m\u001b[43msend\u001b[49m\u001b[43m(\u001b[49m\u001b[43mmsg\u001b[49m\u001b[43m)\u001b[49m\n\u001b[1;32m   1014\u001b[0m \u001b[38;5;28;01mif\u001b[39;00m message_body \u001b[38;5;129;01mis\u001b[39;00m \u001b[38;5;129;01mnot\u001b[39;00m \u001b[38;5;28;01mNone\u001b[39;00m:\n\u001b[1;32m   1015\u001b[0m \n\u001b[1;32m   1016\u001b[0m     \u001b[38;5;66;03m# create a consistent interface to message_body\u001b[39;00m\n",
      "File \u001b[0;32m/Library/Developer/CommandLineTools/Library/Frameworks/Python3.framework/Versions/3.9/lib/python3.9/http/client.py:952\u001b[0m, in \u001b[0;36mHTTPConnection.send\u001b[0;34m(self, data)\u001b[0m\n\u001b[1;32m    951\u001b[0m \u001b[38;5;28;01mif\u001b[39;00m \u001b[38;5;28mself\u001b[39m\u001b[38;5;241m.\u001b[39mauto_open:\n\u001b[0;32m--> 952\u001b[0m     \u001b[38;5;28;43mself\u001b[39;49m\u001b[38;5;241;43m.\u001b[39;49m\u001b[43mconnect\u001b[49m\u001b[43m(\u001b[49m\u001b[43m)\u001b[49m\n\u001b[1;32m    953\u001b[0m \u001b[38;5;28;01melse\u001b[39;00m:\n",
      "File \u001b[0;32m~/Documents/github/GoogleMap/googlemap/lib/python3.9/site-packages/urllib3/connection.py:279\u001b[0m, in \u001b[0;36mHTTPConnection.connect\u001b[0;34m(self)\u001b[0m\n\u001b[1;32m    278\u001b[0m \u001b[38;5;28;01mdef\u001b[39;00m \u001b[38;5;21mconnect\u001b[39m(\u001b[38;5;28mself\u001b[39m) \u001b[38;5;241m-\u001b[39m\u001b[38;5;241m>\u001b[39m \u001b[38;5;28;01mNone\u001b[39;00m:\n\u001b[0;32m--> 279\u001b[0m     \u001b[38;5;28mself\u001b[39m\u001b[38;5;241m.\u001b[39msock \u001b[38;5;241m=\u001b[39m \u001b[38;5;28;43mself\u001b[39;49m\u001b[38;5;241;43m.\u001b[39;49m\u001b[43m_new_conn\u001b[49m\u001b[43m(\u001b[49m\u001b[43m)\u001b[49m\n\u001b[1;32m    280\u001b[0m     \u001b[38;5;28;01mif\u001b[39;00m \u001b[38;5;28mself\u001b[39m\u001b[38;5;241m.\u001b[39m_tunnel_host:\n\u001b[1;32m    281\u001b[0m         \u001b[38;5;66;03m# If we're tunneling it means we're connected to our proxy.\u001b[39;00m\n",
      "File \u001b[0;32m~/Documents/github/GoogleMap/googlemap/lib/python3.9/site-packages/urllib3/connection.py:214\u001b[0m, in \u001b[0;36mHTTPConnection._new_conn\u001b[0;34m(self)\u001b[0m\n\u001b[1;32m    213\u001b[0m \u001b[38;5;28;01mexcept\u001b[39;00m \u001b[38;5;167;01mOSError\u001b[39;00m \u001b[38;5;28;01mas\u001b[39;00m e:\n\u001b[0;32m--> 214\u001b[0m     \u001b[38;5;28;01mraise\u001b[39;00m NewConnectionError(\n\u001b[1;32m    215\u001b[0m         \u001b[38;5;28mself\u001b[39m, \u001b[38;5;124mf\u001b[39m\u001b[38;5;124m\"\u001b[39m\u001b[38;5;124mFailed to establish a new connection: \u001b[39m\u001b[38;5;132;01m{\u001b[39;00me\u001b[38;5;132;01m}\u001b[39;00m\u001b[38;5;124m\"\u001b[39m\n\u001b[1;32m    216\u001b[0m     ) \u001b[38;5;28;01mfrom\u001b[39;00m \u001b[38;5;21;01me\u001b[39;00m\n\u001b[1;32m    218\u001b[0m \u001b[38;5;66;03m# Audit hooks are only available in Python 3.8+\u001b[39;00m\n",
      "\u001b[0;31mNewConnectionError\u001b[0m: <urllib3.connection.HTTPConnection object at 0x109ffabb0>: Failed to establish a new connection: [Errno 61] Connection refused",
      "\nThe above exception was the direct cause of the following exception:\n",
      "\u001b[0;31mMaxRetryError\u001b[0m                             Traceback (most recent call last)",
      "Cell \u001b[0;32mIn[59], line 1\u001b[0m\n\u001b[0;32m----> 1\u001b[0m test_elements\u001b[38;5;241m=\u001b[39m\u001b[43mMain_Drive\u001b[49m\u001b[38;5;241;43m.\u001b[39;49m\u001b[43mfind_elements\u001b[49m\u001b[43m(\u001b[49m\u001b[43mBy\u001b[49m\u001b[38;5;241;43m.\u001b[39;49m\u001b[43mCLASS_NAME\u001b[49m\u001b[43m,\u001b[49m\u001b[38;5;124;43m\"\u001b[39;49m\u001b[38;5;124;43mhfpxzc\u001b[39;49m\u001b[38;5;124;43m\"\u001b[39;49m\u001b[43m)\u001b[49m\n",
      "File \u001b[0;32m~/Documents/github/GoogleMap/googlemap/lib/python3.9/site-packages/selenium/webdriver/remote/webdriver.py:792\u001b[0m, in \u001b[0;36mWebDriver.find_elements\u001b[0;34m(self, by, value)\u001b[0m\n\u001b[1;32m    788\u001b[0m     \u001b[38;5;28;01mreturn\u001b[39;00m \u001b[38;5;28mself\u001b[39m\u001b[38;5;241m.\u001b[39mexecute_script(find_element_js, by\u001b[38;5;241m.\u001b[39mto_dict())\n\u001b[1;32m    790\u001b[0m \u001b[38;5;66;03m# Return empty list if driver returns null\u001b[39;00m\n\u001b[1;32m    791\u001b[0m \u001b[38;5;66;03m# See https://github.com/SeleniumHQ/selenium/issues/4555\u001b[39;00m\n\u001b[0;32m--> 792\u001b[0m \u001b[38;5;28;01mreturn\u001b[39;00m \u001b[38;5;28;43mself\u001b[39;49m\u001b[38;5;241;43m.\u001b[39;49m\u001b[43mexecute\u001b[49m\u001b[43m(\u001b[49m\u001b[43mCommand\u001b[49m\u001b[38;5;241;43m.\u001b[39;49m\u001b[43mFIND_ELEMENTS\u001b[49m\u001b[43m,\u001b[49m\u001b[43m \u001b[49m\u001b[43m{\u001b[49m\u001b[38;5;124;43m\"\u001b[39;49m\u001b[38;5;124;43musing\u001b[39;49m\u001b[38;5;124;43m\"\u001b[39;49m\u001b[43m:\u001b[49m\u001b[43m \u001b[49m\u001b[43mby\u001b[49m\u001b[43m,\u001b[49m\u001b[43m \u001b[49m\u001b[38;5;124;43m\"\u001b[39;49m\u001b[38;5;124;43mvalue\u001b[39;49m\u001b[38;5;124;43m\"\u001b[39;49m\u001b[43m:\u001b[49m\u001b[43m \u001b[49m\u001b[43mvalue\u001b[49m\u001b[43m}\u001b[49m\u001b[43m)\u001b[49m[\u001b[38;5;124m\"\u001b[39m\u001b[38;5;124mvalue\u001b[39m\u001b[38;5;124m\"\u001b[39m] \u001b[38;5;129;01mor\u001b[39;00m []\n",
      "File \u001b[0;32m~/Documents/github/GoogleMap/googlemap/lib/python3.9/site-packages/selenium/webdriver/remote/webdriver.py:382\u001b[0m, in \u001b[0;36mWebDriver.execute\u001b[0;34m(self, driver_command, params)\u001b[0m\n\u001b[1;32m    379\u001b[0m     \u001b[38;5;28;01melif\u001b[39;00m \u001b[38;5;124m\"\u001b[39m\u001b[38;5;124msessionId\u001b[39m\u001b[38;5;124m\"\u001b[39m \u001b[38;5;129;01mnot\u001b[39;00m \u001b[38;5;129;01min\u001b[39;00m params:\n\u001b[1;32m    380\u001b[0m         params[\u001b[38;5;124m\"\u001b[39m\u001b[38;5;124msessionId\u001b[39m\u001b[38;5;124m\"\u001b[39m] \u001b[38;5;241m=\u001b[39m \u001b[38;5;28mself\u001b[39m\u001b[38;5;241m.\u001b[39msession_id\n\u001b[0;32m--> 382\u001b[0m response \u001b[38;5;241m=\u001b[39m \u001b[38;5;28;43mself\u001b[39;49m\u001b[38;5;241;43m.\u001b[39;49m\u001b[43mcommand_executor\u001b[49m\u001b[38;5;241;43m.\u001b[39;49m\u001b[43mexecute\u001b[49m\u001b[43m(\u001b[49m\u001b[43mdriver_command\u001b[49m\u001b[43m,\u001b[49m\u001b[43m \u001b[49m\u001b[43mparams\u001b[49m\u001b[43m)\u001b[49m\n\u001b[1;32m    383\u001b[0m \u001b[38;5;28;01mif\u001b[39;00m response:\n\u001b[1;32m    384\u001b[0m     \u001b[38;5;28mself\u001b[39m\u001b[38;5;241m.\u001b[39merror_handler\u001b[38;5;241m.\u001b[39mcheck_response(response)\n",
      "File \u001b[0;32m~/Documents/github/GoogleMap/googlemap/lib/python3.9/site-packages/selenium/webdriver/remote/remote_connection.py:404\u001b[0m, in \u001b[0;36mRemoteConnection.execute\u001b[0;34m(self, command, params)\u001b[0m\n\u001b[1;32m    402\u001b[0m trimmed \u001b[38;5;241m=\u001b[39m \u001b[38;5;28mself\u001b[39m\u001b[38;5;241m.\u001b[39m_trim_large_entries(params)\n\u001b[1;32m    403\u001b[0m LOGGER\u001b[38;5;241m.\u001b[39mdebug(\u001b[38;5;124m\"\u001b[39m\u001b[38;5;132;01m%s\u001b[39;00m\u001b[38;5;124m \u001b[39m\u001b[38;5;132;01m%s\u001b[39;00m\u001b[38;5;124m \u001b[39m\u001b[38;5;132;01m%s\u001b[39;00m\u001b[38;5;124m\"\u001b[39m, command_info[\u001b[38;5;241m0\u001b[39m], url, \u001b[38;5;28mstr\u001b[39m(trimmed))\n\u001b[0;32m--> 404\u001b[0m \u001b[38;5;28;01mreturn\u001b[39;00m \u001b[38;5;28;43mself\u001b[39;49m\u001b[38;5;241;43m.\u001b[39;49m\u001b[43m_request\u001b[49m\u001b[43m(\u001b[49m\u001b[43mcommand_info\u001b[49m\u001b[43m[\u001b[49m\u001b[38;5;241;43m0\u001b[39;49m\u001b[43m]\u001b[49m\u001b[43m,\u001b[49m\u001b[43m \u001b[49m\u001b[43murl\u001b[49m\u001b[43m,\u001b[49m\u001b[43m \u001b[49m\u001b[43mbody\u001b[49m\u001b[38;5;241;43m=\u001b[39;49m\u001b[43mdata\u001b[49m\u001b[43m)\u001b[49m\n",
      "File \u001b[0;32m~/Documents/github/GoogleMap/googlemap/lib/python3.9/site-packages/selenium/webdriver/remote/remote_connection.py:428\u001b[0m, in \u001b[0;36mRemoteConnection._request\u001b[0;34m(self, method, url, body)\u001b[0m\n\u001b[1;32m    425\u001b[0m     body \u001b[38;5;241m=\u001b[39m \u001b[38;5;28;01mNone\u001b[39;00m\n\u001b[1;32m    427\u001b[0m \u001b[38;5;28;01mif\u001b[39;00m \u001b[38;5;28mself\u001b[39m\u001b[38;5;241m.\u001b[39m_client_config\u001b[38;5;241m.\u001b[39mkeep_alive:\n\u001b[0;32m--> 428\u001b[0m     response \u001b[38;5;241m=\u001b[39m \u001b[38;5;28;43mself\u001b[39;49m\u001b[38;5;241;43m.\u001b[39;49m\u001b[43m_conn\u001b[49m\u001b[38;5;241;43m.\u001b[39;49m\u001b[43mrequest\u001b[49m\u001b[43m(\u001b[49m\u001b[43mmethod\u001b[49m\u001b[43m,\u001b[49m\u001b[43m \u001b[49m\u001b[43murl\u001b[49m\u001b[43m,\u001b[49m\u001b[43m \u001b[49m\u001b[43mbody\u001b[49m\u001b[38;5;241;43m=\u001b[39;49m\u001b[43mbody\u001b[49m\u001b[43m,\u001b[49m\u001b[43m \u001b[49m\u001b[43mheaders\u001b[49m\u001b[38;5;241;43m=\u001b[39;49m\u001b[43mheaders\u001b[49m\u001b[43m,\u001b[49m\u001b[43m \u001b[49m\u001b[43mtimeout\u001b[49m\u001b[38;5;241;43m=\u001b[39;49m\u001b[38;5;28;43mself\u001b[39;49m\u001b[38;5;241;43m.\u001b[39;49m\u001b[43m_client_config\u001b[49m\u001b[38;5;241;43m.\u001b[39;49m\u001b[43mtimeout\u001b[49m\u001b[43m)\u001b[49m\n\u001b[1;32m    429\u001b[0m     statuscode \u001b[38;5;241m=\u001b[39m response\u001b[38;5;241m.\u001b[39mstatus\n\u001b[1;32m    430\u001b[0m \u001b[38;5;28;01melse\u001b[39;00m:\n",
      "File \u001b[0;32m~/Documents/github/GoogleMap/googlemap/lib/python3.9/site-packages/urllib3/_request_methods.py:143\u001b[0m, in \u001b[0;36mRequestMethods.request\u001b[0;34m(self, method, url, body, fields, headers, json, **urlopen_kw)\u001b[0m\n\u001b[1;32m    135\u001b[0m     \u001b[38;5;28;01mreturn\u001b[39;00m \u001b[38;5;28mself\u001b[39m\u001b[38;5;241m.\u001b[39mrequest_encode_url(\n\u001b[1;32m    136\u001b[0m         method,\n\u001b[1;32m    137\u001b[0m         url,\n\u001b[0;32m   (...)\u001b[0m\n\u001b[1;32m    140\u001b[0m         \u001b[38;5;241m*\u001b[39m\u001b[38;5;241m*\u001b[39murlopen_kw,\n\u001b[1;32m    141\u001b[0m     )\n\u001b[1;32m    142\u001b[0m \u001b[38;5;28;01melse\u001b[39;00m:\n\u001b[0;32m--> 143\u001b[0m     \u001b[38;5;28;01mreturn\u001b[39;00m \u001b[38;5;28;43mself\u001b[39;49m\u001b[38;5;241;43m.\u001b[39;49m\u001b[43mrequest_encode_body\u001b[49m\u001b[43m(\u001b[49m\n\u001b[1;32m    144\u001b[0m \u001b[43m        \u001b[49m\u001b[43mmethod\u001b[49m\u001b[43m,\u001b[49m\u001b[43m \u001b[49m\u001b[43murl\u001b[49m\u001b[43m,\u001b[49m\u001b[43m \u001b[49m\u001b[43mfields\u001b[49m\u001b[38;5;241;43m=\u001b[39;49m\u001b[43mfields\u001b[49m\u001b[43m,\u001b[49m\u001b[43m \u001b[49m\u001b[43mheaders\u001b[49m\u001b[38;5;241;43m=\u001b[39;49m\u001b[43mheaders\u001b[49m\u001b[43m,\u001b[49m\u001b[43m \u001b[49m\u001b[38;5;241;43m*\u001b[39;49m\u001b[38;5;241;43m*\u001b[39;49m\u001b[43murlopen_kw\u001b[49m\n\u001b[1;32m    145\u001b[0m \u001b[43m    \u001b[49m\u001b[43m)\u001b[49m\n",
      "File \u001b[0;32m~/Documents/github/GoogleMap/googlemap/lib/python3.9/site-packages/urllib3/_request_methods.py:278\u001b[0m, in \u001b[0;36mRequestMethods.request_encode_body\u001b[0;34m(self, method, url, fields, headers, encode_multipart, multipart_boundary, **urlopen_kw)\u001b[0m\n\u001b[1;32m    274\u001b[0m     extra_kw[\u001b[38;5;124m\"\u001b[39m\u001b[38;5;124mheaders\u001b[39m\u001b[38;5;124m\"\u001b[39m]\u001b[38;5;241m.\u001b[39msetdefault(\u001b[38;5;124m\"\u001b[39m\u001b[38;5;124mContent-Type\u001b[39m\u001b[38;5;124m\"\u001b[39m, content_type)\n\u001b[1;32m    276\u001b[0m extra_kw\u001b[38;5;241m.\u001b[39mupdate(urlopen_kw)\n\u001b[0;32m--> 278\u001b[0m \u001b[38;5;28;01mreturn\u001b[39;00m \u001b[38;5;28;43mself\u001b[39;49m\u001b[38;5;241;43m.\u001b[39;49m\u001b[43murlopen\u001b[49m\u001b[43m(\u001b[49m\u001b[43mmethod\u001b[49m\u001b[43m,\u001b[49m\u001b[43m \u001b[49m\u001b[43murl\u001b[49m\u001b[43m,\u001b[49m\u001b[43m \u001b[49m\u001b[38;5;241;43m*\u001b[39;49m\u001b[38;5;241;43m*\u001b[39;49m\u001b[43mextra_kw\u001b[49m\u001b[43m)\u001b[49m\n",
      "File \u001b[0;32m~/Documents/github/GoogleMap/googlemap/lib/python3.9/site-packages/urllib3/poolmanager.py:443\u001b[0m, in \u001b[0;36mPoolManager.urlopen\u001b[0;34m(self, method, url, redirect, **kw)\u001b[0m\n\u001b[1;32m    441\u001b[0m     response \u001b[38;5;241m=\u001b[39m conn\u001b[38;5;241m.\u001b[39murlopen(method, url, \u001b[38;5;241m*\u001b[39m\u001b[38;5;241m*\u001b[39mkw)\n\u001b[1;32m    442\u001b[0m \u001b[38;5;28;01melse\u001b[39;00m:\n\u001b[0;32m--> 443\u001b[0m     response \u001b[38;5;241m=\u001b[39m \u001b[43mconn\u001b[49m\u001b[38;5;241;43m.\u001b[39;49m\u001b[43murlopen\u001b[49m\u001b[43m(\u001b[49m\u001b[43mmethod\u001b[49m\u001b[43m,\u001b[49m\u001b[43m \u001b[49m\u001b[43mu\u001b[49m\u001b[38;5;241;43m.\u001b[39;49m\u001b[43mrequest_uri\u001b[49m\u001b[43m,\u001b[49m\u001b[43m \u001b[49m\u001b[38;5;241;43m*\u001b[39;49m\u001b[38;5;241;43m*\u001b[39;49m\u001b[43mkw\u001b[49m\u001b[43m)\u001b[49m\n\u001b[1;32m    445\u001b[0m redirect_location \u001b[38;5;241m=\u001b[39m redirect \u001b[38;5;129;01mand\u001b[39;00m response\u001b[38;5;241m.\u001b[39mget_redirect_location()\n\u001b[1;32m    446\u001b[0m \u001b[38;5;28;01mif\u001b[39;00m \u001b[38;5;129;01mnot\u001b[39;00m redirect_location:\n",
      "File \u001b[0;32m~/Documents/github/GoogleMap/googlemap/lib/python3.9/site-packages/urllib3/connectionpool.py:873\u001b[0m, in \u001b[0;36mHTTPConnectionPool.urlopen\u001b[0;34m(self, method, url, body, headers, retries, redirect, assert_same_host, timeout, pool_timeout, release_conn, chunked, body_pos, preload_content, decode_content, **response_kw)\u001b[0m\n\u001b[1;32m    868\u001b[0m \u001b[38;5;28;01mif\u001b[39;00m \u001b[38;5;129;01mnot\u001b[39;00m conn:\n\u001b[1;32m    869\u001b[0m     \u001b[38;5;66;03m# Try again\u001b[39;00m\n\u001b[1;32m    870\u001b[0m     log\u001b[38;5;241m.\u001b[39mwarning(\n\u001b[1;32m    871\u001b[0m         \u001b[38;5;124m\"\u001b[39m\u001b[38;5;124mRetrying (\u001b[39m\u001b[38;5;132;01m%r\u001b[39;00m\u001b[38;5;124m) after connection broken by \u001b[39m\u001b[38;5;124m'\u001b[39m\u001b[38;5;132;01m%r\u001b[39;00m\u001b[38;5;124m'\u001b[39m\u001b[38;5;124m: \u001b[39m\u001b[38;5;132;01m%s\u001b[39;00m\u001b[38;5;124m\"\u001b[39m, retries, err, url\n\u001b[1;32m    872\u001b[0m     )\n\u001b[0;32m--> 873\u001b[0m     \u001b[38;5;28;01mreturn\u001b[39;00m \u001b[38;5;28;43mself\u001b[39;49m\u001b[38;5;241;43m.\u001b[39;49m\u001b[43murlopen\u001b[49m\u001b[43m(\u001b[49m\n\u001b[1;32m    874\u001b[0m \u001b[43m        \u001b[49m\u001b[43mmethod\u001b[49m\u001b[43m,\u001b[49m\n\u001b[1;32m    875\u001b[0m \u001b[43m        \u001b[49m\u001b[43murl\u001b[49m\u001b[43m,\u001b[49m\n\u001b[1;32m    876\u001b[0m \u001b[43m        \u001b[49m\u001b[43mbody\u001b[49m\u001b[43m,\u001b[49m\n\u001b[1;32m    877\u001b[0m \u001b[43m        \u001b[49m\u001b[43mheaders\u001b[49m\u001b[43m,\u001b[49m\n\u001b[1;32m    878\u001b[0m \u001b[43m        \u001b[49m\u001b[43mretries\u001b[49m\u001b[43m,\u001b[49m\n\u001b[1;32m    879\u001b[0m \u001b[43m        \u001b[49m\u001b[43mredirect\u001b[49m\u001b[43m,\u001b[49m\n\u001b[1;32m    880\u001b[0m \u001b[43m        \u001b[49m\u001b[43massert_same_host\u001b[49m\u001b[43m,\u001b[49m\n\u001b[1;32m    881\u001b[0m \u001b[43m        \u001b[49m\u001b[43mtimeout\u001b[49m\u001b[38;5;241;43m=\u001b[39;49m\u001b[43mtimeout\u001b[49m\u001b[43m,\u001b[49m\n\u001b[1;32m    882\u001b[0m \u001b[43m        \u001b[49m\u001b[43mpool_timeout\u001b[49m\u001b[38;5;241;43m=\u001b[39;49m\u001b[43mpool_timeout\u001b[49m\u001b[43m,\u001b[49m\n\u001b[1;32m    883\u001b[0m \u001b[43m        \u001b[49m\u001b[43mrelease_conn\u001b[49m\u001b[38;5;241;43m=\u001b[39;49m\u001b[43mrelease_conn\u001b[49m\u001b[43m,\u001b[49m\n\u001b[1;32m    884\u001b[0m \u001b[43m        \u001b[49m\u001b[43mchunked\u001b[49m\u001b[38;5;241;43m=\u001b[39;49m\u001b[43mchunked\u001b[49m\u001b[43m,\u001b[49m\n\u001b[1;32m    885\u001b[0m \u001b[43m        \u001b[49m\u001b[43mbody_pos\u001b[49m\u001b[38;5;241;43m=\u001b[39;49m\u001b[43mbody_pos\u001b[49m\u001b[43m,\u001b[49m\n\u001b[1;32m    886\u001b[0m \u001b[43m        \u001b[49m\u001b[43mpreload_content\u001b[49m\u001b[38;5;241;43m=\u001b[39;49m\u001b[43mpreload_content\u001b[49m\u001b[43m,\u001b[49m\n\u001b[1;32m    887\u001b[0m \u001b[43m        \u001b[49m\u001b[43mdecode_content\u001b[49m\u001b[38;5;241;43m=\u001b[39;49m\u001b[43mdecode_content\u001b[49m\u001b[43m,\u001b[49m\n\u001b[1;32m    888\u001b[0m \u001b[43m        \u001b[49m\u001b[38;5;241;43m*\u001b[39;49m\u001b[38;5;241;43m*\u001b[39;49m\u001b[43mresponse_kw\u001b[49m\u001b[43m,\u001b[49m\n\u001b[1;32m    889\u001b[0m \u001b[43m    \u001b[49m\u001b[43m)\u001b[49m\n\u001b[1;32m    891\u001b[0m \u001b[38;5;66;03m# Handle redirect?\u001b[39;00m\n\u001b[1;32m    892\u001b[0m redirect_location \u001b[38;5;241m=\u001b[39m redirect \u001b[38;5;129;01mand\u001b[39;00m response\u001b[38;5;241m.\u001b[39mget_redirect_location()\n",
      "File \u001b[0;32m~/Documents/github/GoogleMap/googlemap/lib/python3.9/site-packages/urllib3/connectionpool.py:873\u001b[0m, in \u001b[0;36mHTTPConnectionPool.urlopen\u001b[0;34m(self, method, url, body, headers, retries, redirect, assert_same_host, timeout, pool_timeout, release_conn, chunked, body_pos, preload_content, decode_content, **response_kw)\u001b[0m\n\u001b[1;32m    868\u001b[0m \u001b[38;5;28;01mif\u001b[39;00m \u001b[38;5;129;01mnot\u001b[39;00m conn:\n\u001b[1;32m    869\u001b[0m     \u001b[38;5;66;03m# Try again\u001b[39;00m\n\u001b[1;32m    870\u001b[0m     log\u001b[38;5;241m.\u001b[39mwarning(\n\u001b[1;32m    871\u001b[0m         \u001b[38;5;124m\"\u001b[39m\u001b[38;5;124mRetrying (\u001b[39m\u001b[38;5;132;01m%r\u001b[39;00m\u001b[38;5;124m) after connection broken by \u001b[39m\u001b[38;5;124m'\u001b[39m\u001b[38;5;132;01m%r\u001b[39;00m\u001b[38;5;124m'\u001b[39m\u001b[38;5;124m: \u001b[39m\u001b[38;5;132;01m%s\u001b[39;00m\u001b[38;5;124m\"\u001b[39m, retries, err, url\n\u001b[1;32m    872\u001b[0m     )\n\u001b[0;32m--> 873\u001b[0m     \u001b[38;5;28;01mreturn\u001b[39;00m \u001b[38;5;28;43mself\u001b[39;49m\u001b[38;5;241;43m.\u001b[39;49m\u001b[43murlopen\u001b[49m\u001b[43m(\u001b[49m\n\u001b[1;32m    874\u001b[0m \u001b[43m        \u001b[49m\u001b[43mmethod\u001b[49m\u001b[43m,\u001b[49m\n\u001b[1;32m    875\u001b[0m \u001b[43m        \u001b[49m\u001b[43murl\u001b[49m\u001b[43m,\u001b[49m\n\u001b[1;32m    876\u001b[0m \u001b[43m        \u001b[49m\u001b[43mbody\u001b[49m\u001b[43m,\u001b[49m\n\u001b[1;32m    877\u001b[0m \u001b[43m        \u001b[49m\u001b[43mheaders\u001b[49m\u001b[43m,\u001b[49m\n\u001b[1;32m    878\u001b[0m \u001b[43m        \u001b[49m\u001b[43mretries\u001b[49m\u001b[43m,\u001b[49m\n\u001b[1;32m    879\u001b[0m \u001b[43m        \u001b[49m\u001b[43mredirect\u001b[49m\u001b[43m,\u001b[49m\n\u001b[1;32m    880\u001b[0m \u001b[43m        \u001b[49m\u001b[43massert_same_host\u001b[49m\u001b[43m,\u001b[49m\n\u001b[1;32m    881\u001b[0m \u001b[43m        \u001b[49m\u001b[43mtimeout\u001b[49m\u001b[38;5;241;43m=\u001b[39;49m\u001b[43mtimeout\u001b[49m\u001b[43m,\u001b[49m\n\u001b[1;32m    882\u001b[0m \u001b[43m        \u001b[49m\u001b[43mpool_timeout\u001b[49m\u001b[38;5;241;43m=\u001b[39;49m\u001b[43mpool_timeout\u001b[49m\u001b[43m,\u001b[49m\n\u001b[1;32m    883\u001b[0m \u001b[43m        \u001b[49m\u001b[43mrelease_conn\u001b[49m\u001b[38;5;241;43m=\u001b[39;49m\u001b[43mrelease_conn\u001b[49m\u001b[43m,\u001b[49m\n\u001b[1;32m    884\u001b[0m \u001b[43m        \u001b[49m\u001b[43mchunked\u001b[49m\u001b[38;5;241;43m=\u001b[39;49m\u001b[43mchunked\u001b[49m\u001b[43m,\u001b[49m\n\u001b[1;32m    885\u001b[0m \u001b[43m        \u001b[49m\u001b[43mbody_pos\u001b[49m\u001b[38;5;241;43m=\u001b[39;49m\u001b[43mbody_pos\u001b[49m\u001b[43m,\u001b[49m\n\u001b[1;32m    886\u001b[0m \u001b[43m        \u001b[49m\u001b[43mpreload_content\u001b[49m\u001b[38;5;241;43m=\u001b[39;49m\u001b[43mpreload_content\u001b[49m\u001b[43m,\u001b[49m\n\u001b[1;32m    887\u001b[0m \u001b[43m        \u001b[49m\u001b[43mdecode_content\u001b[49m\u001b[38;5;241;43m=\u001b[39;49m\u001b[43mdecode_content\u001b[49m\u001b[43m,\u001b[49m\n\u001b[1;32m    888\u001b[0m \u001b[43m        \u001b[49m\u001b[38;5;241;43m*\u001b[39;49m\u001b[38;5;241;43m*\u001b[39;49m\u001b[43mresponse_kw\u001b[49m\u001b[43m,\u001b[49m\n\u001b[1;32m    889\u001b[0m \u001b[43m    \u001b[49m\u001b[43m)\u001b[49m\n\u001b[1;32m    891\u001b[0m \u001b[38;5;66;03m# Handle redirect?\u001b[39;00m\n\u001b[1;32m    892\u001b[0m redirect_location \u001b[38;5;241m=\u001b[39m redirect \u001b[38;5;129;01mand\u001b[39;00m response\u001b[38;5;241m.\u001b[39mget_redirect_location()\n",
      "File \u001b[0;32m~/Documents/github/GoogleMap/googlemap/lib/python3.9/site-packages/urllib3/connectionpool.py:873\u001b[0m, in \u001b[0;36mHTTPConnectionPool.urlopen\u001b[0;34m(self, method, url, body, headers, retries, redirect, assert_same_host, timeout, pool_timeout, release_conn, chunked, body_pos, preload_content, decode_content, **response_kw)\u001b[0m\n\u001b[1;32m    868\u001b[0m \u001b[38;5;28;01mif\u001b[39;00m \u001b[38;5;129;01mnot\u001b[39;00m conn:\n\u001b[1;32m    869\u001b[0m     \u001b[38;5;66;03m# Try again\u001b[39;00m\n\u001b[1;32m    870\u001b[0m     log\u001b[38;5;241m.\u001b[39mwarning(\n\u001b[1;32m    871\u001b[0m         \u001b[38;5;124m\"\u001b[39m\u001b[38;5;124mRetrying (\u001b[39m\u001b[38;5;132;01m%r\u001b[39;00m\u001b[38;5;124m) after connection broken by \u001b[39m\u001b[38;5;124m'\u001b[39m\u001b[38;5;132;01m%r\u001b[39;00m\u001b[38;5;124m'\u001b[39m\u001b[38;5;124m: \u001b[39m\u001b[38;5;132;01m%s\u001b[39;00m\u001b[38;5;124m\"\u001b[39m, retries, err, url\n\u001b[1;32m    872\u001b[0m     )\n\u001b[0;32m--> 873\u001b[0m     \u001b[38;5;28;01mreturn\u001b[39;00m \u001b[38;5;28;43mself\u001b[39;49m\u001b[38;5;241;43m.\u001b[39;49m\u001b[43murlopen\u001b[49m\u001b[43m(\u001b[49m\n\u001b[1;32m    874\u001b[0m \u001b[43m        \u001b[49m\u001b[43mmethod\u001b[49m\u001b[43m,\u001b[49m\n\u001b[1;32m    875\u001b[0m \u001b[43m        \u001b[49m\u001b[43murl\u001b[49m\u001b[43m,\u001b[49m\n\u001b[1;32m    876\u001b[0m \u001b[43m        \u001b[49m\u001b[43mbody\u001b[49m\u001b[43m,\u001b[49m\n\u001b[1;32m    877\u001b[0m \u001b[43m        \u001b[49m\u001b[43mheaders\u001b[49m\u001b[43m,\u001b[49m\n\u001b[1;32m    878\u001b[0m \u001b[43m        \u001b[49m\u001b[43mretries\u001b[49m\u001b[43m,\u001b[49m\n\u001b[1;32m    879\u001b[0m \u001b[43m        \u001b[49m\u001b[43mredirect\u001b[49m\u001b[43m,\u001b[49m\n\u001b[1;32m    880\u001b[0m \u001b[43m        \u001b[49m\u001b[43massert_same_host\u001b[49m\u001b[43m,\u001b[49m\n\u001b[1;32m    881\u001b[0m \u001b[43m        \u001b[49m\u001b[43mtimeout\u001b[49m\u001b[38;5;241;43m=\u001b[39;49m\u001b[43mtimeout\u001b[49m\u001b[43m,\u001b[49m\n\u001b[1;32m    882\u001b[0m \u001b[43m        \u001b[49m\u001b[43mpool_timeout\u001b[49m\u001b[38;5;241;43m=\u001b[39;49m\u001b[43mpool_timeout\u001b[49m\u001b[43m,\u001b[49m\n\u001b[1;32m    883\u001b[0m \u001b[43m        \u001b[49m\u001b[43mrelease_conn\u001b[49m\u001b[38;5;241;43m=\u001b[39;49m\u001b[43mrelease_conn\u001b[49m\u001b[43m,\u001b[49m\n\u001b[1;32m    884\u001b[0m \u001b[43m        \u001b[49m\u001b[43mchunked\u001b[49m\u001b[38;5;241;43m=\u001b[39;49m\u001b[43mchunked\u001b[49m\u001b[43m,\u001b[49m\n\u001b[1;32m    885\u001b[0m \u001b[43m        \u001b[49m\u001b[43mbody_pos\u001b[49m\u001b[38;5;241;43m=\u001b[39;49m\u001b[43mbody_pos\u001b[49m\u001b[43m,\u001b[49m\n\u001b[1;32m    886\u001b[0m \u001b[43m        \u001b[49m\u001b[43mpreload_content\u001b[49m\u001b[38;5;241;43m=\u001b[39;49m\u001b[43mpreload_content\u001b[49m\u001b[43m,\u001b[49m\n\u001b[1;32m    887\u001b[0m \u001b[43m        \u001b[49m\u001b[43mdecode_content\u001b[49m\u001b[38;5;241;43m=\u001b[39;49m\u001b[43mdecode_content\u001b[49m\u001b[43m,\u001b[49m\n\u001b[1;32m    888\u001b[0m \u001b[43m        \u001b[49m\u001b[38;5;241;43m*\u001b[39;49m\u001b[38;5;241;43m*\u001b[39;49m\u001b[43mresponse_kw\u001b[49m\u001b[43m,\u001b[49m\n\u001b[1;32m    889\u001b[0m \u001b[43m    \u001b[49m\u001b[43m)\u001b[49m\n\u001b[1;32m    891\u001b[0m \u001b[38;5;66;03m# Handle redirect?\u001b[39;00m\n\u001b[1;32m    892\u001b[0m redirect_location \u001b[38;5;241m=\u001b[39m redirect \u001b[38;5;129;01mand\u001b[39;00m response\u001b[38;5;241m.\u001b[39mget_redirect_location()\n",
      "File \u001b[0;32m~/Documents/github/GoogleMap/googlemap/lib/python3.9/site-packages/urllib3/connectionpool.py:843\u001b[0m, in \u001b[0;36mHTTPConnectionPool.urlopen\u001b[0;34m(self, method, url, body, headers, retries, redirect, assert_same_host, timeout, pool_timeout, release_conn, chunked, body_pos, preload_content, decode_content, **response_kw)\u001b[0m\n\u001b[1;32m    840\u001b[0m \u001b[38;5;28;01melif\u001b[39;00m \u001b[38;5;28misinstance\u001b[39m(new_e, (\u001b[38;5;167;01mOSError\u001b[39;00m, HTTPException)):\n\u001b[1;32m    841\u001b[0m     new_e \u001b[38;5;241m=\u001b[39m ProtocolError(\u001b[38;5;124m\"\u001b[39m\u001b[38;5;124mConnection aborted.\u001b[39m\u001b[38;5;124m\"\u001b[39m, new_e)\n\u001b[0;32m--> 843\u001b[0m retries \u001b[38;5;241m=\u001b[39m \u001b[43mretries\u001b[49m\u001b[38;5;241;43m.\u001b[39;49m\u001b[43mincrement\u001b[49m\u001b[43m(\u001b[49m\n\u001b[1;32m    844\u001b[0m \u001b[43m    \u001b[49m\u001b[43mmethod\u001b[49m\u001b[43m,\u001b[49m\u001b[43m \u001b[49m\u001b[43murl\u001b[49m\u001b[43m,\u001b[49m\u001b[43m \u001b[49m\u001b[43merror\u001b[49m\u001b[38;5;241;43m=\u001b[39;49m\u001b[43mnew_e\u001b[49m\u001b[43m,\u001b[49m\u001b[43m \u001b[49m\u001b[43m_pool\u001b[49m\u001b[38;5;241;43m=\u001b[39;49m\u001b[38;5;28;43mself\u001b[39;49m\u001b[43m,\u001b[49m\u001b[43m \u001b[49m\u001b[43m_stacktrace\u001b[49m\u001b[38;5;241;43m=\u001b[39;49m\u001b[43msys\u001b[49m\u001b[38;5;241;43m.\u001b[39;49m\u001b[43mexc_info\u001b[49m\u001b[43m(\u001b[49m\u001b[43m)\u001b[49m\u001b[43m[\u001b[49m\u001b[38;5;241;43m2\u001b[39;49m\u001b[43m]\u001b[49m\n\u001b[1;32m    845\u001b[0m \u001b[43m\u001b[49m\u001b[43m)\u001b[49m\n\u001b[1;32m    846\u001b[0m retries\u001b[38;5;241m.\u001b[39msleep()\n\u001b[1;32m    848\u001b[0m \u001b[38;5;66;03m# Keep track of the error for the retry warning.\u001b[39;00m\n",
      "File \u001b[0;32m~/Documents/github/GoogleMap/googlemap/lib/python3.9/site-packages/urllib3/util/retry.py:519\u001b[0m, in \u001b[0;36mRetry.increment\u001b[0;34m(self, method, url, response, error, _pool, _stacktrace)\u001b[0m\n\u001b[1;32m    517\u001b[0m \u001b[38;5;28;01mif\u001b[39;00m new_retry\u001b[38;5;241m.\u001b[39mis_exhausted():\n\u001b[1;32m    518\u001b[0m     reason \u001b[38;5;241m=\u001b[39m error \u001b[38;5;129;01mor\u001b[39;00m ResponseError(cause)\n\u001b[0;32m--> 519\u001b[0m     \u001b[38;5;28;01mraise\u001b[39;00m MaxRetryError(_pool, url, reason) \u001b[38;5;28;01mfrom\u001b[39;00m \u001b[38;5;21;01mreason\u001b[39;00m  \u001b[38;5;66;03m# type: ignore[arg-type]\u001b[39;00m\n\u001b[1;32m    521\u001b[0m log\u001b[38;5;241m.\u001b[39mdebug(\u001b[38;5;124m\"\u001b[39m\u001b[38;5;124mIncremented Retry for (url=\u001b[39m\u001b[38;5;124m'\u001b[39m\u001b[38;5;132;01m%s\u001b[39;00m\u001b[38;5;124m'\u001b[39m\u001b[38;5;124m): \u001b[39m\u001b[38;5;132;01m%r\u001b[39;00m\u001b[38;5;124m\"\u001b[39m, url, new_retry)\n\u001b[1;32m    523\u001b[0m \u001b[38;5;28;01mreturn\u001b[39;00m new_retry\n",
      "\u001b[0;31mMaxRetryError\u001b[0m: HTTPConnectionPool(host='localhost', port=57278): Max retries exceeded with url: /session/099672721e87bc05898169d8f5370121/elements (Caused by NewConnectionError('<urllib3.connection.HTTPConnection object at 0x109ffabb0>: Failed to establish a new connection: [Errno 61] Connection refused'))"
     ]
    }
   ],
   "source": [
    "test_elements=Main_Drive.find_elements(By.CLASS_NAME,\"hfpxzc\")"
   ]
  },
  {
   "cell_type": "code",
   "execution_count": 47,
   "metadata": {},
   "outputs": [
    {
     "data": {
      "text/plain": [
       "'땀땀'"
      ]
     },
     "execution_count": 47,
     "metadata": {},
     "output_type": "execute_result"
    }
   ],
   "source": [
    "test_elements[-1].get_attribute(\"aria-label\")"
   ]
  },
  {
   "cell_type": "code",
   "execution_count": 48,
   "metadata": {},
   "outputs": [
    {
     "data": {
      "text/plain": [
       "'https://www.google.co.kr/maps/place/%EB%95%80%EB%95%80/data=!4m7!3m6!1s0x357cbba6cab8be71:0x123ebf3924dc0759!8m2!3d37.5003867!4d127.027994!16s%2Fg%2F11hcqrdf1p!19sChIJcb64yqa7fDURWQfcJDm_PhI?authuser=0&hl=ko&rclk=1'"
      ]
     },
     "execution_count": 48,
     "metadata": {},
     "output_type": "execute_result"
    }
   ],
   "source": [
    "test_elements[-1].get_attribute(\"href\")"
   ]
  },
  {
   "cell_type": "code",
   "execution_count": 49,
   "metadata": {},
   "outputs": [],
   "source": [
    "Main_Drive.quit()"
   ]
  },
  {
   "cell_type": "code",
   "execution_count": 22,
   "metadata": {},
   "outputs": [],
   "source": [
    "# 검색창\n",
    "feedbox=Main_Drive.find_elements(By.TAG_NAME,\"div\")"
   ]
  },
  {
   "cell_type": "code",
   "execution_count": 25,
   "metadata": {},
   "outputs": [],
   "source": [
    "feed_test=[element for element in feedbox if element.get_attribute(\"role\")==\"feed\"]"
   ]
  },
  {
   "cell_type": "code",
   "execution_count": 29,
   "metadata": {},
   "outputs": [
    {
     "data": {
      "text/plain": [
       "'강남역 맛집에 대한 검색결과'"
      ]
     },
     "execution_count": 29,
     "metadata": {},
     "output_type": "execute_result"
    }
   ],
   "source": [
    "feed_test[0].get_attribute(\"aria-label\")"
   ]
  },
  {
   "cell_type": "code",
   "execution_count": 33,
   "metadata": {},
   "outputs": [],
   "source": [
    "from selenium.webdriver.common.keys import Keys\n",
    "\n",
    "for _ in range(10):\n",
    "    feed_test[0].send_keys(Keys.PAGE_DOWN)"
   ]
  },
  {
   "cell_type": "markdown",
   "metadata": {},
   "source": [
    "테스트 끝."
   ]
  },
  {
   "cell_type": "code",
   "execution_count": 37,
   "metadata": {},
   "outputs": [],
   "source": [
    "Main_Drive.quit()"
   ]
  },
  {
   "cell_type": "code",
   "execution_count": 40,
   "metadata": {},
   "outputs": [],
   "source": [
    "from threading import Thread"
   ]
  },
  {
   "cell_type": "markdown",
   "metadata": {},
   "source": [
    "구조 \n",
    "\n",
    "step 1 : url get\n",
    "\n",
    "step 2 : url을 통해 세부정보 get"
   ]
  },
  {
   "cell_type": "markdown",
   "metadata": {},
   "source": []
  }
 ],
 "metadata": {
  "kernelspec": {
   "display_name": "googlemap",
   "language": "python",
   "name": "python3"
  },
  "language_info": {
   "codemirror_mode": {
    "name": "ipython",
    "version": 3
   },
   "file_extension": ".py",
   "mimetype": "text/x-python",
   "name": "python",
   "nbconvert_exporter": "python",
   "pygments_lexer": "ipython3",
   "version": "3.9.6"
  }
 },
 "nbformat": 4,
 "nbformat_minor": 2
}

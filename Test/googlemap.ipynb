{
 "cells": [
  {
   "cell_type": "markdown",
   "metadata": {},
   "source": [
    "### URL parsing"
   ]
  },
  {
   "cell_type": "code",
   "execution_count": 1,
   "metadata": {},
   "outputs": [
    {
     "name": "stdout",
     "output_type": "stream",
     "text": [
      "%EA%B0%95%EB%82%A8%EC%97%AD%20%EB%A7%9B%EC%A7%91\n"
     ]
    }
   ],
   "source": [
    "import urllib.parse\n",
    "\n",
    "# 한글 문자열\n",
    "text = \"강남역 맛집\"\n",
    "\n",
    "# URL 인코딩\n",
    "encoded_text = urllib.parse.quote(text)\n",
    "\n",
    "base_path=f\"https://www.google.co.kr/maps/search/{encoded_text}\"\n",
    "\n",
    "print(encoded_text)"
   ]
  },
  {
   "cell_type": "markdown",
   "metadata": {},
   "source": [
    "### googlemap_info"
   ]
  },
  {
   "cell_type": "code",
   "execution_count": 2,
   "metadata": {},
   "outputs": [
    {
     "name": "stderr",
     "output_type": "stream",
     "text": [
      "/Users/ijeonghun/Documents/github/GoogleMap/googlemap/lib/python3.9/site-packages/urllib3/__init__.py:35: NotOpenSSLWarning: urllib3 v2 only supports OpenSSL 1.1.1+, currently the 'ssl' module is compiled with 'LibreSSL 2.8.3'. See: https://github.com/urllib3/urllib3/issues/3020\n",
      "  warnings.warn(\n"
     ]
    }
   ],
   "source": [
    "import selenium\n",
    "from selenium.webdriver import Chrome\n",
    "from selenium.webdriver.support.wait import WebDriverWait\n",
    "from selenium.webdriver.support.select import By\n",
    "from selenium.webdriver.common.keys import Keys\n",
    "from selenium.webdriver.support.expected_conditions import visibility_of_all_elements_located,presence_of_element_located,presence_of_all_elements_located\n",
    "\n",
    "# 레스토랑 db insert 기초 틀\n",
    "def restuarant_properties(search_term,restaurant_name,url,address,rating,category,**kwrargs):\n",
    "    \n",
    "    properties={\"검색어\" : {\"rich_text\" : [{\"text\": {\"content\": search_term}}]},\n",
    "                \"음식점이름\" : {\"title\" : [{\"text\" : {'content': restaurant_name}}]},\n",
    "                \"URL\" : {\"url\" : url},\n",
    "                \"주소\" : {\"rich_text\" : [{\"text\": {\"content\": address}}]},\n",
    "                \"별점\" : {\"number\" : rating},\n",
    "                \"카테고리\" : {\"rich_text\" : [{\"text\": {\"content\": category}}]}\n",
    "                }\n",
    "    return properties\n",
    "\n",
    "# 리뷰 db insert 기초 틀\n",
    "def review_properties(restaurant_name,user,review,**kwargs):\n",
    "\n",
    "    properties={\"음식점이름\" : {\"title\" : [{\"text\": {\"content\": restaurant_name}}]},\n",
    "                \"유저\" : {\"rich_text\" : [{\"text\": {\"content\": user}}]},\n",
    "                \"리뷰\" : {\"rich_text\" : [{\"text\": {\"content\": review}}]}\n",
    "                }\n",
    "    return properties\n",
    "\n",
    "\n",
    "info_num=20\n",
    "\n",
    "Main_Drive=Chrome()\n",
    "Main_Drive.get(base_path)\n",
    "Sub_Drive=Chrome()\n",
    "\n",
    "main_box=WebDriverWait(Main_Drive,3).until(\n",
    "    presence_of_element_located([By.XPATH, '//*[@role=\"feed\"]']))\n",
    "\n",
    "while True:\n",
    "    main_box.send_keys(Keys.PAGE_DOWN)\n",
    "\n",
    "    feed_box=WebDriverWait(Main_Drive,3).until(\n",
    "        visibility_of_all_elements_located([By.CLASS_NAME,\"hfpxzc\"]))\n",
    "    \n",
    "    if len(feed_box)>info_num:\n",
    "        break\n",
    "\n",
    "infos=[]\n",
    "\n",
    "for sub_feed in feed_box:\n",
    "    search_term=text #위의 코드 에서 가져옴 수정필요\n",
    "    restaurant_name=sub_feed.get_attribute(\"aria-label\")\n",
    "    url=sub_feed.get_attribute(\"href\")\n",
    "\n",
    "    infos.append(\n",
    "        restuarant_properties(search_term,restaurant_name,url,None,None,None)\n",
    "    )\n",
    "\n",
    "for sub_info in infos:\n",
    "    Sub_Drive.get(sub_info[\"URL\"])\n",
    "\n",
    "    #별점\n",
    "    rating=WebDriverWait(Sub_Drive,3).until(\n",
    "    presence_of_element_located([By.XPATH, '//*[@role=\"img\"]'])).get_attribute(\"aria-label\")\n",
    "    # 전처리해야함\n",
    "    rating=\"\".join([term for term in rating if not term.isalpha()]).strip()\n",
    "    rating=float(rating)\n",
    "\n",
    "    #음식점 카테고리\n",
    "    category=WebDriverWait(Sub_Drive,3).until(\n",
    "    presence_of_element_located([By.CSS_SELECTOR,'button.DkEaL'])).text\n",
    "\n",
    "    #정보선택칸\n",
    "    tabs=WebDriverWait(Sub_Drive,3).until(\n",
    "    presence_of_all_elements_located([By.XPATH, '//*[@role=\"tab\"]']))\n",
    "    tab_select={element.text:element for element in tabs}\n",
    "    \n",
    "    #하위 정보칸\n",
    "    info_region=WebDriverWait(Sub_Drive,3).until(\n",
    "    presence_of_element_located([By.XPATH, '//*[@role=\"region\"]']))\n",
    "    #주소\n",
    "    address=WebDriverWait(info_region,3).until(\n",
    "    presence_of_element_located([By.XPATH, '//*[@data-item-id=\"address\"]']))\n",
    "    "
   ]
  },
  {
   "cell_type": "code",
   "execution_count": 105,
   "metadata": {},
   "outputs": [],
   "source": [
    "Main_Drive=Chrome()\n",
    "Main_Drive.get(base_path)\n",
    "info_num=30\n",
    "#Sub_Drive=Chrome()\n",
    "\n",
    "main_box=WebDriverWait(Main_Drive,3).until(\n",
    "    presence_of_element_located([By.XPATH, '//*[@role=\"feed\"]']))\n",
    "\n",
    "while True:\n",
    "    main_box.send_keys(Keys.PAGE_DOWN)\n",
    "\n",
    "    feed_box=WebDriverWait(Main_Drive,3).until(\n",
    "        visibility_of_all_elements_located([By.CSS_SELECTOR,\"a.hfpxzc\"]))\n",
    "    \n",
    "    if len(feed_box)>info_num:\n",
    "        break\n",
    "\n",
    "infos=[]\n",
    "\n",
    "for sub_feed in feed_box:\n",
    "    search_term=text #위의 코드 에서 가져옴 수정필요\n",
    "    restaurant_name=sub_feed.get_attribute(\"aria-label\")\n",
    "    url=sub_feed.get_attribute(\"href\")\n",
    "\n",
    "    infos.append(\n",
    "        restuarant_properties(search_term,restaurant_name,url,None,None,None)\n",
    "    )"
   ]
  },
  {
   "cell_type": "code",
   "execution_count": 107,
   "metadata": {},
   "outputs": [],
   "source": [
    "Main_Drive.quit()"
   ]
  },
  {
   "cell_type": "code",
   "execution_count": 122,
   "metadata": {},
   "outputs": [],
   "source": [
    "#%%writefile GooglemapCraw.py\n",
    "from selenium.webdriver import Chrome\n",
    "from selenium.webdriver.chrome.options import Options\n",
    "import urllib.parse\n",
    "from selenium.webdriver.common.keys import Keys\n",
    "from selenium.webdriver.support.expected_conditions import visibility_of_all_elements_located,presence_of_element_located,presence_of_all_elements_located\n",
    "\n",
    "\n",
    "class GooglemapCraw():\n",
    "    def  __init__(self,search_term,craw_num:int,optional:bool=True):\n",
    "\n",
    "        # Chrome 옵션 설정\n",
    "        chrome_options = Options()\n",
    "        chrome_options.add_argument(\"--headless\")  # Headless 모드\n",
    "\n",
    "        if optional:\n",
    "            self.main_drive=Chrome(options=chrome_options) # url까지 크롤\n",
    "            self.sub_drive=Chrome(options=chrome_options) # 기본정보 크롤\n",
    "        else:\n",
    "            self.main_drive=Chrome()\n",
    "            self.sub_drive=Chrome()\n",
    "        self.craw_num=craw_num\n",
    "        self.search_term=search_term\n",
    "        self.infos=[] # 임시 저장공간\n",
    "\n",
    "        encoded_text = urllib.parse.quote(self.search_term)\n",
    "        self.base_path=f\"https://www.google.co.kr/maps/search/{encoded_text}\" # 크롤링이 될 주소(파싱될 예정)\n",
    "        pass\n",
    "\n",
    "    def __restuarant_properties(self,search_term,restaurant_name,url,address,rating,category,**kwrargs):\n",
    "    \n",
    "        properties={\"검색어\" : {\"rich_text\" : [{\"text\": {\"content\": search_term}}]},\n",
    "                \"음식점이름\" : {\"title\" : [{\"text\" : {'content': restaurant_name}}]},\n",
    "                \"URL\" : {\"url\" : url},\n",
    "                \"주소\" : {\"rich_text\" : [{\"text\": {\"content\": address}}]},\n",
    "                \"별점\" : {\"number\" : rating},\n",
    "                \"카테고리\" : {\"rich_text\" : [{\"text\": {\"content\": category}}]}\n",
    "                }\n",
    "        return properties\n",
    "\n",
    "    # 리뷰 db insert 기초 틀\n",
    "    def __review_properties(self,restaurant_name,user,review,**kwargs):\n",
    "\n",
    "        properties={\"음식점이름\" : {\"title\" : [{\"text\": {\"content\": restaurant_name}}]},\n",
    "                    \"유저\" : {\"rich_text\" : [{\"text\": {\"content\": user}}]},\n",
    "                    \"리뷰\" : {\"rich_text\" : [{\"text\": {\"content\": review}}]}\n",
    "                    }\n",
    "        return properties\n",
    "    \n",
    "    def craw(self):\n",
    "        self.main_drive.get(self.base_path)\n",
    "        # 스크롤을 내리는 공간\n",
    "        main_box=WebDriverWait(self.main_drive,3).until(\n",
    "        presence_of_element_located([By.XPATH, '//*[@role=\"feed\"]']))\n",
    "\n",
    "        while True:\n",
    "            main_box.send_keys(Keys.PAGE_DOWN)\n",
    "\n",
    "            feed_box=WebDriverWait(self.main_drive,3).until(\n",
    "                visibility_of_all_elements_located([By.CSS_SELECTOR,\"a.hfpxzc\"]))\n",
    "            \n",
    "            if len(feed_box)>self.craw_num:\n",
    "                break\n",
    "        \n",
    "        for sub_feed in feed_box:\n",
    "            #음식점 이름\n",
    "            restaurant_name=sub_feed.get_attribute(\"aria-label\")\n",
    "            url=sub_feed.get_attribute(\"href\")\n",
    "\n",
    "            self.infos.append(\n",
    "                {\"search_term\":self.search_term,\n",
    "                 \"restaurant_name\":restaurant_name,\n",
    "                 \"url\":url}\n",
    "            )\n",
    "\n",
    "        for sub_info in self.infos:\n",
    "            self.sub_drive.get(sub_info[\"url\"])\n",
    "\n",
    "            #별점\n",
    "            rating=WebDriverWait(self.sub_drive,3).until(\n",
    "            presence_of_element_located([By.XPATH, '//*[@role=\"img\"]'])).get_attribute(\"aria-label\")\n",
    "            #전처리\n",
    "            rating=\"\".join([term for term in rating if not term.isalpha()]).strip()\n",
    "            rating=float(rating)\n",
    "\n",
    "            #음식점 카테고리\n",
    "            category=WebDriverWait(self.sub_drive,3).until(\n",
    "            presence_of_element_located([By.CSS_SELECTOR,'button.DkEaL'])).text\n",
    "\n",
    "            #정보선택칸\n",
    "            tabs=WebDriverWait(self.sub_drive,3).until(\n",
    "            presence_of_all_elements_located([By.XPATH, '//*[@role=\"tab\"]']))\n",
    "            tab_select={element.text:element for element in tabs} # 이후 사용할 예정\n",
    "            \n",
    "            #하위 정보칸\n",
    "            info_region=WebDriverWait(self.sub_drive,3).until(\n",
    "            presence_of_element_located([By.XPATH, '//*[@role=\"region\"]']))\n",
    "            #주소\n",
    "            address=WebDriverWait(info_region,3).until(\n",
    "            presence_of_element_located([By.XPATH, '//*[@data-item-id=\"address\"]'])).text\n",
    "\n",
    "            sub_info.update(\n",
    "                {\"address\":address,\n",
    "                 \"rating\":rating,\n",
    "                 \"category\":category}\n",
    "            )\n",
    "    def close(self):\n",
    "        self.main_drive.quit()\n",
    "        self.sub_drive.quit()"
   ]
  },
  {
   "cell_type": "code",
   "execution_count": 123,
   "metadata": {},
   "outputs": [],
   "source": [
    "test_class=GooglemapCraw(\"강남역 맛집\",20,False)"
   ]
  },
  {
   "cell_type": "code",
   "execution_count": 124,
   "metadata": {},
   "outputs": [],
   "source": [
    "test_class.craw()"
   ]
  },
  {
   "cell_type": "code",
   "execution_count": 125,
   "metadata": {},
   "outputs": [
    {
     "data": {
      "text/plain": [
       "[{'search_term': '강남역 맛집',\n",
       "  'restaurant_name': '바비레드 강남본점',\n",
       "  'url': 'https://www.google.co.kr/maps/place/%EB%B0%94%EB%B9%84%EB%A0%88%EB%93%9C+%EA%B0%95%EB%82%A8%EB%B3%B8%EC%A0%90/data=!4m7!3m6!1s0x357ca3e29805ba2f:0x339ec75093d60a3b!8m2!3d37.5026295!4d127.0278967!16s%2Fg%2F11bbtlp9qn!19sChIJL7oFmOKjfDUROwrWk1DHnjM?authuser=0&hl=ko&rclk=1',\n",
       "  'address': <selenium.webdriver.remote.webelement.WebElement (session=\"0454a257120a46167db9f431ea981f6f\", element=\"f.CAB1FB6440318A6C04C7F291C6C68E7F.d.022BBE45EE35900D1DB910B5B755AD1B.e.339\")>,\n",
       "  'rating': 4.3,\n",
       "  'category': '퓨전 음식점'},\n",
       " {'search_term': '강남역 맛집',\n",
       "  'restaurant_name': '정돈 강남점',\n",
       "  'url': 'https://www.google.co.kr/maps/place/%EC%A0%95%EB%8F%88+%EA%B0%95%EB%82%A8%EC%A0%90/data=!4m7!3m6!1s0x357ca39dc0941e5f:0x73d7fe7d16782344!8m2!3d37.5039525!4d127.026436!16s%2Fg%2F11gxs6965c!19sChIJXx6UwJ2jfDURRCN4Fn3-13M?authuser=0&hl=ko&rclk=1',\n",
       "  'address': <selenium.webdriver.remote.webelement.WebElement (session=\"0454a257120a46167db9f431ea981f6f\", element=\"f.CAB1FB6440318A6C04C7F291C6C68E7F.d.2D5F94A6BBBA64CFFD4A88797267BA9D.e.3002\")>,\n",
       "  'rating': 4.5,\n",
       "  'category': '돈까스 전문식당'},\n",
       " {'search_term': '강남역 맛집',\n",
       "  'restaurant_name': '마녀주방 강남점',\n",
       "  'url': 'https://www.google.co.kr/maps/place/%EB%A7%88%EB%85%80%EC%A3%BC%EB%B0%A9+%EA%B0%95%EB%82%A8%EC%A0%90/data=!4m7!3m6!1s0x357ca159ca280299:0x1429bd52deecb2e7!8m2!3d37.4994147!4d127.0281479!16s%2Fg%2F11c5wsk3xc!19sChIJmQIoylmhfDUR57Ls3lK9KRQ?authuser=0&hl=ko&rclk=1',\n",
       "  'address': <selenium.webdriver.remote.webelement.WebElement (session=\"0454a257120a46167db9f431ea981f6f\", element=\"f.CAB1FB6440318A6C04C7F291C6C68E7F.d.A11689D6F77B6F3B66FF6937D6455C2F.e.5681\")>,\n",
       "  'rating': 4.2,\n",
       "  'category': '이탈리아 음식점'},\n",
       " {'search_term': '강남역 맛집',\n",
       "  'restaurant_name': '구구당',\n",
       "  'url': 'https://www.google.co.kr/maps/place/%EA%B5%AC%EA%B5%AC%EB%8B%B9/data=!4m7!3m6!1s0x357ca318c534fbe7:0x907ab2785197b7ff!8m2!3d37.503262!4d127.0278854!16s%2Fg%2F11h7r1wcsz!19sChIJ5_s0xRijfDUR_7eXUXiyepA?authuser=0&hl=ko&rclk=1',\n",
       "  'address': <selenium.webdriver.remote.webelement.WebElement (session=\"0454a257120a46167db9f431ea981f6f\", element=\"f.CAB1FB6440318A6C04C7F291C6C68E7F.d.6FC2C5500DC5A57D71F5224BA27268EE.e.8194\")>,\n",
       "  'rating': 4.1,\n",
       "  'category': '퓨전 음식점'},\n",
       " {'search_term': '강남역 맛집',\n",
       "  'restaurant_name': '요멘야 고에몬 강남점',\n",
       "  'url': 'https://www.google.co.kr/maps/place/%EC%9A%94%EB%A9%98%EC%95%BC+%EA%B3%A0%EC%97%90%EB%AA%AC+%EA%B0%95%EB%82%A8%EC%A0%90/data=!4m7!3m6!1s0x357ca159798a88c1:0xa8f987666195336b!8m2!3d37.4984321!4d127.0263548!16s%2Fg%2F11b7jgh410!19sChIJwYiKeVmhfDURazOVYWaH-ag?authuser=0&hl=ko&rclk=1',\n",
       "  'address': <selenium.webdriver.remote.webelement.WebElement (session=\"0454a257120a46167db9f431ea981f6f\", element=\"f.CAB1FB6440318A6C04C7F291C6C68E7F.d.D975EFE8F1154431B3AE4BED49581E40.e.10721\")>,\n",
       "  'rating': 4.0,\n",
       "  'category': '일본 음식점'},\n",
       " {'search_term': '강남역 맛집',\n",
       "  'restaurant_name': '땀땀',\n",
       "  'url': 'https://www.google.co.kr/maps/place/%EB%95%80%EB%95%80/data=!4m7!3m6!1s0x357cbba6cab8be71:0x123ebf3924dc0759!8m2!3d37.5003867!4d127.027994!16s%2Fg%2F11hcqrdf1p!19sChIJcb64yqa7fDURWQfcJDm_PhI?authuser=0&hl=ko&rclk=1',\n",
       "  'address': <selenium.webdriver.remote.webelement.WebElement (session=\"0454a257120a46167db9f431ea981f6f\", element=\"f.CAB1FB6440318A6C04C7F291C6C68E7F.d.AEFDC76AA5D2FAFC22CF96060AF2C03C.e.13206\")>,\n",
       "  'rating': 4.1,\n",
       "  'category': '베트남 음식점'},\n",
       " {'search_term': '강남역 맛집',\n",
       "  'restaurant_name': '헤비스테이크 강남역점',\n",
       "  'url': 'https://www.google.co.kr/maps/place/%ED%97%A4%EB%B9%84%EC%8A%A4%ED%85%8C%EC%9D%B4%ED%81%AC+%EA%B0%95%EB%82%A8%EC%97%AD%EC%A0%90/data=!4m7!3m6!1s0x357ca1392fbc48c1:0xb3903a725c11f385!8m2!3d37.4963039!4d127.0301706!16s%2Fg%2F11fmmkfj5f!19sChIJwUi8LzmhfDURhfMRXHI6kLM?authuser=0&hl=ko&rclk=1',\n",
       "  'address': <selenium.webdriver.remote.webelement.WebElement (session=\"0454a257120a46167db9f431ea981f6f\", element=\"f.CAB1FB6440318A6C04C7F291C6C68E7F.d.63C58BC8ADC28A21C9815771C776EE15.e.15686\")>,\n",
       "  'rating': 4.8,\n",
       "  'category': '스테이크 전문점'},\n",
       " {'search_term': '강남역 맛집',\n",
       "  'restaurant_name': '마초쉐프 강남본점',\n",
       "  'url': 'https://www.google.co.kr/maps/place/%EB%A7%88%EC%B4%88%EC%89%90%ED%94%84+%EA%B0%95%EB%82%A8%EB%B3%B8%EC%A0%90/data=!4m7!3m6!1s0x357ca1583f5edbb3:0x9e9295e41fead0cc!8m2!3d37.5034605!4d127.0278301!16s%2Fg%2F11g69z08x6!19sChIJs9teP1ihfDURzNDqH-SVkp4?authuser=0&hl=ko&rclk=1',\n",
       "  'address': <selenium.webdriver.remote.webelement.WebElement (session=\"0454a257120a46167db9f431ea981f6f\", element=\"f.CAB1FB6440318A6C04C7F291C6C68E7F.d.BF7F36F52C5478BBCCC12542CC0483A9.e.18134\")>,\n",
       "  'rating': 4.2,\n",
       "  'category': '이탈리아 음식점'},\n",
       " {'search_term': '강남역 맛집',\n",
       "  'restaurant_name': '아이해브어드림',\n",
       "  'url': 'https://www.google.co.kr/maps/place/%EC%95%84%EC%9D%B4%ED%95%B4%EB%B8%8C%EC%96%B4%EB%93%9C%EB%A6%BC/data=!4m7!3m6!1s0x357ca159eaacf64f:0x8b8596defcabb40b!8m2!3d37.4991702!4d127.0291407!16s%2Fg%2F1v44nc31!19sChIJT_as6lmhfDURC7Sr_N6WhYs?authuser=0&hl=ko&rclk=1',\n",
       "  'address': <selenium.webdriver.remote.webelement.WebElement (session=\"0454a257120a46167db9f431ea981f6f\", element=\"f.CAB1FB6440318A6C04C7F291C6C68E7F.d.6F3A19FF6E67279D6FC926D9035BE744.e.20619\")>,\n",
       "  'rating': 4.3,\n",
       "  'category': '와인 바'},\n",
       " {'search_term': '강남역 맛집',\n",
       "  'restaurant_name': '데일리픽스 강남본점',\n",
       "  'url': 'https://www.google.co.kr/maps/place/%EB%8D%B0%EC%9D%BC%EB%A6%AC%ED%94%BD%EC%8A%A4+%EA%B0%95%EB%82%A8%EB%B3%B8%EC%A0%90/data=!4m7!3m6!1s0x357ca1cb15e2d8cf:0xbb714e822e3957fc!8m2!3d37.4976447!4d127.0324914!16s%2Fg%2F11s_tr5pt1!19sChIJz9jiFcuhfDUR_Fc5LoJOcbs?authuser=0&hl=ko&rclk=1',\n",
       "  'address': <selenium.webdriver.remote.webelement.WebElement (session=\"0454a257120a46167db9f431ea981f6f\", element=\"f.CAB1FB6440318A6C04C7F291C6C68E7F.d.E0038F028BBED71BB759EB23B18E8DE3.e.23162\")>,\n",
       "  'rating': 4.7,\n",
       "  'category': '햄버거 전문점'},\n",
       " {'search_term': '강남역 맛집',\n",
       "  'restaurant_name': '을지다락 강남 레스토랑 | Gangnam restaurants | 강남 맛집 | レストラン | 美食',\n",
       "  'url': 'https://www.google.co.kr/maps/place/%EC%9D%84%EC%A7%80%EB%8B%A4%EB%9D%BD+%EA%B0%95%EB%82%A8+%EB%A0%88%EC%8A%A4%ED%86%A0%EB%9E%91+%7C+Gangnam+restaurants+%7C+%EA%B0%95%EB%82%A8+%EB%A7%9B%EC%A7%91+%7C+%E3%83%AC%E3%82%B9%E3%83%88%E3%83%A9%E3%83%B3+%7C+%E7%BE%8E%E9%A3%9F/data=!4m7!3m6!1s0x357ca1fea6513659:0xd813509b15aacab7!8m2!3d37.4999557!4d127.0287908!16s%2Fg%2F11kq9h45qn!19sChIJWTZRpv6hfDURt8qqFZtQE9g?authuser=0&hl=ko&rclk=1',\n",
       "  'address': <selenium.webdriver.remote.webelement.WebElement (session=\"0454a257120a46167db9f431ea981f6f\", element=\"f.CAB1FB6440318A6C04C7F291C6C68E7F.d.BF907B828A82CA9B322DFA0747760A1D.e.25646\")>,\n",
       "  'rating': 4.6,\n",
       "  'category': '음식점'},\n",
       " {'search_term': '강남역 맛집',\n",
       "  'restaurant_name': '로리스 더 프라임 립',\n",
       "  'url': 'https://www.google.co.kr/maps/place/%EB%A1%9C%EB%A6%AC%EC%8A%A4+%EB%8D%94+%ED%94%84%EB%9D%BC%EC%9E%84+%EB%A6%BD/data=!4m7!3m6!1s0x357ca15bd138859d:0x5341de171bd3949f!8m2!3d37.4978741!4d127.026046!16s%2Fg%2F1q5ccvdky!19sChIJnYU40VuhfDURn5TTGxfeQVM?authuser=0&hl=ko&rclk=1',\n",
       "  'address': <selenium.webdriver.remote.webelement.WebElement (session=\"0454a257120a46167db9f431ea981f6f\", element=\"f.CAB1FB6440318A6C04C7F291C6C68E7F.d.9018980EFACC8CD33683A81C638C9888.e.28153\")>,\n",
       "  'rating': 4.2,\n",
       "  'category': '서양음식전문점'},\n",
       " {'search_term': '강남역 맛집',\n",
       "  'restaurant_name': '소호정 강남점',\n",
       "  'url': 'https://www.google.co.kr/maps/place/%EC%86%8C%ED%98%B8%EC%A0%95+%EA%B0%95%EB%82%A8%EC%A0%90/data=!4m7!3m6!1s0x357ca15a5a65981f:0xeeff83460e5e4804!8m2!3d37.4958458!4d127.0274048!16s%2Fg%2F1tfmfrj3!19sChIJH5hlWlqhfDURBEheDkaD_-4?authuser=0&hl=ko&rclk=1',\n",
       "  'address': <selenium.webdriver.remote.webelement.WebElement (session=\"0454a257120a46167db9f431ea981f6f\", element=\"f.CAB1FB6440318A6C04C7F291C6C68E7F.d.338BA4C9A4961613E5EED60B2E63E0E9.e.30644\")>,\n",
       "  'rating': 3.9,\n",
       "  'category': '음식점'},\n",
       " {'search_term': '강남역 맛집',\n",
       "  'restaurant_name': '알부자 강남본점',\n",
       "  'url': 'https://www.google.co.kr/maps/place/%EC%95%8C%EB%B6%80%EC%9E%90+%EA%B0%95%EB%82%A8%EB%B3%B8%EC%A0%90/data=!4m7!3m6!1s0x357ca15847301405:0x22f66b0bf161fb13!8m2!3d37.5006975!4d127.0278398!16s%2Fg%2F11c425r2fq!19sChIJBRQwR1ihfDURE_th8Qtr9iI?authuser=0&hl=ko&rclk=1',\n",
       "  'address': <selenium.webdriver.remote.webelement.WebElement (session=\"0454a257120a46167db9f431ea981f6f\", element=\"f.CAB1FB6440318A6C04C7F291C6C68E7F.d.E665AB6261BAE40A9905DC26E7D852B3.e.33093\")>,\n",
       "  'rating': 4.1,\n",
       "  'category': '음식점'},\n",
       " {'search_term': '강남역 맛집',\n",
       "  'restaurant_name': '들름집',\n",
       "  'url': 'https://www.google.co.kr/maps/place/%EB%93%A4%EB%A6%84%EC%A7%91/data=!4m7!3m6!1s0x357ca15aa6038023:0x7b1970d4786892d!8m2!3d37.4921947!4d127.0290425!16s%2Fg%2F1tdl8ng9!19sChIJI4ADplqhfDURLYmGRw2XsQc?authuser=0&hl=ko&rclk=1',\n",
       "  'address': <selenium.webdriver.remote.webelement.WebElement (session=\"0454a257120a46167db9f431ea981f6f\", element=\"f.CAB1FB6440318A6C04C7F291C6C68E7F.d.D158E061A12320988D4B53CF3ADB5BC4.e.35503\")>,\n",
       "  'rating': 4.2,\n",
       "  'category': '한식당'},\n",
       " {'search_term': '강남역 맛집',\n",
       "  'restaurant_name': '강남진해장',\n",
       "  'url': 'https://www.google.co.kr/maps/place/%EA%B0%95%EB%82%A8%EC%A7%84%ED%95%B4%EC%9E%A5/data=!4m7!3m6!1s0x357ca1582a882a4b:0x6fa9110f4c3e1afd!8m2!3d37.4994553!4d127.0292471!16s%2Fg%2F11g8ljsxpg!19sChIJSyqIKlihfDUR_Ro-TA8RqW8?authuser=0&hl=ko&rclk=1',\n",
       "  'address': <selenium.webdriver.remote.webelement.WebElement (session=\"0454a257120a46167db9f431ea981f6f\", element=\"f.CAB1FB6440318A6C04C7F291C6C68E7F.d.4C4BFC54C5CDA6DDDCBA55847A390A48.e.37968\")>,\n",
       "  'rating': 4.2,\n",
       "  'category': '한식당'},\n",
       " {'search_term': '강남역 맛집',\n",
       "  'restaurant_name': '우동명가 기리야마본진',\n",
       "  'url': 'https://www.google.co.kr/maps/place/%EC%9A%B0%EB%8F%99%EB%AA%85%EA%B0%80+%EA%B8%B0%EB%A6%AC%EC%95%BC%EB%A7%88%EB%B3%B8%EC%A7%84/data=!4m7!3m6!1s0x357ca15748c0c3c9:0xc5391df5d28f1814!8m2!3d37.4970666!4d127.0303939!16s%2Fg%2F1q5bt1j5p!19sChIJycPASFehfDURFBiP0vUdOcU?authuser=0&hl=ko&rclk=1',\n",
       "  'address': <selenium.webdriver.remote.webelement.WebElement (session=\"0454a257120a46167db9f431ea981f6f\", element=\"f.CAB1FB6440318A6C04C7F291C6C68E7F.d.EDD6EF22B433824747C8B17CD45FFD75.e.40608\")>,\n",
       "  'rating': 4.2,\n",
       "  'category': '우동 전문점'},\n",
       " {'search_term': '강남역 맛집',\n",
       "  'restaurant_name': '딘타이펑 강남점',\n",
       "  'url': 'https://www.google.co.kr/maps/place/%EB%94%98%ED%83%80%EC%9D%B4%ED%8E%91+%EA%B0%95%EB%82%A8%EC%A0%90/data=!4m7!3m6!1s0x357ca1596396ffb9:0x22525722b947788c!8m2!3d37.4985718!4d127.0256424!16s%2Fg%2F1vfzc33s!19sChIJuf-WY1mhfDURjHhHuSJXUiI?authuser=0&hl=ko&rclk=1',\n",
       "  'address': <selenium.webdriver.remote.webelement.WebElement (session=\"0454a257120a46167db9f431ea981f6f\", element=\"f.CAB1FB6440318A6C04C7F291C6C68E7F.d.13E6301013789358CF0C4242EE616A27.e.43081\")>,\n",
       "  'rating': 3.9,\n",
       "  'category': '대만 레스토랑'},\n",
       " {'search_term': '강남역 맛집',\n",
       "  'restaurant_name': '아올',\n",
       "  'url': 'https://www.google.co.kr/maps/place/%EC%95%84%EC%98%AC/data=!4m7!3m6!1s0x357ca193a25c02e3:0x19228aa54b9da3f6!8m2!3d37.4995986!4d127.0295943!16s%2Fg%2F11lh6dp7fq!19sChIJ4wJcopOhfDUR9qOdS6WKIhk?authuser=0&hl=ko&rclk=1',\n",
       "  'address': <selenium.webdriver.remote.webelement.WebElement (session=\"0454a257120a46167db9f431ea981f6f\", element=\"f.CAB1FB6440318A6C04C7F291C6C68E7F.d.2649A293A4C784DA7E4B620161D0660C.e.45557\")>,\n",
       "  'rating': 4.5,\n",
       "  'category': '퓨전 음식점'},\n",
       " {'search_term': '강남역 맛집',\n",
       "  'restaurant_name': '가가솥밥 강남점',\n",
       "  'url': 'https://www.google.co.kr/maps/place/%EA%B0%80%EA%B0%80%EC%86%A5%EB%B0%A5+%EA%B0%95%EB%82%A8%EC%A0%90/data=!4m7!3m6!1s0x357ca104ca99efad:0x73785516774c1484!8m2!3d37.4949866!4d127.0318403!16s%2Fg%2F11pz4vy2fm!19sChIJre-ZygShfDURhBRMdxZVeHM?authuser=0&hl=ko&rclk=1',\n",
       "  'address': <selenium.webdriver.remote.webelement.WebElement (session=\"0454a257120a46167db9f431ea981f6f\", element=\"f.CAB1FB6440318A6C04C7F291C6C68E7F.d.C517898EA2E801C80F305C0E964052BF.e.47906\")>,\n",
       "  'rating': 4.0,\n",
       "  'category': '한식당'},\n",
       " {'search_term': '강남역 맛집',\n",
       "  'restaurant_name': '교대이층집강남역점',\n",
       "  'url': 'https://www.google.co.kr/maps/place/%EA%B5%90%EB%8C%80%EC%9D%B4%EC%B8%B5%EC%A7%91%EA%B0%95%EB%82%A8%EC%97%AD%EC%A0%90/data=!4m7!3m6!1s0x357ca1ebffd225f7:0xe3c8f647a23792bd!8m2!3d37.4948606!4d127.0305415!16s%2Fg%2F11h5rf9h6w!19sChIJ9yXS_-uhfDURvZI3okf2yOM?authuser=0&hl=ko&rclk=1',\n",
       "  'address': <selenium.webdriver.remote.webelement.WebElement (session=\"0454a257120a46167db9f431ea981f6f\", element=\"f.CAB1FB6440318A6C04C7F291C6C68E7F.d.9108A98FDA36BEDBD0F3B0668FF29036.e.50383\")>,\n",
       "  'rating': 4.1,\n",
       "  'category': '음식점'},\n",
       " {'search_term': '강남역 맛집',\n",
       "  'restaurant_name': '땀땀',\n",
       "  'url': 'https://www.google.co.kr/maps/place/%EB%95%80%EB%95%80/data=!4m7!3m6!1s0x357cbba6cab8be71:0x123ebf3924dc0759!8m2!3d37.5003867!4d127.027994!16s%2Fg%2F11hcqrdf1p!19sChIJcb64yqa7fDURWQfcJDm_PhI?authuser=0&hl=ko&rclk=1',\n",
       "  'address': <selenium.webdriver.remote.webelement.WebElement (session=\"0454a257120a46167db9f431ea981f6f\", element=\"f.CAB1FB6440318A6C04C7F291C6C68E7F.d.194A59254DA662663D0E0AE06543F107.e.52845\")>,\n",
       "  'rating': 4.1,\n",
       "  'category': '베트남 음식점'},\n",
       " {'search_term': '강남역 맛집',\n",
       "  'restaurant_name': '치스타리에 강남역점',\n",
       "  'url': 'https://www.google.co.kr/maps/place/%EC%B9%98%EC%8A%A4%ED%83%80%EB%A6%AC%EC%97%90+%EA%B0%95%EB%82%A8%EC%97%AD%EC%A0%90/data=!4m7!3m6!1s0x357ca3890a5a3a61:0x2347fd4afec2d699!8m2!3d37.5029915!4d127.0263366!16s%2Fg%2F11kc6cj8f_!19sChIJYTpaComjfDURmdbC_kr9RyM?authuser=0&hl=ko&rclk=1',\n",
       "  'address': <selenium.webdriver.remote.webelement.WebElement (session=\"0454a257120a46167db9f431ea981f6f\", element=\"f.CAB1FB6440318A6C04C7F291C6C68E7F.d.35A7C1C79DAE9993B01076580B7CFE7E.e.55232\")>,\n",
       "  'rating': 4.8,\n",
       "  'category': '음식점'},\n",
       " {'search_term': '강남역 맛집',\n",
       "  'restaurant_name': '갓덴스시 강남점',\n",
       "  'url': 'https://www.google.co.kr/maps/place/%EA%B0%93%EB%8D%B4%EC%8A%A4%EC%8B%9C+%EA%B0%95%EB%82%A8%EC%A0%90/data=!4m7!3m6!1s0x357ca159d9f7c599:0xcd84d133f4b5ebd0!8m2!3d37.4987872!4d127.0289786!16s%2Fg%2F1tf40x60!19sChIJmcX32VmhfDUR0Ou19DPRhM0?authuser=0&hl=ko&rclk=1',\n",
       "  'address': <selenium.webdriver.remote.webelement.WebElement (session=\"0454a257120a46167db9f431ea981f6f\", element=\"f.CAB1FB6440318A6C04C7F291C6C68E7F.d.198C62171A435A1602D75B06A9924D6E.e.57729\")>,\n",
       "  'rating': 4.3,\n",
       "  'category': '회전초밥집'},\n",
       " {'search_term': '강남역 맛집',\n",
       "  'restaurant_name': '딘타이펑 강남점',\n",
       "  'url': 'https://www.google.co.kr/maps/place/%EB%94%98%ED%83%80%EC%9D%B4%ED%8E%91+%EA%B0%95%EB%82%A8%EC%A0%90/data=!4m7!3m6!1s0x357ca1596396ffb9:0x22525722b947788c!8m2!3d37.4985718!4d127.0256424!16s%2Fg%2F1vfzc33s!19sChIJuf-WY1mhfDURjHhHuSJXUiI?authuser=0&hl=ko&rclk=1',\n",
       "  'address': <selenium.webdriver.remote.webelement.WebElement (session=\"0454a257120a46167db9f431ea981f6f\", element=\"f.CAB1FB6440318A6C04C7F291C6C68E7F.d.D95286C0BBFC259CB9B3743AE0F71D15.e.60196\")>,\n",
       "  'rating': 3.9,\n",
       "  'category': '대만 레스토랑'},\n",
       " {'search_term': '강남역 맛집',\n",
       "  'restaurant_name': '김인복의광평 강남직영점',\n",
       "  'url': 'https://www.google.co.kr/maps/place/%EA%B9%80%EC%9D%B8%EB%B3%B5%EC%9D%98%EA%B4%91%ED%8F%89+%EA%B0%95%EB%82%A8%EC%A7%81%EC%98%81%EC%A0%90/data=!4m7!3m6!1s0x357ca1ed522f749f:0x383510a397ee78bc!8m2!3d37.4955227!4d127.0245489!16s%2Fg%2F11j8mmlnst!19sChIJn3QvUu2hfDURvHjul6MQNTg?authuser=0&hl=ko&rclk=1',\n",
       "  'address': <selenium.webdriver.remote.webelement.WebElement (session=\"0454a257120a46167db9f431ea981f6f\", element=\"f.CAB1FB6440318A6C04C7F291C6C68E7F.d.6A52865ADE2200452E2A3E154239557F.e.62710\")>,\n",
       "  'rating': 4.4,\n",
       "  'category': '한식 고기구이 레스토랑'}]"
      ]
     },
     "execution_count": 125,
     "metadata": {},
     "output_type": "execute_result"
    }
   ],
   "source": [
    "test_class.infos"
   ]
  },
  {
   "cell_type": "code",
   "execution_count": 126,
   "metadata": {},
   "outputs": [],
   "source": [
    "test_class.close()"
   ]
  },
  {
   "cell_type": "code",
   "execution_count": 8,
   "metadata": {},
   "outputs": [],
   "source": [
    "test_driver=Chrome()\n",
    "test_driver.get(url)"
   ]
  },
  {
   "cell_type": "code",
   "execution_count": 49,
   "metadata": {},
   "outputs": [
    {
     "data": {
      "text/plain": [
       "'닭요리전문점'"
      ]
     },
     "execution_count": 49,
     "metadata": {},
     "output_type": "execute_result"
    }
   ],
   "source": [
    "test_driver.find_element(By.CSS_SELECTOR,\"button.DkEaL\").text"
   ]
  },
  {
   "cell_type": "code",
   "execution_count": 28,
   "metadata": {},
   "outputs": [],
   "source": [
    "get_rating=test_driver.find_element(By.CLASS_NAME,\"ceNzKf\").get_attribute(\"aria-label\")"
   ]
  },
  {
   "cell_type": "code",
   "execution_count": 16,
   "metadata": {},
   "outputs": [],
   "source": [
    "take_img=WebDriverWait(test_driver,3).until(\n",
    "    presence_of_element_located([By.XPATH, '//*[@role=\"img\"]']))"
   ]
  },
  {
   "cell_type": "code",
   "execution_count": 41,
   "metadata": {},
   "outputs": [],
   "source": [
    "res_info=WebDriverWait(test_driver,3).until(\n",
    "    presence_of_element_located([By.XPATH, '//*[@role=\"region\"]']))"
   ]
  },
  {
   "cell_type": "code",
   "execution_count": null,
   "metadata": {},
   "outputs": [],
   "source": [
    "address=WebDriverWait(res_info,3).until(\n",
    "    presence_of_element_located([By.XPATH, '//*[@data-item-id=\"address\"]']))"
   ]
  },
  {
   "cell_type": "code",
   "execution_count": 45,
   "metadata": {},
   "outputs": [
    {
     "data": {
      "text/plain": [
       "'주소: 서울특별시 강남구 강남대로96길 9 '"
      ]
     },
     "execution_count": 45,
     "metadata": {},
     "output_type": "execute_result"
    }
   ],
   "source": [
    "address.get_attribute(\"aria-label\")"
   ]
  },
  {
   "cell_type": "code",
   "execution_count": 50,
   "metadata": {},
   "outputs": [],
   "source": [
    "tabs=WebDriverWait(test_driver,3).until(\n",
    "    presence_of_element_located([By.XPATH, '//*[@role=\"tab\"]']))"
   ]
  },
  {
   "cell_type": "code",
   "execution_count": 52,
   "metadata": {},
   "outputs": [
    {
     "data": {
      "text/plain": [
       "'개요'"
      ]
     },
     "execution_count": 52,
     "metadata": {},
     "output_type": "execute_result"
    }
   ],
   "source": [
    "tabs."
   ]
  },
  {
   "cell_type": "code",
   "execution_count": 53,
   "metadata": {},
   "outputs": [],
   "source": [
    "test_driver.quit()"
   ]
  },
  {
   "cell_type": "code",
   "execution_count": 3,
   "metadata": {},
   "outputs": [],
   "source": [
    "Main_Drive.quit()"
   ]
  },
  {
   "cell_type": "markdown",
   "metadata": {},
   "source": [
    "### Restaurant_info"
   ]
  },
  {
   "cell_type": "code",
   "execution_count": 88,
   "metadata": {},
   "outputs": [
    {
     "data": {
      "text/plain": [
       "'바비레드 강남본점'"
      ]
     },
     "execution_count": 88,
     "metadata": {},
     "output_type": "execute_result"
    }
   ],
   "source": [
    "feed_box[0].get_attribute(\"aria-label\")"
   ]
  },
  {
   "cell_type": "code",
   "execution_count": 78,
   "metadata": {},
   "outputs": [
    {
     "data": {
      "text/plain": [
       "'feed'"
      ]
     },
     "execution_count": 78,
     "metadata": {},
     "output_type": "execute_result"
    }
   ],
   "source": [
    "main_box.get_attribute(\"role\")"
   ]
  },
  {
   "cell_type": "code",
   "execution_count": 72,
   "metadata": {},
   "outputs": [
    {
     "data": {
      "text/plain": [
       "'바비레드 강남본점'"
      ]
     },
     "execution_count": 72,
     "metadata": {},
     "output_type": "execute_result"
    }
   ],
   "source": [
    "feed_box[0].get_attribute(\"aria-label\")"
   ]
  },
  {
   "cell_type": "code",
   "execution_count": 89,
   "metadata": {},
   "outputs": [],
   "source": [
    "Main_Drive.quit()"
   ]
  },
  {
   "cell_type": "code",
   "execution_count": 59,
   "metadata": {},
   "outputs": [
    {
     "ename": "MaxRetryError",
     "evalue": "HTTPConnectionPool(host='localhost', port=57278): Max retries exceeded with url: /session/099672721e87bc05898169d8f5370121/elements (Caused by NewConnectionError('<urllib3.connection.HTTPConnection object at 0x109ffabb0>: Failed to establish a new connection: [Errno 61] Connection refused'))",
     "output_type": "error",
     "traceback": [
      "\u001b[0;31m---------------------------------------------------------------------------\u001b[0m",
      "\u001b[0;31mConnectionRefusedError\u001b[0m                    Traceback (most recent call last)",
      "File \u001b[0;32m~/Documents/github/GoogleMap/googlemap/lib/python3.9/site-packages/urllib3/connection.py:199\u001b[0m, in \u001b[0;36mHTTPConnection._new_conn\u001b[0;34m(self)\u001b[0m\n\u001b[1;32m    198\u001b[0m \u001b[38;5;28;01mtry\u001b[39;00m:\n\u001b[0;32m--> 199\u001b[0m     sock \u001b[38;5;241m=\u001b[39m \u001b[43mconnection\u001b[49m\u001b[38;5;241;43m.\u001b[39;49m\u001b[43mcreate_connection\u001b[49m\u001b[43m(\u001b[49m\n\u001b[1;32m    200\u001b[0m \u001b[43m        \u001b[49m\u001b[43m(\u001b[49m\u001b[38;5;28;43mself\u001b[39;49m\u001b[38;5;241;43m.\u001b[39;49m\u001b[43m_dns_host\u001b[49m\u001b[43m,\u001b[49m\u001b[43m \u001b[49m\u001b[38;5;28;43mself\u001b[39;49m\u001b[38;5;241;43m.\u001b[39;49m\u001b[43mport\u001b[49m\u001b[43m)\u001b[49m\u001b[43m,\u001b[49m\n\u001b[1;32m    201\u001b[0m \u001b[43m        \u001b[49m\u001b[38;5;28;43mself\u001b[39;49m\u001b[38;5;241;43m.\u001b[39;49m\u001b[43mtimeout\u001b[49m\u001b[43m,\u001b[49m\n\u001b[1;32m    202\u001b[0m \u001b[43m        \u001b[49m\u001b[43msource_address\u001b[49m\u001b[38;5;241;43m=\u001b[39;49m\u001b[38;5;28;43mself\u001b[39;49m\u001b[38;5;241;43m.\u001b[39;49m\u001b[43msource_address\u001b[49m\u001b[43m,\u001b[49m\n\u001b[1;32m    203\u001b[0m \u001b[43m        \u001b[49m\u001b[43msocket_options\u001b[49m\u001b[38;5;241;43m=\u001b[39;49m\u001b[38;5;28;43mself\u001b[39;49m\u001b[38;5;241;43m.\u001b[39;49m\u001b[43msocket_options\u001b[49m\u001b[43m,\u001b[49m\n\u001b[1;32m    204\u001b[0m \u001b[43m    \u001b[49m\u001b[43m)\u001b[49m\n\u001b[1;32m    205\u001b[0m \u001b[38;5;28;01mexcept\u001b[39;00m socket\u001b[38;5;241m.\u001b[39mgaierror \u001b[38;5;28;01mas\u001b[39;00m e:\n",
      "File \u001b[0;32m~/Documents/github/GoogleMap/googlemap/lib/python3.9/site-packages/urllib3/util/connection.py:85\u001b[0m, in \u001b[0;36mcreate_connection\u001b[0;34m(address, timeout, source_address, socket_options)\u001b[0m\n\u001b[1;32m     84\u001b[0m \u001b[38;5;28;01mtry\u001b[39;00m:\n\u001b[0;32m---> 85\u001b[0m     \u001b[38;5;28;01mraise\u001b[39;00m err\n\u001b[1;32m     86\u001b[0m \u001b[38;5;28;01mfinally\u001b[39;00m:\n\u001b[1;32m     87\u001b[0m     \u001b[38;5;66;03m# Break explicitly a reference cycle\u001b[39;00m\n",
      "File \u001b[0;32m~/Documents/github/GoogleMap/googlemap/lib/python3.9/site-packages/urllib3/util/connection.py:73\u001b[0m, in \u001b[0;36mcreate_connection\u001b[0;34m(address, timeout, source_address, socket_options)\u001b[0m\n\u001b[1;32m     72\u001b[0m     sock\u001b[38;5;241m.\u001b[39mbind(source_address)\n\u001b[0;32m---> 73\u001b[0m \u001b[43msock\u001b[49m\u001b[38;5;241;43m.\u001b[39;49m\u001b[43mconnect\u001b[49m\u001b[43m(\u001b[49m\u001b[43msa\u001b[49m\u001b[43m)\u001b[49m\n\u001b[1;32m     74\u001b[0m \u001b[38;5;66;03m# Break explicitly a reference cycle\u001b[39;00m\n",
      "\u001b[0;31mConnectionRefusedError\u001b[0m: [Errno 61] Connection refused",
      "\nThe above exception was the direct cause of the following exception:\n",
      "\u001b[0;31mNewConnectionError\u001b[0m                        Traceback (most recent call last)",
      "File \u001b[0;32m~/Documents/github/GoogleMap/googlemap/lib/python3.9/site-packages/urllib3/connectionpool.py:789\u001b[0m, in \u001b[0;36mHTTPConnectionPool.urlopen\u001b[0;34m(self, method, url, body, headers, retries, redirect, assert_same_host, timeout, pool_timeout, release_conn, chunked, body_pos, preload_content, decode_content, **response_kw)\u001b[0m\n\u001b[1;32m    788\u001b[0m \u001b[38;5;66;03m# Make the request on the HTTPConnection object\u001b[39;00m\n\u001b[0;32m--> 789\u001b[0m response \u001b[38;5;241m=\u001b[39m \u001b[38;5;28;43mself\u001b[39;49m\u001b[38;5;241;43m.\u001b[39;49m\u001b[43m_make_request\u001b[49m\u001b[43m(\u001b[49m\n\u001b[1;32m    790\u001b[0m \u001b[43m    \u001b[49m\u001b[43mconn\u001b[49m\u001b[43m,\u001b[49m\n\u001b[1;32m    791\u001b[0m \u001b[43m    \u001b[49m\u001b[43mmethod\u001b[49m\u001b[43m,\u001b[49m\n\u001b[1;32m    792\u001b[0m \u001b[43m    \u001b[49m\u001b[43murl\u001b[49m\u001b[43m,\u001b[49m\n\u001b[1;32m    793\u001b[0m \u001b[43m    \u001b[49m\u001b[43mtimeout\u001b[49m\u001b[38;5;241;43m=\u001b[39;49m\u001b[43mtimeout_obj\u001b[49m\u001b[43m,\u001b[49m\n\u001b[1;32m    794\u001b[0m \u001b[43m    \u001b[49m\u001b[43mbody\u001b[49m\u001b[38;5;241;43m=\u001b[39;49m\u001b[43mbody\u001b[49m\u001b[43m,\u001b[49m\n\u001b[1;32m    795\u001b[0m \u001b[43m    \u001b[49m\u001b[43mheaders\u001b[49m\u001b[38;5;241;43m=\u001b[39;49m\u001b[43mheaders\u001b[49m\u001b[43m,\u001b[49m\n\u001b[1;32m    796\u001b[0m \u001b[43m    \u001b[49m\u001b[43mchunked\u001b[49m\u001b[38;5;241;43m=\u001b[39;49m\u001b[43mchunked\u001b[49m\u001b[43m,\u001b[49m\n\u001b[1;32m    797\u001b[0m \u001b[43m    \u001b[49m\u001b[43mretries\u001b[49m\u001b[38;5;241;43m=\u001b[39;49m\u001b[43mretries\u001b[49m\u001b[43m,\u001b[49m\n\u001b[1;32m    798\u001b[0m \u001b[43m    \u001b[49m\u001b[43mresponse_conn\u001b[49m\u001b[38;5;241;43m=\u001b[39;49m\u001b[43mresponse_conn\u001b[49m\u001b[43m,\u001b[49m\n\u001b[1;32m    799\u001b[0m \u001b[43m    \u001b[49m\u001b[43mpreload_content\u001b[49m\u001b[38;5;241;43m=\u001b[39;49m\u001b[43mpreload_content\u001b[49m\u001b[43m,\u001b[49m\n\u001b[1;32m    800\u001b[0m \u001b[43m    \u001b[49m\u001b[43mdecode_content\u001b[49m\u001b[38;5;241;43m=\u001b[39;49m\u001b[43mdecode_content\u001b[49m\u001b[43m,\u001b[49m\n\u001b[1;32m    801\u001b[0m \u001b[43m    \u001b[49m\u001b[38;5;241;43m*\u001b[39;49m\u001b[38;5;241;43m*\u001b[39;49m\u001b[43mresponse_kw\u001b[49m\u001b[43m,\u001b[49m\n\u001b[1;32m    802\u001b[0m \u001b[43m\u001b[49m\u001b[43m)\u001b[49m\n\u001b[1;32m    804\u001b[0m \u001b[38;5;66;03m# Everything went great!\u001b[39;00m\n",
      "File \u001b[0;32m~/Documents/github/GoogleMap/googlemap/lib/python3.9/site-packages/urllib3/connectionpool.py:495\u001b[0m, in \u001b[0;36mHTTPConnectionPool._make_request\u001b[0;34m(self, conn, method, url, body, headers, retries, timeout, chunked, response_conn, preload_content, decode_content, enforce_content_length)\u001b[0m\n\u001b[1;32m    494\u001b[0m \u001b[38;5;28;01mtry\u001b[39;00m:\n\u001b[0;32m--> 495\u001b[0m     \u001b[43mconn\u001b[49m\u001b[38;5;241;43m.\u001b[39;49m\u001b[43mrequest\u001b[49m\u001b[43m(\u001b[49m\n\u001b[1;32m    496\u001b[0m \u001b[43m        \u001b[49m\u001b[43mmethod\u001b[49m\u001b[43m,\u001b[49m\n\u001b[1;32m    497\u001b[0m \u001b[43m        \u001b[49m\u001b[43murl\u001b[49m\u001b[43m,\u001b[49m\n\u001b[1;32m    498\u001b[0m \u001b[43m        \u001b[49m\u001b[43mbody\u001b[49m\u001b[38;5;241;43m=\u001b[39;49m\u001b[43mbody\u001b[49m\u001b[43m,\u001b[49m\n\u001b[1;32m    499\u001b[0m \u001b[43m        \u001b[49m\u001b[43mheaders\u001b[49m\u001b[38;5;241;43m=\u001b[39;49m\u001b[43mheaders\u001b[49m\u001b[43m,\u001b[49m\n\u001b[1;32m    500\u001b[0m \u001b[43m        \u001b[49m\u001b[43mchunked\u001b[49m\u001b[38;5;241;43m=\u001b[39;49m\u001b[43mchunked\u001b[49m\u001b[43m,\u001b[49m\n\u001b[1;32m    501\u001b[0m \u001b[43m        \u001b[49m\u001b[43mpreload_content\u001b[49m\u001b[38;5;241;43m=\u001b[39;49m\u001b[43mpreload_content\u001b[49m\u001b[43m,\u001b[49m\n\u001b[1;32m    502\u001b[0m \u001b[43m        \u001b[49m\u001b[43mdecode_content\u001b[49m\u001b[38;5;241;43m=\u001b[39;49m\u001b[43mdecode_content\u001b[49m\u001b[43m,\u001b[49m\n\u001b[1;32m    503\u001b[0m \u001b[43m        \u001b[49m\u001b[43menforce_content_length\u001b[49m\u001b[38;5;241;43m=\u001b[39;49m\u001b[43menforce_content_length\u001b[49m\u001b[43m,\u001b[49m\n\u001b[1;32m    504\u001b[0m \u001b[43m    \u001b[49m\u001b[43m)\u001b[49m\n\u001b[1;32m    506\u001b[0m \u001b[38;5;66;03m# We are swallowing BrokenPipeError (errno.EPIPE) since the server is\u001b[39;00m\n\u001b[1;32m    507\u001b[0m \u001b[38;5;66;03m# legitimately able to close the connection after sending a valid response.\u001b[39;00m\n\u001b[1;32m    508\u001b[0m \u001b[38;5;66;03m# With this behaviour, the received response is still readable.\u001b[39;00m\n",
      "File \u001b[0;32m~/Documents/github/GoogleMap/googlemap/lib/python3.9/site-packages/urllib3/connection.py:441\u001b[0m, in \u001b[0;36mHTTPConnection.request\u001b[0;34m(self, method, url, body, headers, chunked, preload_content, decode_content, enforce_content_length)\u001b[0m\n\u001b[1;32m    440\u001b[0m     \u001b[38;5;28mself\u001b[39m\u001b[38;5;241m.\u001b[39mputheader(header, value)\n\u001b[0;32m--> 441\u001b[0m \u001b[38;5;28;43mself\u001b[39;49m\u001b[38;5;241;43m.\u001b[39;49m\u001b[43mendheaders\u001b[49m\u001b[43m(\u001b[49m\u001b[43m)\u001b[49m\n\u001b[1;32m    443\u001b[0m \u001b[38;5;66;03m# If we're given a body we start sending that in chunks.\u001b[39;00m\n",
      "File \u001b[0;32m/Library/Developer/CommandLineTools/Library/Frameworks/Python3.framework/Versions/3.9/lib/python3.9/http/client.py:1252\u001b[0m, in \u001b[0;36mHTTPConnection.endheaders\u001b[0;34m(self, message_body, encode_chunked)\u001b[0m\n\u001b[1;32m   1251\u001b[0m     \u001b[38;5;28;01mraise\u001b[39;00m CannotSendHeader()\n\u001b[0;32m-> 1252\u001b[0m \u001b[38;5;28;43mself\u001b[39;49m\u001b[38;5;241;43m.\u001b[39;49m\u001b[43m_send_output\u001b[49m\u001b[43m(\u001b[49m\u001b[43mmessage_body\u001b[49m\u001b[43m,\u001b[49m\u001b[43m \u001b[49m\u001b[43mencode_chunked\u001b[49m\u001b[38;5;241;43m=\u001b[39;49m\u001b[43mencode_chunked\u001b[49m\u001b[43m)\u001b[49m\n",
      "File \u001b[0;32m/Library/Developer/CommandLineTools/Library/Frameworks/Python3.framework/Versions/3.9/lib/python3.9/http/client.py:1012\u001b[0m, in \u001b[0;36mHTTPConnection._send_output\u001b[0;34m(self, message_body, encode_chunked)\u001b[0m\n\u001b[1;32m   1011\u001b[0m \u001b[38;5;28;01mdel\u001b[39;00m \u001b[38;5;28mself\u001b[39m\u001b[38;5;241m.\u001b[39m_buffer[:]\n\u001b[0;32m-> 1012\u001b[0m \u001b[38;5;28;43mself\u001b[39;49m\u001b[38;5;241;43m.\u001b[39;49m\u001b[43msend\u001b[49m\u001b[43m(\u001b[49m\u001b[43mmsg\u001b[49m\u001b[43m)\u001b[49m\n\u001b[1;32m   1014\u001b[0m \u001b[38;5;28;01mif\u001b[39;00m message_body \u001b[38;5;129;01mis\u001b[39;00m \u001b[38;5;129;01mnot\u001b[39;00m \u001b[38;5;28;01mNone\u001b[39;00m:\n\u001b[1;32m   1015\u001b[0m \n\u001b[1;32m   1016\u001b[0m     \u001b[38;5;66;03m# create a consistent interface to message_body\u001b[39;00m\n",
      "File \u001b[0;32m/Library/Developer/CommandLineTools/Library/Frameworks/Python3.framework/Versions/3.9/lib/python3.9/http/client.py:952\u001b[0m, in \u001b[0;36mHTTPConnection.send\u001b[0;34m(self, data)\u001b[0m\n\u001b[1;32m    951\u001b[0m \u001b[38;5;28;01mif\u001b[39;00m \u001b[38;5;28mself\u001b[39m\u001b[38;5;241m.\u001b[39mauto_open:\n\u001b[0;32m--> 952\u001b[0m     \u001b[38;5;28;43mself\u001b[39;49m\u001b[38;5;241;43m.\u001b[39;49m\u001b[43mconnect\u001b[49m\u001b[43m(\u001b[49m\u001b[43m)\u001b[49m\n\u001b[1;32m    953\u001b[0m \u001b[38;5;28;01melse\u001b[39;00m:\n",
      "File \u001b[0;32m~/Documents/github/GoogleMap/googlemap/lib/python3.9/site-packages/urllib3/connection.py:279\u001b[0m, in \u001b[0;36mHTTPConnection.connect\u001b[0;34m(self)\u001b[0m\n\u001b[1;32m    278\u001b[0m \u001b[38;5;28;01mdef\u001b[39;00m \u001b[38;5;21mconnect\u001b[39m(\u001b[38;5;28mself\u001b[39m) \u001b[38;5;241m-\u001b[39m\u001b[38;5;241m>\u001b[39m \u001b[38;5;28;01mNone\u001b[39;00m:\n\u001b[0;32m--> 279\u001b[0m     \u001b[38;5;28mself\u001b[39m\u001b[38;5;241m.\u001b[39msock \u001b[38;5;241m=\u001b[39m \u001b[38;5;28;43mself\u001b[39;49m\u001b[38;5;241;43m.\u001b[39;49m\u001b[43m_new_conn\u001b[49m\u001b[43m(\u001b[49m\u001b[43m)\u001b[49m\n\u001b[1;32m    280\u001b[0m     \u001b[38;5;28;01mif\u001b[39;00m \u001b[38;5;28mself\u001b[39m\u001b[38;5;241m.\u001b[39m_tunnel_host:\n\u001b[1;32m    281\u001b[0m         \u001b[38;5;66;03m# If we're tunneling it means we're connected to our proxy.\u001b[39;00m\n",
      "File \u001b[0;32m~/Documents/github/GoogleMap/googlemap/lib/python3.9/site-packages/urllib3/connection.py:214\u001b[0m, in \u001b[0;36mHTTPConnection._new_conn\u001b[0;34m(self)\u001b[0m\n\u001b[1;32m    213\u001b[0m \u001b[38;5;28;01mexcept\u001b[39;00m \u001b[38;5;167;01mOSError\u001b[39;00m \u001b[38;5;28;01mas\u001b[39;00m e:\n\u001b[0;32m--> 214\u001b[0m     \u001b[38;5;28;01mraise\u001b[39;00m NewConnectionError(\n\u001b[1;32m    215\u001b[0m         \u001b[38;5;28mself\u001b[39m, \u001b[38;5;124mf\u001b[39m\u001b[38;5;124m\"\u001b[39m\u001b[38;5;124mFailed to establish a new connection: \u001b[39m\u001b[38;5;132;01m{\u001b[39;00me\u001b[38;5;132;01m}\u001b[39;00m\u001b[38;5;124m\"\u001b[39m\n\u001b[1;32m    216\u001b[0m     ) \u001b[38;5;28;01mfrom\u001b[39;00m \u001b[38;5;21;01me\u001b[39;00m\n\u001b[1;32m    218\u001b[0m \u001b[38;5;66;03m# Audit hooks are only available in Python 3.8+\u001b[39;00m\n",
      "\u001b[0;31mNewConnectionError\u001b[0m: <urllib3.connection.HTTPConnection object at 0x109ffabb0>: Failed to establish a new connection: [Errno 61] Connection refused",
      "\nThe above exception was the direct cause of the following exception:\n",
      "\u001b[0;31mMaxRetryError\u001b[0m                             Traceback (most recent call last)",
      "Cell \u001b[0;32mIn[59], line 1\u001b[0m\n\u001b[0;32m----> 1\u001b[0m test_elements\u001b[38;5;241m=\u001b[39m\u001b[43mMain_Drive\u001b[49m\u001b[38;5;241;43m.\u001b[39;49m\u001b[43mfind_elements\u001b[49m\u001b[43m(\u001b[49m\u001b[43mBy\u001b[49m\u001b[38;5;241;43m.\u001b[39;49m\u001b[43mCLASS_NAME\u001b[49m\u001b[43m,\u001b[49m\u001b[38;5;124;43m\"\u001b[39;49m\u001b[38;5;124;43mhfpxzc\u001b[39;49m\u001b[38;5;124;43m\"\u001b[39;49m\u001b[43m)\u001b[49m\n",
      "File \u001b[0;32m~/Documents/github/GoogleMap/googlemap/lib/python3.9/site-packages/selenium/webdriver/remote/webdriver.py:792\u001b[0m, in \u001b[0;36mWebDriver.find_elements\u001b[0;34m(self, by, value)\u001b[0m\n\u001b[1;32m    788\u001b[0m     \u001b[38;5;28;01mreturn\u001b[39;00m \u001b[38;5;28mself\u001b[39m\u001b[38;5;241m.\u001b[39mexecute_script(find_element_js, by\u001b[38;5;241m.\u001b[39mto_dict())\n\u001b[1;32m    790\u001b[0m \u001b[38;5;66;03m# Return empty list if driver returns null\u001b[39;00m\n\u001b[1;32m    791\u001b[0m \u001b[38;5;66;03m# See https://github.com/SeleniumHQ/selenium/issues/4555\u001b[39;00m\n\u001b[0;32m--> 792\u001b[0m \u001b[38;5;28;01mreturn\u001b[39;00m \u001b[38;5;28;43mself\u001b[39;49m\u001b[38;5;241;43m.\u001b[39;49m\u001b[43mexecute\u001b[49m\u001b[43m(\u001b[49m\u001b[43mCommand\u001b[49m\u001b[38;5;241;43m.\u001b[39;49m\u001b[43mFIND_ELEMENTS\u001b[49m\u001b[43m,\u001b[49m\u001b[43m \u001b[49m\u001b[43m{\u001b[49m\u001b[38;5;124;43m\"\u001b[39;49m\u001b[38;5;124;43musing\u001b[39;49m\u001b[38;5;124;43m\"\u001b[39;49m\u001b[43m:\u001b[49m\u001b[43m \u001b[49m\u001b[43mby\u001b[49m\u001b[43m,\u001b[49m\u001b[43m \u001b[49m\u001b[38;5;124;43m\"\u001b[39;49m\u001b[38;5;124;43mvalue\u001b[39;49m\u001b[38;5;124;43m\"\u001b[39;49m\u001b[43m:\u001b[49m\u001b[43m \u001b[49m\u001b[43mvalue\u001b[49m\u001b[43m}\u001b[49m\u001b[43m)\u001b[49m[\u001b[38;5;124m\"\u001b[39m\u001b[38;5;124mvalue\u001b[39m\u001b[38;5;124m\"\u001b[39m] \u001b[38;5;129;01mor\u001b[39;00m []\n",
      "File \u001b[0;32m~/Documents/github/GoogleMap/googlemap/lib/python3.9/site-packages/selenium/webdriver/remote/webdriver.py:382\u001b[0m, in \u001b[0;36mWebDriver.execute\u001b[0;34m(self, driver_command, params)\u001b[0m\n\u001b[1;32m    379\u001b[0m     \u001b[38;5;28;01melif\u001b[39;00m \u001b[38;5;124m\"\u001b[39m\u001b[38;5;124msessionId\u001b[39m\u001b[38;5;124m\"\u001b[39m \u001b[38;5;129;01mnot\u001b[39;00m \u001b[38;5;129;01min\u001b[39;00m params:\n\u001b[1;32m    380\u001b[0m         params[\u001b[38;5;124m\"\u001b[39m\u001b[38;5;124msessionId\u001b[39m\u001b[38;5;124m\"\u001b[39m] \u001b[38;5;241m=\u001b[39m \u001b[38;5;28mself\u001b[39m\u001b[38;5;241m.\u001b[39msession_id\n\u001b[0;32m--> 382\u001b[0m response \u001b[38;5;241m=\u001b[39m \u001b[38;5;28;43mself\u001b[39;49m\u001b[38;5;241;43m.\u001b[39;49m\u001b[43mcommand_executor\u001b[49m\u001b[38;5;241;43m.\u001b[39;49m\u001b[43mexecute\u001b[49m\u001b[43m(\u001b[49m\u001b[43mdriver_command\u001b[49m\u001b[43m,\u001b[49m\u001b[43m \u001b[49m\u001b[43mparams\u001b[49m\u001b[43m)\u001b[49m\n\u001b[1;32m    383\u001b[0m \u001b[38;5;28;01mif\u001b[39;00m response:\n\u001b[1;32m    384\u001b[0m     \u001b[38;5;28mself\u001b[39m\u001b[38;5;241m.\u001b[39merror_handler\u001b[38;5;241m.\u001b[39mcheck_response(response)\n",
      "File \u001b[0;32m~/Documents/github/GoogleMap/googlemap/lib/python3.9/site-packages/selenium/webdriver/remote/remote_connection.py:404\u001b[0m, in \u001b[0;36mRemoteConnection.execute\u001b[0;34m(self, command, params)\u001b[0m\n\u001b[1;32m    402\u001b[0m trimmed \u001b[38;5;241m=\u001b[39m \u001b[38;5;28mself\u001b[39m\u001b[38;5;241m.\u001b[39m_trim_large_entries(params)\n\u001b[1;32m    403\u001b[0m LOGGER\u001b[38;5;241m.\u001b[39mdebug(\u001b[38;5;124m\"\u001b[39m\u001b[38;5;132;01m%s\u001b[39;00m\u001b[38;5;124m \u001b[39m\u001b[38;5;132;01m%s\u001b[39;00m\u001b[38;5;124m \u001b[39m\u001b[38;5;132;01m%s\u001b[39;00m\u001b[38;5;124m\"\u001b[39m, command_info[\u001b[38;5;241m0\u001b[39m], url, \u001b[38;5;28mstr\u001b[39m(trimmed))\n\u001b[0;32m--> 404\u001b[0m \u001b[38;5;28;01mreturn\u001b[39;00m \u001b[38;5;28;43mself\u001b[39;49m\u001b[38;5;241;43m.\u001b[39;49m\u001b[43m_request\u001b[49m\u001b[43m(\u001b[49m\u001b[43mcommand_info\u001b[49m\u001b[43m[\u001b[49m\u001b[38;5;241;43m0\u001b[39;49m\u001b[43m]\u001b[49m\u001b[43m,\u001b[49m\u001b[43m \u001b[49m\u001b[43murl\u001b[49m\u001b[43m,\u001b[49m\u001b[43m \u001b[49m\u001b[43mbody\u001b[49m\u001b[38;5;241;43m=\u001b[39;49m\u001b[43mdata\u001b[49m\u001b[43m)\u001b[49m\n",
      "File \u001b[0;32m~/Documents/github/GoogleMap/googlemap/lib/python3.9/site-packages/selenium/webdriver/remote/remote_connection.py:428\u001b[0m, in \u001b[0;36mRemoteConnection._request\u001b[0;34m(self, method, url, body)\u001b[0m\n\u001b[1;32m    425\u001b[0m     body \u001b[38;5;241m=\u001b[39m \u001b[38;5;28;01mNone\u001b[39;00m\n\u001b[1;32m    427\u001b[0m \u001b[38;5;28;01mif\u001b[39;00m \u001b[38;5;28mself\u001b[39m\u001b[38;5;241m.\u001b[39m_client_config\u001b[38;5;241m.\u001b[39mkeep_alive:\n\u001b[0;32m--> 428\u001b[0m     response \u001b[38;5;241m=\u001b[39m \u001b[38;5;28;43mself\u001b[39;49m\u001b[38;5;241;43m.\u001b[39;49m\u001b[43m_conn\u001b[49m\u001b[38;5;241;43m.\u001b[39;49m\u001b[43mrequest\u001b[49m\u001b[43m(\u001b[49m\u001b[43mmethod\u001b[49m\u001b[43m,\u001b[49m\u001b[43m \u001b[49m\u001b[43murl\u001b[49m\u001b[43m,\u001b[49m\u001b[43m \u001b[49m\u001b[43mbody\u001b[49m\u001b[38;5;241;43m=\u001b[39;49m\u001b[43mbody\u001b[49m\u001b[43m,\u001b[49m\u001b[43m \u001b[49m\u001b[43mheaders\u001b[49m\u001b[38;5;241;43m=\u001b[39;49m\u001b[43mheaders\u001b[49m\u001b[43m,\u001b[49m\u001b[43m \u001b[49m\u001b[43mtimeout\u001b[49m\u001b[38;5;241;43m=\u001b[39;49m\u001b[38;5;28;43mself\u001b[39;49m\u001b[38;5;241;43m.\u001b[39;49m\u001b[43m_client_config\u001b[49m\u001b[38;5;241;43m.\u001b[39;49m\u001b[43mtimeout\u001b[49m\u001b[43m)\u001b[49m\n\u001b[1;32m    429\u001b[0m     statuscode \u001b[38;5;241m=\u001b[39m response\u001b[38;5;241m.\u001b[39mstatus\n\u001b[1;32m    430\u001b[0m \u001b[38;5;28;01melse\u001b[39;00m:\n",
      "File \u001b[0;32m~/Documents/github/GoogleMap/googlemap/lib/python3.9/site-packages/urllib3/_request_methods.py:143\u001b[0m, in \u001b[0;36mRequestMethods.request\u001b[0;34m(self, method, url, body, fields, headers, json, **urlopen_kw)\u001b[0m\n\u001b[1;32m    135\u001b[0m     \u001b[38;5;28;01mreturn\u001b[39;00m \u001b[38;5;28mself\u001b[39m\u001b[38;5;241m.\u001b[39mrequest_encode_url(\n\u001b[1;32m    136\u001b[0m         method,\n\u001b[1;32m    137\u001b[0m         url,\n\u001b[0;32m   (...)\u001b[0m\n\u001b[1;32m    140\u001b[0m         \u001b[38;5;241m*\u001b[39m\u001b[38;5;241m*\u001b[39murlopen_kw,\n\u001b[1;32m    141\u001b[0m     )\n\u001b[1;32m    142\u001b[0m \u001b[38;5;28;01melse\u001b[39;00m:\n\u001b[0;32m--> 143\u001b[0m     \u001b[38;5;28;01mreturn\u001b[39;00m \u001b[38;5;28;43mself\u001b[39;49m\u001b[38;5;241;43m.\u001b[39;49m\u001b[43mrequest_encode_body\u001b[49m\u001b[43m(\u001b[49m\n\u001b[1;32m    144\u001b[0m \u001b[43m        \u001b[49m\u001b[43mmethod\u001b[49m\u001b[43m,\u001b[49m\u001b[43m \u001b[49m\u001b[43murl\u001b[49m\u001b[43m,\u001b[49m\u001b[43m \u001b[49m\u001b[43mfields\u001b[49m\u001b[38;5;241;43m=\u001b[39;49m\u001b[43mfields\u001b[49m\u001b[43m,\u001b[49m\u001b[43m \u001b[49m\u001b[43mheaders\u001b[49m\u001b[38;5;241;43m=\u001b[39;49m\u001b[43mheaders\u001b[49m\u001b[43m,\u001b[49m\u001b[43m \u001b[49m\u001b[38;5;241;43m*\u001b[39;49m\u001b[38;5;241;43m*\u001b[39;49m\u001b[43murlopen_kw\u001b[49m\n\u001b[1;32m    145\u001b[0m \u001b[43m    \u001b[49m\u001b[43m)\u001b[49m\n",
      "File \u001b[0;32m~/Documents/github/GoogleMap/googlemap/lib/python3.9/site-packages/urllib3/_request_methods.py:278\u001b[0m, in \u001b[0;36mRequestMethods.request_encode_body\u001b[0;34m(self, method, url, fields, headers, encode_multipart, multipart_boundary, **urlopen_kw)\u001b[0m\n\u001b[1;32m    274\u001b[0m     extra_kw[\u001b[38;5;124m\"\u001b[39m\u001b[38;5;124mheaders\u001b[39m\u001b[38;5;124m\"\u001b[39m]\u001b[38;5;241m.\u001b[39msetdefault(\u001b[38;5;124m\"\u001b[39m\u001b[38;5;124mContent-Type\u001b[39m\u001b[38;5;124m\"\u001b[39m, content_type)\n\u001b[1;32m    276\u001b[0m extra_kw\u001b[38;5;241m.\u001b[39mupdate(urlopen_kw)\n\u001b[0;32m--> 278\u001b[0m \u001b[38;5;28;01mreturn\u001b[39;00m \u001b[38;5;28;43mself\u001b[39;49m\u001b[38;5;241;43m.\u001b[39;49m\u001b[43murlopen\u001b[49m\u001b[43m(\u001b[49m\u001b[43mmethod\u001b[49m\u001b[43m,\u001b[49m\u001b[43m \u001b[49m\u001b[43murl\u001b[49m\u001b[43m,\u001b[49m\u001b[43m \u001b[49m\u001b[38;5;241;43m*\u001b[39;49m\u001b[38;5;241;43m*\u001b[39;49m\u001b[43mextra_kw\u001b[49m\u001b[43m)\u001b[49m\n",
      "File \u001b[0;32m~/Documents/github/GoogleMap/googlemap/lib/python3.9/site-packages/urllib3/poolmanager.py:443\u001b[0m, in \u001b[0;36mPoolManager.urlopen\u001b[0;34m(self, method, url, redirect, **kw)\u001b[0m\n\u001b[1;32m    441\u001b[0m     response \u001b[38;5;241m=\u001b[39m conn\u001b[38;5;241m.\u001b[39murlopen(method, url, \u001b[38;5;241m*\u001b[39m\u001b[38;5;241m*\u001b[39mkw)\n\u001b[1;32m    442\u001b[0m \u001b[38;5;28;01melse\u001b[39;00m:\n\u001b[0;32m--> 443\u001b[0m     response \u001b[38;5;241m=\u001b[39m \u001b[43mconn\u001b[49m\u001b[38;5;241;43m.\u001b[39;49m\u001b[43murlopen\u001b[49m\u001b[43m(\u001b[49m\u001b[43mmethod\u001b[49m\u001b[43m,\u001b[49m\u001b[43m \u001b[49m\u001b[43mu\u001b[49m\u001b[38;5;241;43m.\u001b[39;49m\u001b[43mrequest_uri\u001b[49m\u001b[43m,\u001b[49m\u001b[43m \u001b[49m\u001b[38;5;241;43m*\u001b[39;49m\u001b[38;5;241;43m*\u001b[39;49m\u001b[43mkw\u001b[49m\u001b[43m)\u001b[49m\n\u001b[1;32m    445\u001b[0m redirect_location \u001b[38;5;241m=\u001b[39m redirect \u001b[38;5;129;01mand\u001b[39;00m response\u001b[38;5;241m.\u001b[39mget_redirect_location()\n\u001b[1;32m    446\u001b[0m \u001b[38;5;28;01mif\u001b[39;00m \u001b[38;5;129;01mnot\u001b[39;00m redirect_location:\n",
      "File \u001b[0;32m~/Documents/github/GoogleMap/googlemap/lib/python3.9/site-packages/urllib3/connectionpool.py:873\u001b[0m, in \u001b[0;36mHTTPConnectionPool.urlopen\u001b[0;34m(self, method, url, body, headers, retries, redirect, assert_same_host, timeout, pool_timeout, release_conn, chunked, body_pos, preload_content, decode_content, **response_kw)\u001b[0m\n\u001b[1;32m    868\u001b[0m \u001b[38;5;28;01mif\u001b[39;00m \u001b[38;5;129;01mnot\u001b[39;00m conn:\n\u001b[1;32m    869\u001b[0m     \u001b[38;5;66;03m# Try again\u001b[39;00m\n\u001b[1;32m    870\u001b[0m     log\u001b[38;5;241m.\u001b[39mwarning(\n\u001b[1;32m    871\u001b[0m         \u001b[38;5;124m\"\u001b[39m\u001b[38;5;124mRetrying (\u001b[39m\u001b[38;5;132;01m%r\u001b[39;00m\u001b[38;5;124m) after connection broken by \u001b[39m\u001b[38;5;124m'\u001b[39m\u001b[38;5;132;01m%r\u001b[39;00m\u001b[38;5;124m'\u001b[39m\u001b[38;5;124m: \u001b[39m\u001b[38;5;132;01m%s\u001b[39;00m\u001b[38;5;124m\"\u001b[39m, retries, err, url\n\u001b[1;32m    872\u001b[0m     )\n\u001b[0;32m--> 873\u001b[0m     \u001b[38;5;28;01mreturn\u001b[39;00m \u001b[38;5;28;43mself\u001b[39;49m\u001b[38;5;241;43m.\u001b[39;49m\u001b[43murlopen\u001b[49m\u001b[43m(\u001b[49m\n\u001b[1;32m    874\u001b[0m \u001b[43m        \u001b[49m\u001b[43mmethod\u001b[49m\u001b[43m,\u001b[49m\n\u001b[1;32m    875\u001b[0m \u001b[43m        \u001b[49m\u001b[43murl\u001b[49m\u001b[43m,\u001b[49m\n\u001b[1;32m    876\u001b[0m \u001b[43m        \u001b[49m\u001b[43mbody\u001b[49m\u001b[43m,\u001b[49m\n\u001b[1;32m    877\u001b[0m \u001b[43m        \u001b[49m\u001b[43mheaders\u001b[49m\u001b[43m,\u001b[49m\n\u001b[1;32m    878\u001b[0m \u001b[43m        \u001b[49m\u001b[43mretries\u001b[49m\u001b[43m,\u001b[49m\n\u001b[1;32m    879\u001b[0m \u001b[43m        \u001b[49m\u001b[43mredirect\u001b[49m\u001b[43m,\u001b[49m\n\u001b[1;32m    880\u001b[0m \u001b[43m        \u001b[49m\u001b[43massert_same_host\u001b[49m\u001b[43m,\u001b[49m\n\u001b[1;32m    881\u001b[0m \u001b[43m        \u001b[49m\u001b[43mtimeout\u001b[49m\u001b[38;5;241;43m=\u001b[39;49m\u001b[43mtimeout\u001b[49m\u001b[43m,\u001b[49m\n\u001b[1;32m    882\u001b[0m \u001b[43m        \u001b[49m\u001b[43mpool_timeout\u001b[49m\u001b[38;5;241;43m=\u001b[39;49m\u001b[43mpool_timeout\u001b[49m\u001b[43m,\u001b[49m\n\u001b[1;32m    883\u001b[0m \u001b[43m        \u001b[49m\u001b[43mrelease_conn\u001b[49m\u001b[38;5;241;43m=\u001b[39;49m\u001b[43mrelease_conn\u001b[49m\u001b[43m,\u001b[49m\n\u001b[1;32m    884\u001b[0m \u001b[43m        \u001b[49m\u001b[43mchunked\u001b[49m\u001b[38;5;241;43m=\u001b[39;49m\u001b[43mchunked\u001b[49m\u001b[43m,\u001b[49m\n\u001b[1;32m    885\u001b[0m \u001b[43m        \u001b[49m\u001b[43mbody_pos\u001b[49m\u001b[38;5;241;43m=\u001b[39;49m\u001b[43mbody_pos\u001b[49m\u001b[43m,\u001b[49m\n\u001b[1;32m    886\u001b[0m \u001b[43m        \u001b[49m\u001b[43mpreload_content\u001b[49m\u001b[38;5;241;43m=\u001b[39;49m\u001b[43mpreload_content\u001b[49m\u001b[43m,\u001b[49m\n\u001b[1;32m    887\u001b[0m \u001b[43m        \u001b[49m\u001b[43mdecode_content\u001b[49m\u001b[38;5;241;43m=\u001b[39;49m\u001b[43mdecode_content\u001b[49m\u001b[43m,\u001b[49m\n\u001b[1;32m    888\u001b[0m \u001b[43m        \u001b[49m\u001b[38;5;241;43m*\u001b[39;49m\u001b[38;5;241;43m*\u001b[39;49m\u001b[43mresponse_kw\u001b[49m\u001b[43m,\u001b[49m\n\u001b[1;32m    889\u001b[0m \u001b[43m    \u001b[49m\u001b[43m)\u001b[49m\n\u001b[1;32m    891\u001b[0m \u001b[38;5;66;03m# Handle redirect?\u001b[39;00m\n\u001b[1;32m    892\u001b[0m redirect_location \u001b[38;5;241m=\u001b[39m redirect \u001b[38;5;129;01mand\u001b[39;00m response\u001b[38;5;241m.\u001b[39mget_redirect_location()\n",
      "File \u001b[0;32m~/Documents/github/GoogleMap/googlemap/lib/python3.9/site-packages/urllib3/connectionpool.py:873\u001b[0m, in \u001b[0;36mHTTPConnectionPool.urlopen\u001b[0;34m(self, method, url, body, headers, retries, redirect, assert_same_host, timeout, pool_timeout, release_conn, chunked, body_pos, preload_content, decode_content, **response_kw)\u001b[0m\n\u001b[1;32m    868\u001b[0m \u001b[38;5;28;01mif\u001b[39;00m \u001b[38;5;129;01mnot\u001b[39;00m conn:\n\u001b[1;32m    869\u001b[0m     \u001b[38;5;66;03m# Try again\u001b[39;00m\n\u001b[1;32m    870\u001b[0m     log\u001b[38;5;241m.\u001b[39mwarning(\n\u001b[1;32m    871\u001b[0m         \u001b[38;5;124m\"\u001b[39m\u001b[38;5;124mRetrying (\u001b[39m\u001b[38;5;132;01m%r\u001b[39;00m\u001b[38;5;124m) after connection broken by \u001b[39m\u001b[38;5;124m'\u001b[39m\u001b[38;5;132;01m%r\u001b[39;00m\u001b[38;5;124m'\u001b[39m\u001b[38;5;124m: \u001b[39m\u001b[38;5;132;01m%s\u001b[39;00m\u001b[38;5;124m\"\u001b[39m, retries, err, url\n\u001b[1;32m    872\u001b[0m     )\n\u001b[0;32m--> 873\u001b[0m     \u001b[38;5;28;01mreturn\u001b[39;00m \u001b[38;5;28;43mself\u001b[39;49m\u001b[38;5;241;43m.\u001b[39;49m\u001b[43murlopen\u001b[49m\u001b[43m(\u001b[49m\n\u001b[1;32m    874\u001b[0m \u001b[43m        \u001b[49m\u001b[43mmethod\u001b[49m\u001b[43m,\u001b[49m\n\u001b[1;32m    875\u001b[0m \u001b[43m        \u001b[49m\u001b[43murl\u001b[49m\u001b[43m,\u001b[49m\n\u001b[1;32m    876\u001b[0m \u001b[43m        \u001b[49m\u001b[43mbody\u001b[49m\u001b[43m,\u001b[49m\n\u001b[1;32m    877\u001b[0m \u001b[43m        \u001b[49m\u001b[43mheaders\u001b[49m\u001b[43m,\u001b[49m\n\u001b[1;32m    878\u001b[0m \u001b[43m        \u001b[49m\u001b[43mretries\u001b[49m\u001b[43m,\u001b[49m\n\u001b[1;32m    879\u001b[0m \u001b[43m        \u001b[49m\u001b[43mredirect\u001b[49m\u001b[43m,\u001b[49m\n\u001b[1;32m    880\u001b[0m \u001b[43m        \u001b[49m\u001b[43massert_same_host\u001b[49m\u001b[43m,\u001b[49m\n\u001b[1;32m    881\u001b[0m \u001b[43m        \u001b[49m\u001b[43mtimeout\u001b[49m\u001b[38;5;241;43m=\u001b[39;49m\u001b[43mtimeout\u001b[49m\u001b[43m,\u001b[49m\n\u001b[1;32m    882\u001b[0m \u001b[43m        \u001b[49m\u001b[43mpool_timeout\u001b[49m\u001b[38;5;241;43m=\u001b[39;49m\u001b[43mpool_timeout\u001b[49m\u001b[43m,\u001b[49m\n\u001b[1;32m    883\u001b[0m \u001b[43m        \u001b[49m\u001b[43mrelease_conn\u001b[49m\u001b[38;5;241;43m=\u001b[39;49m\u001b[43mrelease_conn\u001b[49m\u001b[43m,\u001b[49m\n\u001b[1;32m    884\u001b[0m \u001b[43m        \u001b[49m\u001b[43mchunked\u001b[49m\u001b[38;5;241;43m=\u001b[39;49m\u001b[43mchunked\u001b[49m\u001b[43m,\u001b[49m\n\u001b[1;32m    885\u001b[0m \u001b[43m        \u001b[49m\u001b[43mbody_pos\u001b[49m\u001b[38;5;241;43m=\u001b[39;49m\u001b[43mbody_pos\u001b[49m\u001b[43m,\u001b[49m\n\u001b[1;32m    886\u001b[0m \u001b[43m        \u001b[49m\u001b[43mpreload_content\u001b[49m\u001b[38;5;241;43m=\u001b[39;49m\u001b[43mpreload_content\u001b[49m\u001b[43m,\u001b[49m\n\u001b[1;32m    887\u001b[0m \u001b[43m        \u001b[49m\u001b[43mdecode_content\u001b[49m\u001b[38;5;241;43m=\u001b[39;49m\u001b[43mdecode_content\u001b[49m\u001b[43m,\u001b[49m\n\u001b[1;32m    888\u001b[0m \u001b[43m        \u001b[49m\u001b[38;5;241;43m*\u001b[39;49m\u001b[38;5;241;43m*\u001b[39;49m\u001b[43mresponse_kw\u001b[49m\u001b[43m,\u001b[49m\n\u001b[1;32m    889\u001b[0m \u001b[43m    \u001b[49m\u001b[43m)\u001b[49m\n\u001b[1;32m    891\u001b[0m \u001b[38;5;66;03m# Handle redirect?\u001b[39;00m\n\u001b[1;32m    892\u001b[0m redirect_location \u001b[38;5;241m=\u001b[39m redirect \u001b[38;5;129;01mand\u001b[39;00m response\u001b[38;5;241m.\u001b[39mget_redirect_location()\n",
      "File \u001b[0;32m~/Documents/github/GoogleMap/googlemap/lib/python3.9/site-packages/urllib3/connectionpool.py:873\u001b[0m, in \u001b[0;36mHTTPConnectionPool.urlopen\u001b[0;34m(self, method, url, body, headers, retries, redirect, assert_same_host, timeout, pool_timeout, release_conn, chunked, body_pos, preload_content, decode_content, **response_kw)\u001b[0m\n\u001b[1;32m    868\u001b[0m \u001b[38;5;28;01mif\u001b[39;00m \u001b[38;5;129;01mnot\u001b[39;00m conn:\n\u001b[1;32m    869\u001b[0m     \u001b[38;5;66;03m# Try again\u001b[39;00m\n\u001b[1;32m    870\u001b[0m     log\u001b[38;5;241m.\u001b[39mwarning(\n\u001b[1;32m    871\u001b[0m         \u001b[38;5;124m\"\u001b[39m\u001b[38;5;124mRetrying (\u001b[39m\u001b[38;5;132;01m%r\u001b[39;00m\u001b[38;5;124m) after connection broken by \u001b[39m\u001b[38;5;124m'\u001b[39m\u001b[38;5;132;01m%r\u001b[39;00m\u001b[38;5;124m'\u001b[39m\u001b[38;5;124m: \u001b[39m\u001b[38;5;132;01m%s\u001b[39;00m\u001b[38;5;124m\"\u001b[39m, retries, err, url\n\u001b[1;32m    872\u001b[0m     )\n\u001b[0;32m--> 873\u001b[0m     \u001b[38;5;28;01mreturn\u001b[39;00m \u001b[38;5;28;43mself\u001b[39;49m\u001b[38;5;241;43m.\u001b[39;49m\u001b[43murlopen\u001b[49m\u001b[43m(\u001b[49m\n\u001b[1;32m    874\u001b[0m \u001b[43m        \u001b[49m\u001b[43mmethod\u001b[49m\u001b[43m,\u001b[49m\n\u001b[1;32m    875\u001b[0m \u001b[43m        \u001b[49m\u001b[43murl\u001b[49m\u001b[43m,\u001b[49m\n\u001b[1;32m    876\u001b[0m \u001b[43m        \u001b[49m\u001b[43mbody\u001b[49m\u001b[43m,\u001b[49m\n\u001b[1;32m    877\u001b[0m \u001b[43m        \u001b[49m\u001b[43mheaders\u001b[49m\u001b[43m,\u001b[49m\n\u001b[1;32m    878\u001b[0m \u001b[43m        \u001b[49m\u001b[43mretries\u001b[49m\u001b[43m,\u001b[49m\n\u001b[1;32m    879\u001b[0m \u001b[43m        \u001b[49m\u001b[43mredirect\u001b[49m\u001b[43m,\u001b[49m\n\u001b[1;32m    880\u001b[0m \u001b[43m        \u001b[49m\u001b[43massert_same_host\u001b[49m\u001b[43m,\u001b[49m\n\u001b[1;32m    881\u001b[0m \u001b[43m        \u001b[49m\u001b[43mtimeout\u001b[49m\u001b[38;5;241;43m=\u001b[39;49m\u001b[43mtimeout\u001b[49m\u001b[43m,\u001b[49m\n\u001b[1;32m    882\u001b[0m \u001b[43m        \u001b[49m\u001b[43mpool_timeout\u001b[49m\u001b[38;5;241;43m=\u001b[39;49m\u001b[43mpool_timeout\u001b[49m\u001b[43m,\u001b[49m\n\u001b[1;32m    883\u001b[0m \u001b[43m        \u001b[49m\u001b[43mrelease_conn\u001b[49m\u001b[38;5;241;43m=\u001b[39;49m\u001b[43mrelease_conn\u001b[49m\u001b[43m,\u001b[49m\n\u001b[1;32m    884\u001b[0m \u001b[43m        \u001b[49m\u001b[43mchunked\u001b[49m\u001b[38;5;241;43m=\u001b[39;49m\u001b[43mchunked\u001b[49m\u001b[43m,\u001b[49m\n\u001b[1;32m    885\u001b[0m \u001b[43m        \u001b[49m\u001b[43mbody_pos\u001b[49m\u001b[38;5;241;43m=\u001b[39;49m\u001b[43mbody_pos\u001b[49m\u001b[43m,\u001b[49m\n\u001b[1;32m    886\u001b[0m \u001b[43m        \u001b[49m\u001b[43mpreload_content\u001b[49m\u001b[38;5;241;43m=\u001b[39;49m\u001b[43mpreload_content\u001b[49m\u001b[43m,\u001b[49m\n\u001b[1;32m    887\u001b[0m \u001b[43m        \u001b[49m\u001b[43mdecode_content\u001b[49m\u001b[38;5;241;43m=\u001b[39;49m\u001b[43mdecode_content\u001b[49m\u001b[43m,\u001b[49m\n\u001b[1;32m    888\u001b[0m \u001b[43m        \u001b[49m\u001b[38;5;241;43m*\u001b[39;49m\u001b[38;5;241;43m*\u001b[39;49m\u001b[43mresponse_kw\u001b[49m\u001b[43m,\u001b[49m\n\u001b[1;32m    889\u001b[0m \u001b[43m    \u001b[49m\u001b[43m)\u001b[49m\n\u001b[1;32m    891\u001b[0m \u001b[38;5;66;03m# Handle redirect?\u001b[39;00m\n\u001b[1;32m    892\u001b[0m redirect_location \u001b[38;5;241m=\u001b[39m redirect \u001b[38;5;129;01mand\u001b[39;00m response\u001b[38;5;241m.\u001b[39mget_redirect_location()\n",
      "File \u001b[0;32m~/Documents/github/GoogleMap/googlemap/lib/python3.9/site-packages/urllib3/connectionpool.py:843\u001b[0m, in \u001b[0;36mHTTPConnectionPool.urlopen\u001b[0;34m(self, method, url, body, headers, retries, redirect, assert_same_host, timeout, pool_timeout, release_conn, chunked, body_pos, preload_content, decode_content, **response_kw)\u001b[0m\n\u001b[1;32m    840\u001b[0m \u001b[38;5;28;01melif\u001b[39;00m \u001b[38;5;28misinstance\u001b[39m(new_e, (\u001b[38;5;167;01mOSError\u001b[39;00m, HTTPException)):\n\u001b[1;32m    841\u001b[0m     new_e \u001b[38;5;241m=\u001b[39m ProtocolError(\u001b[38;5;124m\"\u001b[39m\u001b[38;5;124mConnection aborted.\u001b[39m\u001b[38;5;124m\"\u001b[39m, new_e)\n\u001b[0;32m--> 843\u001b[0m retries \u001b[38;5;241m=\u001b[39m \u001b[43mretries\u001b[49m\u001b[38;5;241;43m.\u001b[39;49m\u001b[43mincrement\u001b[49m\u001b[43m(\u001b[49m\n\u001b[1;32m    844\u001b[0m \u001b[43m    \u001b[49m\u001b[43mmethod\u001b[49m\u001b[43m,\u001b[49m\u001b[43m \u001b[49m\u001b[43murl\u001b[49m\u001b[43m,\u001b[49m\u001b[43m \u001b[49m\u001b[43merror\u001b[49m\u001b[38;5;241;43m=\u001b[39;49m\u001b[43mnew_e\u001b[49m\u001b[43m,\u001b[49m\u001b[43m \u001b[49m\u001b[43m_pool\u001b[49m\u001b[38;5;241;43m=\u001b[39;49m\u001b[38;5;28;43mself\u001b[39;49m\u001b[43m,\u001b[49m\u001b[43m \u001b[49m\u001b[43m_stacktrace\u001b[49m\u001b[38;5;241;43m=\u001b[39;49m\u001b[43msys\u001b[49m\u001b[38;5;241;43m.\u001b[39;49m\u001b[43mexc_info\u001b[49m\u001b[43m(\u001b[49m\u001b[43m)\u001b[49m\u001b[43m[\u001b[49m\u001b[38;5;241;43m2\u001b[39;49m\u001b[43m]\u001b[49m\n\u001b[1;32m    845\u001b[0m \u001b[43m\u001b[49m\u001b[43m)\u001b[49m\n\u001b[1;32m    846\u001b[0m retries\u001b[38;5;241m.\u001b[39msleep()\n\u001b[1;32m    848\u001b[0m \u001b[38;5;66;03m# Keep track of the error for the retry warning.\u001b[39;00m\n",
      "File \u001b[0;32m~/Documents/github/GoogleMap/googlemap/lib/python3.9/site-packages/urllib3/util/retry.py:519\u001b[0m, in \u001b[0;36mRetry.increment\u001b[0;34m(self, method, url, response, error, _pool, _stacktrace)\u001b[0m\n\u001b[1;32m    517\u001b[0m \u001b[38;5;28;01mif\u001b[39;00m new_retry\u001b[38;5;241m.\u001b[39mis_exhausted():\n\u001b[1;32m    518\u001b[0m     reason \u001b[38;5;241m=\u001b[39m error \u001b[38;5;129;01mor\u001b[39;00m ResponseError(cause)\n\u001b[0;32m--> 519\u001b[0m     \u001b[38;5;28;01mraise\u001b[39;00m MaxRetryError(_pool, url, reason) \u001b[38;5;28;01mfrom\u001b[39;00m \u001b[38;5;21;01mreason\u001b[39;00m  \u001b[38;5;66;03m# type: ignore[arg-type]\u001b[39;00m\n\u001b[1;32m    521\u001b[0m log\u001b[38;5;241m.\u001b[39mdebug(\u001b[38;5;124m\"\u001b[39m\u001b[38;5;124mIncremented Retry for (url=\u001b[39m\u001b[38;5;124m'\u001b[39m\u001b[38;5;132;01m%s\u001b[39;00m\u001b[38;5;124m'\u001b[39m\u001b[38;5;124m): \u001b[39m\u001b[38;5;132;01m%r\u001b[39;00m\u001b[38;5;124m\"\u001b[39m, url, new_retry)\n\u001b[1;32m    523\u001b[0m \u001b[38;5;28;01mreturn\u001b[39;00m new_retry\n",
      "\u001b[0;31mMaxRetryError\u001b[0m: HTTPConnectionPool(host='localhost', port=57278): Max retries exceeded with url: /session/099672721e87bc05898169d8f5370121/elements (Caused by NewConnectionError('<urllib3.connection.HTTPConnection object at 0x109ffabb0>: Failed to establish a new connection: [Errno 61] Connection refused'))"
     ]
    }
   ],
   "source": [
    "test_elements=Main_Drive.find_elements(By.CLASS_NAME,\"hfpxzc\")"
   ]
  },
  {
   "cell_type": "code",
   "execution_count": 47,
   "metadata": {},
   "outputs": [
    {
     "data": {
      "text/plain": [
       "'땀땀'"
      ]
     },
     "execution_count": 47,
     "metadata": {},
     "output_type": "execute_result"
    }
   ],
   "source": [
    "test_elements[-1].get_attribute(\"aria-label\")"
   ]
  },
  {
   "cell_type": "code",
   "execution_count": 48,
   "metadata": {},
   "outputs": [
    {
     "data": {
      "text/plain": [
       "'https://www.google.co.kr/maps/place/%EB%95%80%EB%95%80/data=!4m7!3m6!1s0x357cbba6cab8be71:0x123ebf3924dc0759!8m2!3d37.5003867!4d127.027994!16s%2Fg%2F11hcqrdf1p!19sChIJcb64yqa7fDURWQfcJDm_PhI?authuser=0&hl=ko&rclk=1'"
      ]
     },
     "execution_count": 48,
     "metadata": {},
     "output_type": "execute_result"
    }
   ],
   "source": [
    "test_elements[-1].get_attribute(\"href\")"
   ]
  },
  {
   "cell_type": "code",
   "execution_count": 49,
   "metadata": {},
   "outputs": [],
   "source": [
    "Main_Drive.quit()"
   ]
  },
  {
   "cell_type": "code",
   "execution_count": 22,
   "metadata": {},
   "outputs": [],
   "source": [
    "# 검색창\n",
    "feedbox=Main_Drive.find_elements(By.TAG_NAME,\"div\")"
   ]
  },
  {
   "cell_type": "code",
   "execution_count": 25,
   "metadata": {},
   "outputs": [],
   "source": [
    "feed_test=[element for element in feedbox if element.get_attribute(\"role\")==\"feed\"]"
   ]
  },
  {
   "cell_type": "code",
   "execution_count": 29,
   "metadata": {},
   "outputs": [
    {
     "data": {
      "text/plain": [
       "'강남역 맛집에 대한 검색결과'"
      ]
     },
     "execution_count": 29,
     "metadata": {},
     "output_type": "execute_result"
    }
   ],
   "source": [
    "feed_test[0].get_attribute(\"aria-label\")"
   ]
  },
  {
   "cell_type": "code",
   "execution_count": 33,
   "metadata": {},
   "outputs": [],
   "source": [
    "from selenium.webdriver.common.keys import Keys\n",
    "\n",
    "for _ in range(10):\n",
    "    feed_test[0].send_keys(Keys.PAGE_DOWN)"
   ]
  },
  {
   "cell_type": "markdown",
   "metadata": {},
   "source": [
    "테스트 끝."
   ]
  },
  {
   "cell_type": "code",
   "execution_count": 37,
   "metadata": {},
   "outputs": [],
   "source": [
    "Main_Drive.quit()"
   ]
  },
  {
   "cell_type": "code",
   "execution_count": 40,
   "metadata": {},
   "outputs": [],
   "source": [
    "from threading import Thread"
   ]
  },
  {
   "cell_type": "markdown",
   "metadata": {},
   "source": [
    "구조 \n",
    "\n",
    "step 1 : url get\n",
    "\n",
    "step 2 : url을 통해 세부정보 get"
   ]
  },
  {
   "cell_type": "markdown",
   "metadata": {},
   "source": []
  }
 ],
 "metadata": {
  "kernelspec": {
   "display_name": "googlemap",
   "language": "python",
   "name": "python3"
  },
  "language_info": {
   "codemirror_mode": {
    "name": "ipython",
    "version": 3
   },
   "file_extension": ".py",
   "mimetype": "text/x-python",
   "name": "python",
   "nbconvert_exporter": "python",
   "pygments_lexer": "ipython3",
   "version": "3.9.6"
  }
 },
 "nbformat": 4,
 "nbformat_minor": 2
}

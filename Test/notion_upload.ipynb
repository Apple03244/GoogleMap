{
 "cells": [
  {
   "cell_type": "code",
   "execution_count": 3,
   "metadata": {},
   "outputs": [],
   "source": [
    "import selenium"
   ]
  },
  {
   "cell_type": "code",
   "execution_count": 55,
   "metadata": {},
   "outputs": [],
   "source": [
    "from notion_client import Client\n",
    "  \n",
    "def upload_to_notion(guides_info, notion_api, notion_db_id):\n",
    "    # notion api\n",
    "    notion = Client(auth=notion_api)\n",
    "    database_id = notion_db_id\n",
    " \n",
    "    for guide in guides_info:\n",
    "        page = notion.pages.create(\n",
    "            parent={\"database_id\": database_id},\n",
    "            properties={\n",
    "                \"Place\": {\"rich_text\": [{\"text\": {\"content\": guide[\"Place\"]}}]},\n",
    "                \"리뷰\": {\"rich_text\": [{\"text\": {\"content\": guide[\"리뷰\"]}}]},\n",
    "                \"Label\": {\"number\": guide[\"Label\"]},\n",
    "                \"User\": {\"title\": [{\"text\": {\"content\": guide[\"User\"]}}]}\n",
    "        })"
   ]
  },
  {
   "cell_type": "code",
   "execution_count": 4,
   "metadata": {},
   "outputs": [
    {
     "name": "stdout",
     "output_type": "stream",
     "text": [
      "True\n"
     ]
    }
   ],
   "source": [
    "import dotenv\n",
    "import os\n",
    "print(dotenv.load_dotenv())\n",
    "\n",
    "database_key=os.getenv(\"NOTION_DB_RASTAURANT\")\n",
    "#database_key=os.getenv(\"NOTION_DB_REVIEW\")\n",
    "api_key=os.getenv(\"NOTION_API_KEY\")"
   ]
  },
  {
   "cell_type": "code",
   "execution_count": 119,
   "metadata": {},
   "outputs": [],
   "source": [
    "from pprint import pprint\n",
    "Notion=Client(auth=api_key)\n",
    "\n",
    "pages = Notion.search(filter={\"property\": \"object\", \"value\": \"page\"})"
   ]
  },
  {
   "cell_type": "code",
   "execution_count": 103,
   "metadata": {},
   "outputs": [],
   "source": [
    "input_1,input_2,input_3,input_4,input_5=\"a\",\"b\",1,\"c\",\"d\"\n",
    "base_json_2={'Place': input_1,'리뷰': input_2,'Label':input_3,'User':input_4}"
   ]
  },
  {
   "cell_type": "code",
   "execution_count": 9,
   "metadata": {},
   "outputs": [],
   "source": [
    "# 레스토랑 db insert 기초 틀\n",
    "\n",
    "def restuarant_properties(search_term,restaurant_name,url,address,rating,category,**kwrargs):\n",
    "    \n",
    "    properties={\"검색어\" : {\"rich_text\" : [{\"text\": {\"content\": search_term}}]},\n",
    "                \"음식점이름\" : {\"title\" : [{\"text\" : {'content': restaurant_name}}]},\n",
    "                \"URL\" : {\"url\" : url},\n",
    "                \"주소\" : {\"rich_text\" : [{\"text\": {\"content\": address}}]},\n",
    "                \"별점\" : {\"number\" : rating},\n",
    "                \"카테고리\" : {\"rich_text\" : [{\"text\": {\"content\": category}}]}\n",
    "                }\n",
    "    return properties\n",
    "\n",
    "# 리뷰 db insert 기초 틀\n",
    "\n",
    "def review_properties(restaurant_name,user,review,**kwargs):\n",
    "\n",
    "    properties={\"음식점이름\" : {\"title\" : [{\"text\": {\"content\": restaurant_name}}]},\n",
    "                \"유저\" : {\"rich_text\" : [{\"text\": {\"content\": user}}]},\n",
    "                \"리뷰\" : {\"rich_text\" : [{\"text\": {\"content\": review}}]}\n",
    "                }\n",
    "    return properties"
   ]
  },
  {
   "cell_type": "code",
   "execution_count": 16,
   "metadata": {},
   "outputs": [
    {
     "name": "stdout",
     "output_type": "stream",
     "text": [
      "Writing NotionUpload.py\n"
     ]
    }
   ],
   "source": [
    "%%writefile NotionUpload.py\n",
    "\n",
    "from notion_client import Client\n",
    "from typing import List,Dict\n",
    "\n",
    "class Notion(Client):\n",
    "    def __init__(self, options = None, client = None, **kwargs):\n",
    "        super().__init__(options, client, **kwargs)\n",
    "\n",
    "    def upload_to_notion(self,database_id,infos:List[Dict]):\n",
    "        for sub_info in infos:\n",
    "            page=self.pages.create(\n",
    "                parent={\"database_id\": database_id},\n",
    "                properties=sub_info\n",
    "            )"
   ]
  },
  {
   "cell_type": "code",
   "execution_count": 6,
   "metadata": {},
   "outputs": [],
   "source": [
    "TestClass=Notion(auth=api_key)"
   ]
  },
  {
   "cell_type": "code",
   "execution_count": 7,
   "metadata": {},
   "outputs": [],
   "source": [
    "#TestClass.search(filter={\"property\": \"object\", \"value\": \"page\"})"
   ]
  },
  {
   "cell_type": "code",
   "execution_count": 10,
   "metadata": {},
   "outputs": [],
   "source": [
    "json_info_test=restuarant_properties(\"검색어테스트\",\"음식점이름\",\"http://www.test.com\",\"address_test\",3,\"cate_test\")"
   ]
  },
  {
   "cell_type": "code",
   "execution_count": 15,
   "metadata": {},
   "outputs": [],
   "source": [
    "TestClass.upload_to_notion(database_key,[json_info_test])"
   ]
  },
  {
   "cell_type": "code",
   "execution_count": null,
   "metadata": {},
   "outputs": [],
   "source": []
  }
 ],
 "metadata": {
  "kernelspec": {
   "display_name": "googlemap",
   "language": "python",
   "name": "python3"
  },
  "language_info": {
   "codemirror_mode": {
    "name": "ipython",
    "version": 3
   },
   "file_extension": ".py",
   "mimetype": "text/x-python",
   "name": "python",
   "nbconvert_exporter": "python",
   "pygments_lexer": "ipython3",
   "version": "3.9.6"
  }
 },
 "nbformat": 4,
 "nbformat_minor": 2
}
